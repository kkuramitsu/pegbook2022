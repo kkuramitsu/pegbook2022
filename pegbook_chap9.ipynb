{
 "cells": [
  {
   "cell_type": "markdown",
   "metadata": {},
   "source": [
    "# PEGパーサを作る"
   ]
  },
  {
   "cell_type": "markdown",
   "metadata": {},
   "source": [
    "## クラス設計"
   ]
  },
  {
   "cell_type": "code",
   "execution_count": 3,
   "metadata": {},
   "outputs": [],
   "source": [
    "from abc import ABC\n",
    "\n",
    "class PExpr(ABC):\n",
    "    pass\n",
    "\n",
    "class PChar(PExpr):\n",
    "    text: str\n",
    "    def __init__(self, text):\n",
    "        self.text = text\n",
    "\n",
    "assert PChar('')    # ''\n",
    "assert PChar('a')   # a\n",
    "assert PChar('ab')  # ab\n",
    "\n",
    "\n",
    "class PAny(PExpr):\n",
    "    pass\n",
    "\n",
    "assert PAny()  # .\n",
    "\n",
    "class PNot(PExpr):\n",
    "    e: PExpr\n",
    "    def __init__(self, e: PExpr):\n",
    "        self.e = e\n",
    "\n",
    "assert PNot(PChar('a'))  # !a\n",
    "assert PNot(PNot(PChar('a')))  # &a\n",
    "\n",
    "class PSeq(PExpr):\n",
    "    e1: PExpr\n",
    "    e2: PExpr\n",
    "    def __init__(self, e1: PExpr, e2: PExpr):\n",
    "        self.e1 = e1\n",
    "        self.e2 = e2\n",
    "\n",
    "assert PSeq(PChar('a'), PChar('b'))\n",
    "assert PSeq(PChar('a'), PSeq(PChar('b'), PChar('c')))\n",
    "\n",
    "class POre(PExpr):\n",
    "    e1: PExpr\n",
    "    e2: PExpr\n",
    "    def __init__(self, e1: PExpr, e2: PExpr):\n",
    "        self.e1 = e1\n",
    "        self.e2 = e2\n",
    "\n",
    "assert POre(PChar('a'), PChar('b'))\n",
    "assert POre(PChar('a'), POre(PChar('b'), PChar('c')))\n",
    "\n",
    "class PRef(PExpr):\n",
    "    peg: dict # PEG 文法\n",
    "    name: str # 非終端記号の名前 \n",
    "    def __init__(self, peg, name):\n",
    "        self.peg = peg\n",
    "        self.name = name\n",
    "\n",
    "peg = {}\n",
    "peg['A'] = PRef(peg, 'B') \n",
    "peg['B'] = PChar('b')"
   ]
  },
  {
   "cell_type": "markdown",
   "metadata": {},
   "source": [
    "## パーザインタプリタ"
   ]
  },
  {
   "cell_type": "code",
   "execution_count": 4,
   "metadata": {},
   "outputs": [],
   "source": [
    "from abc import ABC, abstractmethod\n",
    "class PExpr(ABC):\n",
    "    @abstractmethod\n",
    "    def match(self, x):\n",
    "        pass # 抽象メソッドなので何もしない"
   ]
  },
  {
   "cell_type": "markdown",
   "metadata": {},
   "source": [
    "### PChar :文字マッチのクラス定義"
   ]
  },
  {
   "cell_type": "code",
   "execution_count": 5,
   "metadata": {},
   "outputs": [
    {
     "data": {
      "text/plain": [
       "'b'"
      ]
     },
     "execution_count": 5,
     "metadata": {},
     "output_type": "execute_result"
    }
   ],
   "source": [
    "class PChar(PExpr):\n",
    "    text: str\n",
    "    def __init__(self, text):\n",
    "        self.text = text\n",
    "    def match(self, x):\n",
    "        if x.startswith(self.text):\n",
    "            y = x[len(self.text):]\n",
    "            return y\n",
    "        return None\n",
    "\n",
    "\n",
    "PChar('a').match('ab')"
   ]
  },
  {
   "cell_type": "markdown",
   "metadata": {},
   "source": [
    "### PAny :任意 1 文字マッチのクラス定義"
   ]
  },
  {
   "cell_type": "code",
   "execution_count": 6,
   "metadata": {},
   "outputs": [
    {
     "data": {
      "text/plain": [
       "'b'"
      ]
     },
     "execution_count": 6,
     "metadata": {},
     "output_type": "execute_result"
    }
   ],
   "source": [
    "class PAny(PExpr):\n",
    "    def match(self, x):\n",
    "        if len(x) > 0:\n",
    "            y = x[1:]\n",
    "            return y\n",
    "        return None\n",
    "\n",
    "PAny().match('ab')"
   ]
  },
  {
   "cell_type": "markdown",
   "metadata": {},
   "source": [
    "### PNot :否定のクラス定義"
   ]
  },
  {
   "cell_type": "code",
   "execution_count": 7,
   "metadata": {},
   "outputs": [
    {
     "data": {
      "text/plain": [
       "'ab'"
      ]
     },
     "execution_count": 7,
     "metadata": {},
     "output_type": "execute_result"
    }
   ],
   "source": [
    "class PNot(PExpr):\n",
    "    e: PExpr\n",
    "    def __init__(self, e: PExpr):\n",
    "        self.e = e\n",
    "    def match(self, x):\n",
    "        o = self.e.match(x)\n",
    "        if o is None:\n",
    "            return x\n",
    "        return None\n",
    "\n",
    "PNot(PChar('b')).match('ab')"
   ]
  },
  {
   "cell_type": "code",
   "execution_count": 8,
   "metadata": {},
   "outputs": [
    {
     "data": {
      "text/plain": [
       "''"
      ]
     },
     "execution_count": 8,
     "metadata": {},
     "output_type": "execute_result"
    }
   ],
   "source": [
    "class PSeq(PExpr):\n",
    "    e1: PExpr\n",
    "    e2: PExpr\n",
    "    def __init__(self, e1, e2):\n",
    "        self.e1 = e1\n",
    "        self.e2 = e2\n",
    "    def match(self, x):\n",
    "        y = self.e1.match(x)\n",
    "        if y is None:\n",
    "            return None\n",
    "        return self.e2.match(y)\n",
    "\n",
    "e = PSeq(PChar('a'), PChar('b')) \n",
    "e.match('ab')"
   ]
  },
  {
   "cell_type": "code",
   "execution_count": 9,
   "metadata": {},
   "outputs": [
    {
     "data": {
      "text/plain": [
       "'b'"
      ]
     },
     "execution_count": 9,
     "metadata": {},
     "output_type": "execute_result"
    }
   ],
   "source": [
    "class POre(PExpr):\n",
    "    e1: PExpr\n",
    "    e2: PExpr\n",
    "    def __init__(self, e1, e2):\n",
    "        self.e1 = e1\n",
    "        self.e2 = e2\n",
    "    def match(self, x):\n",
    "        y = self.e1.match(x)\n",
    "        if y != None:\n",
    "            return y\n",
    "        return self.e2.match(x)\n",
    "\n",
    "\n",
    "e = POre(PChar('a'), PChar('b')) \n",
    "e.match('ab')"
   ]
  },
  {
   "cell_type": "code",
   "execution_count": 10,
   "metadata": {},
   "outputs": [
    {
     "data": {
      "text/plain": [
       "'b'"
      ]
     },
     "execution_count": 10,
     "metadata": {},
     "output_type": "execute_result"
    }
   ],
   "source": [
    "e = POre(PChar('b'), PChar('a')) \n",
    "e.match('ab')"
   ]
  },
  {
   "cell_type": "markdown",
   "metadata": {},
   "source": [
    "### PRef: 非終端記号"
   ]
  },
  {
   "cell_type": "code",
   "execution_count": 11,
   "metadata": {},
   "outputs": [
    {
     "data": {
      "text/plain": [
       "'b'"
      ]
     },
     "execution_count": 11,
     "metadata": {},
     "output_type": "execute_result"
    }
   ],
   "source": [
    "class PRef(PExpr):\n",
    "    peg: dict\n",
    "    name: str\n",
    "    def __init__(self, peg, name):\n",
    "        self.peg = peg\n",
    "        self.name = name\n",
    "    def match(self, x):\n",
    "        e = self.peg[self.name]\n",
    "        return e.match(x)\n",
    "\n",
    "peg = {}\n",
    "peg[\"A\"] = PRef(peg, \"B\") \n",
    "peg[\"B\"] = PChar('b')\n",
    "\n",
    "peg['A'].match('bb')"
   ]
  },
  {
   "cell_type": "code",
   "execution_count": 12,
   "metadata": {},
   "outputs": [
    {
     "data": {
      "text/plain": [
       "'bb'"
      ]
     },
     "execution_count": 12,
     "metadata": {},
     "output_type": "execute_result"
    }
   ],
   "source": [
    "peg = {}\n",
    "peg[\"A\"] = POre(PSeq(PChar('a'), PRef(peg, 'A')), PChar(''))\n",
    "\n",
    "peg['A'].match('aaaabb')"
   ]
  },
  {
   "cell_type": "markdown",
   "metadata": {},
   "source": [
    "### 9.4.1 コンストラクタ関数"
   ]
  },
  {
   "cell_type": "code",
   "execution_count": 13,
   "metadata": {},
   "outputs": [
    {
     "data": {
      "text/plain": [
       "'b'"
      ]
     },
     "execution_count": 13,
     "metadata": {},
     "output_type": "execute_result"
    }
   ],
   "source": [
    "def POption(e):\n",
    "    if isinstance(e, str):\n",
    "        e = PChar(e)\n",
    "    return POre(e, PChar(''))\n",
    "\n",
    "POption('a').match('ab')"
   ]
  },
  {
   "cell_type": "code",
   "execution_count": 14,
   "metadata": {},
   "outputs": [
    {
     "data": {
      "text/plain": [
       "'ba'"
      ]
     },
     "execution_count": 14,
     "metadata": {},
     "output_type": "execute_result"
    }
   ],
   "source": [
    "POption('a').match('ba')"
   ]
  },
  {
   "cell_type": "code",
   "execution_count": 15,
   "metadata": {},
   "outputs": [
    {
     "data": {
      "text/plain": [
       "'a'"
      ]
     },
     "execution_count": 15,
     "metadata": {},
     "output_type": "execute_result"
    }
   ],
   "source": [
    "def PRange(text):\n",
    "    if len(text) == 1:\n",
    "        return PChar(text)\n",
    "    return POre(PChar(text[0]), PRange(text[1:]))\n",
    "\n",
    "PRange('ab').match('ba')"
   ]
  },
  {
   "cell_type": "markdown",
   "metadata": {},
   "source": [
    "### 9.4.2 繰り返し"
   ]
  },
  {
   "cell_type": "code",
   "execution_count": 21,
   "metadata": {},
   "outputs": [],
   "source": [
    "class PMany(PExpr):\n",
    "    e: PExpr\n",
    "    def __init__(self, e):\n",
    "        self.e = e\n",
    "    def match(self, x):\n",
    "        y = self.e.match(x)\n",
    "        while y != None:\n",
    "            x = y\n",
    "            y = self.e.match(x)\n",
    "        return x"
   ]
  },
  {
   "cell_type": "code",
   "execution_count": 22,
   "metadata": {},
   "outputs": [
    {
     "data": {
      "text/plain": [
       "'bb'"
      ]
     },
     "execution_count": 22,
     "metadata": {},
     "output_type": "execute_result"
    }
   ],
   "source": [
    "PMany(PChar('a')).match('aaaabb')"
   ]
  },
  {
   "cell_type": "code",
   "execution_count": 23,
   "metadata": {},
   "outputs": [
    {
     "data": {
      "text/plain": [
       "'bbaaaa'"
      ]
     },
     "execution_count": 23,
     "metadata": {},
     "output_type": "execute_result"
    }
   ],
   "source": [
    "PMany(PChar('a')).match('bbaaaa')"
   ]
  },
  {
   "cell_type": "markdown",
   "metadata": {},
   "source": [
    "### PEG 演算子のオーバーロード\n",
    "\n",
    "上位クラス(PExpr)を修正したら、サブクラスも再度、実行して定義し直す。"
   ]
  },
  {
   "cell_type": "code",
   "execution_count": 24,
   "metadata": {},
   "outputs": [],
   "source": [
    "class PExpr(object):\n",
    "    def __truediv__(self, e):\n",
    "        if isinstance(e, str):\n",
    "            e = PChar(e)\n",
    "        return POre(self, e)\n",
    "\n",
    "class PRef(PExpr):\n",
    "    peg: dict\n",
    "    name: str\n",
    "    def __init__(self, peg, name):\n",
    "        self.peg = peg\n",
    "        self.name = name\n",
    "    def match(self, x):\n",
    "        e = self.peg[self.name]\n",
    "        return e.match(x)\n",
    "\n",
    "peg = {}\n",
    "peg[\"A\"] = PRef(peg, \"B\") / 'a' \n",
    "peg[\"B\"] = PChar('b')"
   ]
  },
  {
   "cell_type": "code",
   "execution_count": null,
   "metadata": {},
   "outputs": [],
   "source": []
  }
 ],
 "metadata": {
  "interpreter": {
   "hash": "aee8b7b246df8f9039afb4144a1f6fd8d2ca17a180786b69acc140d282b71a49"
  },
  "kernelspec": {
   "display_name": "Python 3.9.7 64-bit",
   "language": "python",
   "name": "python3"
  },
  "language_info": {
   "codemirror_mode": {
    "name": "ipython",
    "version": 3
   },
   "file_extension": ".py",
   "mimetype": "text/x-python",
   "name": "python",
   "nbconvert_exporter": "python",
   "pygments_lexer": "ipython3",
   "version": "3.9.7"
  },
  "orig_nbformat": 4
 },
 "nbformat": 4,
 "nbformat_minor": 2
}
