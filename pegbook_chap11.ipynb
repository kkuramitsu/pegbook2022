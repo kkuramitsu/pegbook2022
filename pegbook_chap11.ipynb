{
 "cells": [
  {
   "cell_type": "markdown",
   "metadata": {},
   "source": [
    "# 実用的なPEGパーサの開発"
   ]
  },
  {
   "cell_type": "markdown",
   "metadata": {},
   "source": [
    "## 11.1 パーザコンテクスト"
   ]
  },
  {
   "cell_type": "code",
   "execution_count": 1,
   "metadata": {},
   "outputs": [],
   "source": [
    "class PContext(object):\n",
    "    inputs: str # 解析対象の入力文字列\n",
    "    pos: int # パーザが現在解析している位置\n",
    "    epos: int # 文字列上の終端の位置\n",
    "    errpos: int # エラーが発生した位置\n",
    "    ptree: object # パーザが構築中の構文木\n",
    "    memos: list # Packrat 構文解析法用のメモ表\n"
   ]
  },
  {
   "cell_type": "code",
   "execution_count": 2,
   "metadata": {},
   "outputs": [
    {
     "data": {
      "text/plain": [
       "<function __main__.pChar.<locals>.match(px)>"
      ]
     },
     "execution_count": 2,
     "metadata": {},
     "output_type": "execute_result"
    }
   ],
   "source": [
    "def pChar(text):\n",
    "    def match(px):\n",
    "        if px.inputs.startswith(text, px.pos):\n",
    "            px.pos += len(text)\n",
    "            return True\n",
    "        return False\n",
    "    return match\n",
    "\n",
    "pChar('abc')"
   ]
  },
  {
   "cell_type": "code",
   "execution_count": 3,
   "metadata": {},
   "outputs": [],
   "source": [
    " def pSeq(e1, e2):\n",
    "    def match(px):\n",
    "        return e1(px) and e2(px)\n",
    "    return match"
   ]
  },
  {
   "cell_type": "code",
   "execution_count": 5,
   "metadata": {},
   "outputs": [],
   "source": [
    "def pOre2(e1, e2):\n",
    "    def match(px):\n",
    "        pos = px.pos # ローカル変数にコピー \n",
    "        if e1(px):\n",
    "            return True\n",
    "        px.errpos = max(px.pos, px.errpos)\n",
    "        px.pos = pos # ローカル変数からバックトラッキング処理 \n",
    "        return e2(px)\n",
    "    return match"
   ]
  },
  {
   "cell_type": "code",
   "execution_count": 6,
   "metadata": {},
   "outputs": [],
   "source": [
    "def pNot(e):\n",
    "    def match(px):\n",
    "        pos = px.pos # 処理前の状態をローカル変数に \n",
    "        if not e():\n",
    "            px.errpos = max(px.pos, px.errpos) \n",
    "            px.pos = pos # バックトラッキング処理 \n",
    "            return True\n",
    "        return False\n",
    "    return match"
   ]
  },
  {
   "cell_type": "code",
   "execution_count": 7,
   "metadata": {},
   "outputs": [],
   "source": [
    "def pMany(e):\n",
    "    def match(px):\n",
    "        pos = px.pos\n",
    "        while e(px) and px.pos > pos:\n",
    "            pos = px.pos # 状態を更新 \n",
    "        px.errpos = max(px.pos, px.errpos) \n",
    "        return True\n",
    "    return match"
   ]
  },
  {
   "cell_type": "markdown",
   "metadata": {},
   "source": [
    "## 構文木"
   ]
  },
  {
   "cell_type": "code",
   "execution_count": 8,
   "metadata": {},
   "outputs": [],
   "source": [
    "def pToken(e):\n",
    "    def match(px):\n",
    "        pos = px.pos\n",
    "        if e(px):\n",
    "            token = px.inputs[pos:px.pos]\n",
    "            px.ptree.append(token)\n",
    "            return True\n",
    "        return False\n",
    "    return match"
   ]
  },
  {
   "cell_type": "code",
   "execution_count": 9,
   "metadata": {},
   "outputs": [],
   "source": [
    "def pToken(e):\n",
    "    def match(px):\n",
    "        pos = px.pos\n",
    "        if e(px):\n",
    "            token = px.inputs[pos:px.pos]\n",
    "            px.ptree = px.tree + (token,)\n",
    "            return True\n",
    "        return False\n",
    "    return match"
   ]
  },
  {
   "cell_type": "code",
   "execution_count": 10,
   "metadata": {},
   "outputs": [],
   "source": [
    "def pToken(e):\n",
    "    def match(px):\n",
    "        pos = px.pos\n",
    "        if e(px):\n",
    "            token = px.inputs[pos:px.pos]\n",
    "            px.ptree = (px.ptree, token)\n",
    "            return True\n",
    "        return False\n",
    "    return match"
   ]
  },
  {
   "cell_type": "code",
   "execution_count": 11,
   "metadata": {},
   "outputs": [],
   "source": [
    "def pRange(chars, ranges):\n",
    "    def match(px):\n",
    "        if px.pos < px.epos:\n",
    "            c = px.inputs[px.pos]\n",
    "            for c2 in chars:\n",
    "                if c == c2:\n",
    "                    px.pos += 1\n",
    "                    return True\n",
    "            rs = ranges\n",
    "            while len(rs) > 0:\n",
    "                if rs[0] <= c <= rs[1]:\n",
    "                    px.pos += 1\n",
    "                    return True\n",
    "                rs = rs[2:]\n",
    "        return False\n",
    "    return match"
   ]
  },
  {
   "cell_type": "code",
   "execution_count": null,
   "metadata": {},
   "outputs": [],
   "source": [
    "# ライブラリを活用しない場合\n",
    "c = px.inputs[px.pos]\n",
    "for c2 in chars:\n",
    "    if c == c2:\n",
    "        px.pos += 1\n",
    "        return True\n",
    "\n",
    "# ライブラリを活用する場合\n",
    "c = px.inputs[px.pos]\n",
    "if chars.find(c) != -1:\n",
    "    px.pos += 1\n",
    "    return True"
   ]
  },
  {
   "cell_type": "code",
   "execution_count": 12,
   "metadata": {},
   "outputs": [],
   "source": [
    "def tochars(chars, ranges):\n",
    "    cs = set(list(chars))\n",
    "    rs = ranges\n",
    "    while len(rs) > 0:\n",
    "       r = range(ord(rs[0]), ord(rs[1])+1)\n",
    "       cs |= set(map(chr, r))\n",
    "       rs = rs[2:]\n",
    "    return ''.join(cs)"
   ]
  },
  {
   "cell_type": "code",
   "execution_count": null,
   "metadata": {},
   "outputs": [],
   "source": [
    "# 事前に変換する\n",
    "def pRange(chars, ranges):\n",
    "    chars = tochars(chars, ranges)\n",
    "    def match(px):\n",
    "        if px.pos < px.epos:\n",
    "            c = px.inputs[px.pos]\n",
    "            if chars.find(c) != -1:\n",
    "                px.pos += 1\n",
    "                return True\n",
    "        return False\n",
    "    return match"
   ]
  },
  {
   "cell_type": "code",
   "execution_count": null,
   "metadata": {},
   "outputs": [],
   "source": [
    "# パーザ関数内で変換する\n",
    "def pRange(chars, ranges):\n",
    "    def match(px):\n",
    "        if px.pos < px.epos:\n",
    "            c = px.inputs[px.pos]\n",
    "            chars = tochars(chars, ranges)\n",
    "            if chars.find(c) != -1:\n",
    "                px.pos += 1\n",
    "                return True\n",
    "        return False\n",
    "    return match"
   ]
  }
 ],
 "metadata": {
  "interpreter": {
   "hash": "aee8b7b246df8f9039afb4144a1f6fd8d2ca17a180786b69acc140d282b71a49"
  },
  "kernelspec": {
   "display_name": "Python 3.9.7 64-bit",
   "language": "python",
   "name": "python3"
  },
  "language_info": {
   "codemirror_mode": {
    "name": "ipython",
    "version": 3
   },
   "file_extension": ".py",
   "mimetype": "text/x-python",
   "name": "python",
   "nbconvert_exporter": "python",
   "pygments_lexer": "ipython3",
   "version": "3.9.7"
  },
  "orig_nbformat": 4
 },
 "nbformat": 4,
 "nbformat_minor": 2
}
