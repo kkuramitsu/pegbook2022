{
  "nbformat": 4,
  "nbformat_minor": 0,
  "metadata": {
    "colab": {
      "name": "pegbook2021 第4章,第5章,第6章",
      "provenance": []
    },
    "kernelspec": {
      "display_name": "Python 3",
      "name": "python3"
    }
  },
  "cells": [
    {
      "cell_type": "markdown",
      "metadata": {
        "id": "PuGWgKiC6ssa"
      },
      "source": [
        "# 第4章　構文木とPegTree\n",
        "\n"
      ]
    },
    {
      "cell_type": "markdown",
      "metadata": {
        "id": "Xg-LulTK6zxJ"
      },
      "source": [
        "## PegTree の利用"
      ]
    },
    {
      "cell_type": "code",
      "metadata": {
        "colab": {
          "base_uri": "https://localhost:8080/"
        },
        "id": "lIYdn1woOS1n",
        "outputId": "433f911b-eb69-467a-f811-1847d4b9ba1c"
      },
      "source": [
        "!pip install pegtree"
      ],
      "execution_count": null,
      "outputs": [
        {
          "output_type": "stream",
          "name": "stdout",
          "text": [
            "Collecting pegtree\n",
            "  Downloading pegtree-0.9.16-py3-none-any.whl (159 kB)\n",
            "\u001b[K     |████████████████████████████████| 159 kB 6.2 MB/s \n",
            "\u001b[?25hInstalling collected packages: pegtree\n",
            "Successfully installed pegtree-0.9.16\n"
          ]
        }
      ]
    },
    {
      "cell_type": "code",
      "metadata": {
        "id": "5h9bZPFqUcZG"
      },
      "source": [
        "import pegtree as pg\n",
        "from pegtree.colab import peg, pegtree, pasm, jsonfy, jsontree\n"
      ],
      "execution_count": null,
      "outputs": []
    },
    {
      "cell_type": "markdown",
      "source": [
        "## p.47"
      ],
      "metadata": {
        "id": "JSrhUs-HwiAF"
      }
    },
    {
      "cell_type": "code",
      "metadata": {
        "colab": {
          "base_uri": "https://localhost:8080/",
          "height": 441
        },
        "id": "vYY-CK14UeFV",
        "outputId": "f4dd6da1-4119-4cf1-cb2a-6ada970993fe"
      },
      "source": [
        "%%peg\n",
        "\n",
        "Expr = { Prod \"+\" Expr #Add } / Prod\n",
        "Prod = { Term \"*\" Term #Mul } / Term\n",
        "Term = Int / \"(\" Expr \")\"\n",
        "Int = { [0-9]+ #Int }\n",
        "\n",
        "example Expr (1+2)*3@\n"
      ],
      "execution_count": null,
      "outputs": [
        {
          "output_type": "display_data",
          "data": {
            "text/html": [
              "<b>Expr</b> (1+2)*3<span style=\"background-color:#FFCACA;\">@</span>"
            ],
            "text/plain": [
              "<IPython.core.display.HTML object>"
            ]
          },
          "metadata": {}
        },
        {
          "output_type": "display_data",
          "data": {
            "text/plain": [
              "<IPython.core.display.SVG object>"
            ],
            "image/svg+xml": "<svg height=\"287pt\" viewBox=\"0.00 0.00 215.87 287.00\" width=\"216pt\" xmlns=\"http://www.w3.org/2000/svg\" xmlns:xlink=\"http://www.w3.org/1999/xlink\">\n<g class=\"graph\" id=\"graph0\" transform=\"scale(1 1) rotate(0) translate(4 283)\">\n<title>tree</title>\n<polygon fill=\"#ffffff\" points=\"-4,4 -4,-283 211.8652,-283 211.8652,4 -4,4\" stroke=\"transparent\"/>\n<!-- n1 -->\n<g class=\"node\" id=\"node1\">\n<title>n1</title>\n<ellipse cx=\"140.9326\" cy=\"-261\" fill=\"none\" rx=\"28.8653\" ry=\"18\" stroke=\"#000000\"/>\n<text fill=\"#000000\" font-family=\"Meiryo UI\" font-size=\"12.00\" text-anchor=\"middle\" x=\"140.9326\" y=\"-257.9\">#Mul</text>\n</g>\n<!-- n2 -->\n<g class=\"node\" id=\"node2\">\n<title>n2</title>\n<ellipse cx=\"102.9326\" cy=\"-176\" fill=\"none\" rx=\"28.8653\" ry=\"18\" stroke=\"#000000\"/>\n<text fill=\"#000000\" font-family=\"Meiryo UI\" font-size=\"12.00\" text-anchor=\"middle\" x=\"102.9326\" y=\"-172.9\">#Add</text>\n</g>\n<!-- n1&#45;&gt;n2 -->\n<g class=\"edge\" id=\"edge5\">\n<title>n1-&gt;n2</title>\n<path d=\"M133.059,-243.3879C127.811,-231.6491 120.8145,-215.9989 114.8849,-202.7355\" fill=\"none\" stroke=\"#000000\"/>\n<polygon fill=\"#000000\" points=\"118.0727,-201.2903 110.7961,-193.5895 111.6823,-204.1472 118.0727,-201.2903\" stroke=\"#000000\"/>\n<text fill=\"#000000\" font-family=\"Times,serif\" font-size=\"12.00\" text-anchor=\"middle\" x=\"128.4326\" y=\"-215.4\">0</text>\n</g>\n<!-- n5 -->\n<g class=\"node\" id=\"node7\">\n<title>n5</title>\n<ellipse cx=\"178.9326\" cy=\"-176\" fill=\"none\" rx=\"28.8653\" ry=\"18\" stroke=\"#000000\"/>\n<text fill=\"#000000\" font-family=\"Meiryo UI\" font-size=\"12.00\" text-anchor=\"middle\" x=\"178.9326\" y=\"-172.9\">#Int</text>\n</g>\n<!-- n1&#45;&gt;n5 -->\n<g class=\"edge\" id=\"edge7\">\n<title>n1-&gt;n5</title>\n<path d=\"M148.8062,-243.3879C154.0542,-231.6491 161.0507,-215.9989 166.9803,-202.7355\" fill=\"none\" stroke=\"#000000\"/>\n<polygon fill=\"#000000\" points=\"170.1829,-204.1472 171.0691,-193.5895 163.7925,-201.2903 170.1829,-204.1472\" stroke=\"#000000\"/>\n<text fill=\"#000000\" font-family=\"Times,serif\" font-size=\"12.00\" text-anchor=\"middle\" x=\"166.4326\" y=\"-215.4\">1</text>\n</g>\n<!-- n3 -->\n<g class=\"node\" id=\"node3\">\n<title>n3</title>\n<ellipse cx=\"28.9326\" cy=\"-91\" fill=\"none\" rx=\"28.8653\" ry=\"18\" stroke=\"#000000\"/>\n<text fill=\"#000000\" font-family=\"Meiryo UI\" font-size=\"12.00\" text-anchor=\"middle\" x=\"28.9326\" y=\"-87.9\">#Int</text>\n</g>\n<!-- n2&#45;&gt;n3 -->\n<g class=\"edge\" id=\"edge2\">\n<title>n2-&gt;n3</title>\n<path d=\"M89.0138,-160.0122C77.8509,-147.19 62.0213,-129.0073 49.4124,-114.5242\" fill=\"none\" stroke=\"#000000\"/>\n<polygon fill=\"#000000\" points=\"51.995,-112.1602 42.789,-106.9162 46.7154,-116.7566 51.995,-112.1602\" stroke=\"#000000\"/>\n<text fill=\"#000000\" font-family=\"Times,serif\" font-size=\"12.00\" text-anchor=\"middle\" x=\"74.4326\" y=\"-130.4\">0</text>\n</g>\n<!-- n4 -->\n<g class=\"node\" id=\"node5\">\n<title>n4</title>\n<ellipse cx=\"104.9326\" cy=\"-91\" fill=\"none\" rx=\"28.8653\" ry=\"18\" stroke=\"#000000\"/>\n<text fill=\"#000000\" font-family=\"Meiryo UI\" font-size=\"12.00\" text-anchor=\"middle\" x=\"104.9326\" y=\"-87.9\">#Int</text>\n</g>\n<!-- n2&#45;&gt;n4 -->\n<g class=\"edge\" id=\"edge4\">\n<title>n2-&gt;n4</title>\n<path d=\"M103.3567,-157.9737C103.6219,-146.7043 103.969,-131.9524 104.2699,-119.1627\" fill=\"none\" stroke=\"#000000\"/>\n<polygon fill=\"#000000\" points=\"107.7728,-119.0799 104.5091,-109.0003 100.7747,-118.9152 107.7728,-119.0799\" stroke=\"#000000\"/>\n<text fill=\"#000000\" font-family=\"Times,serif\" font-size=\"12.00\" text-anchor=\"middle\" x=\"108.4326\" y=\"-130.4\">1</text>\n</g>\n<!-- c3 -->\n<g class=\"node\" id=\"node4\">\n<title>c3</title>\n<polygon fill=\"none\" points=\"55.9326,-36 1.9326,-36 1.9326,0 55.9326,0 55.9326,-36\" stroke=\"#000000\"/>\n<text fill=\"#0000ff\" font-family=\"monospace\" font-size=\"12.00\" text-anchor=\"middle\" x=\"28.9326\" y=\"-14.9\">'1'</text>\n</g>\n<!-- n3&#45;&gt;c3 -->\n<g class=\"edge\" id=\"edge1\">\n<title>n3-&gt;c3</title>\n<path d=\"M28.9326,-72.9551C28.9326,-64.8828 28.9326,-55.1764 28.9326,-46.1817\" fill=\"none\" stroke=\"#000000\"/>\n<polygon fill=\"#000000\" points=\"32.4327,-46.0903 28.9326,-36.0904 25.4327,-46.0904 32.4327,-46.0903\" stroke=\"#000000\"/>\n</g>\n<!-- c4 -->\n<g class=\"node\" id=\"node6\">\n<title>c4</title>\n<polygon fill=\"none\" points=\"131.9326,-36 77.9326,-36 77.9326,0 131.9326,0 131.9326,-36\" stroke=\"#000000\"/>\n<text fill=\"#0000ff\" font-family=\"monospace\" font-size=\"12.00\" text-anchor=\"middle\" x=\"104.9326\" y=\"-14.9\">'2'</text>\n</g>\n<!-- n4&#45;&gt;c4 -->\n<g class=\"edge\" id=\"edge3\">\n<title>n4-&gt;c4</title>\n<path d=\"M104.9326,-72.9551C104.9326,-64.8828 104.9326,-55.1764 104.9326,-46.1817\" fill=\"none\" stroke=\"#000000\"/>\n<polygon fill=\"#000000\" points=\"108.4327,-46.0903 104.9326,-36.0904 101.4327,-46.0904 108.4327,-46.0903\" stroke=\"#000000\"/>\n</g>\n<!-- c5 -->\n<g class=\"node\" id=\"node8\">\n<title>c5</title>\n<polygon fill=\"none\" points=\"205.9326,-109 151.9326,-109 151.9326,-73 205.9326,-73 205.9326,-109\" stroke=\"#000000\"/>\n<text fill=\"#0000ff\" font-family=\"monospace\" font-size=\"12.00\" text-anchor=\"middle\" x=\"178.9326\" y=\"-87.9\">'3'</text>\n</g>\n<!-- n5&#45;&gt;c5 -->\n<g class=\"edge\" id=\"edge6\">\n<title>n5-&gt;c5</title>\n<path d=\"M178.9326,-157.9737C178.9326,-146.7043 178.9326,-131.9524 178.9326,-119.1627\" fill=\"none\" stroke=\"#000000\"/>\n<polygon fill=\"#000000\" points=\"182.4327,-119.0003 178.9326,-109.0003 175.4327,-119.0004 182.4327,-119.0003\" stroke=\"#000000\"/>\n</g>\n</g>\n</svg>"
          },
          "metadata": {}
        }
      ]
    },
    {
      "cell_type": "markdown",
      "metadata": {
        "id": "20ZmQRTH6GH1"
      },
      "source": [
        "# 4.2 構文木アノテーション\n",
        "\n",
        "p.49 "
      ]
    },
    {
      "cell_type": "code",
      "metadata": {
        "colab": {
          "base_uri": "https://localhost:8080/",
          "height": 565
        },
        "id": "UFVfOa8bbIvi",
        "outputId": "814794a0-3c3a-4a65-fb78-a4b3c123cb6e"
      },
      "source": [
        "%%peg\n",
        "\n",
        "A = 'a'\n",
        "\n",
        "example A a\n",
        "example A ab\n",
        "example A b"
      ],
      "execution_count": null,
      "outputs": [
        {
          "output_type": "display_data",
          "data": {
            "text/html": [
              "<b>A</b> a<span style=\"background-color:#FFCACA;\"></span>"
            ],
            "text/plain": [
              "<IPython.core.display.HTML object>"
            ]
          },
          "metadata": {}
        },
        {
          "output_type": "display_data",
          "data": {
            "text/plain": [
              "<IPython.core.display.SVG object>"
            ],
            "image/svg+xml": "<svg height=\"116pt\" viewBox=\"0.00 0.00 62.00 116.00\" width=\"62pt\" xmlns=\"http://www.w3.org/2000/svg\" xmlns:xlink=\"http://www.w3.org/1999/xlink\">\n<g class=\"graph\" id=\"graph0\" transform=\"scale(1 1) rotate(0) translate(4 112)\">\n<title>tree</title>\n<polygon fill=\"#ffffff\" points=\"-4,4 -4,-112 58,-112 58,4 -4,4\" stroke=\"transparent\"/>\n<!-- n1 -->\n<g class=\"node\" id=\"node1\">\n<title>n1</title>\n<ellipse cx=\"27\" cy=\"-90\" fill=\"none\" rx=\"27\" ry=\"18\" stroke=\"#000000\"/>\n<text fill=\"#000000\" font-family=\"Meiryo UI\" font-size=\"12.00\" text-anchor=\"middle\" x=\"27\" y=\"-86.9\">#</text>\n</g>\n<!-- c1 -->\n<g class=\"node\" id=\"node2\">\n<title>c1</title>\n<polygon fill=\"none\" points=\"54,-36 0,-36 0,0 54,0 54,-36\" stroke=\"#000000\"/>\n<text fill=\"#0000ff\" font-family=\"monospace\" font-size=\"12.00\" text-anchor=\"middle\" x=\"27\" y=\"-14.9\">'a'</text>\n</g>\n<!-- n1&#45;&gt;c1 -->\n<g class=\"edge\" id=\"edge1\">\n<title>n1-&gt;c1</title>\n<path d=\"M27,-71.8314C27,-64.131 27,-54.9743 27,-46.4166\" fill=\"none\" stroke=\"#000000\"/>\n<polygon fill=\"#000000\" points=\"30.5001,-46.4132 27,-36.4133 23.5001,-46.4133 30.5001,-46.4132\" stroke=\"#000000\"/>\n</g>\n</g>\n</svg>"
          },
          "metadata": {}
        },
        {
          "output_type": "display_data",
          "data": {
            "text/html": [
              "<b>A</b> a<span style=\"background-color:#FFCACA;\">b</span>"
            ],
            "text/plain": [
              "<IPython.core.display.HTML object>"
            ]
          },
          "metadata": {}
        },
        {
          "output_type": "display_data",
          "data": {
            "text/plain": [
              "<IPython.core.display.SVG object>"
            ],
            "image/svg+xml": "<svg height=\"116pt\" viewBox=\"0.00 0.00 62.00 116.00\" width=\"62pt\" xmlns=\"http://www.w3.org/2000/svg\" xmlns:xlink=\"http://www.w3.org/1999/xlink\">\n<g class=\"graph\" id=\"graph0\" transform=\"scale(1 1) rotate(0) translate(4 112)\">\n<title>tree</title>\n<polygon fill=\"#ffffff\" points=\"-4,4 -4,-112 58,-112 58,4 -4,4\" stroke=\"transparent\"/>\n<!-- n1 -->\n<g class=\"node\" id=\"node1\">\n<title>n1</title>\n<ellipse cx=\"27\" cy=\"-90\" fill=\"none\" rx=\"27\" ry=\"18\" stroke=\"#000000\"/>\n<text fill=\"#000000\" font-family=\"Meiryo UI\" font-size=\"12.00\" text-anchor=\"middle\" x=\"27\" y=\"-86.9\">#</text>\n</g>\n<!-- c1 -->\n<g class=\"node\" id=\"node2\">\n<title>c1</title>\n<polygon fill=\"none\" points=\"54,-36 0,-36 0,0 54,0 54,-36\" stroke=\"#000000\"/>\n<text fill=\"#0000ff\" font-family=\"monospace\" font-size=\"12.00\" text-anchor=\"middle\" x=\"27\" y=\"-14.9\">'a'</text>\n</g>\n<!-- n1&#45;&gt;c1 -->\n<g class=\"edge\" id=\"edge1\">\n<title>n1-&gt;c1</title>\n<path d=\"M27,-71.8314C27,-64.131 27,-54.9743 27,-46.4166\" fill=\"none\" stroke=\"#000000\"/>\n<polygon fill=\"#000000\" points=\"30.5001,-46.4132 27,-36.4133 23.5001,-46.4133 30.5001,-46.4132\" stroke=\"#000000\"/>\n</g>\n</g>\n</svg>"
          },
          "metadata": {}
        },
        {
          "output_type": "display_data",
          "data": {
            "text/html": [
              "<b>A</b> <span style=\"background-color:#FFCACA;\">b</span>"
            ],
            "text/plain": [
              "<IPython.core.display.HTML object>"
            ]
          },
          "metadata": {}
        },
        {
          "output_type": "display_data",
          "data": {
            "text/plain": [
              "<IPython.core.display.SVG object>"
            ],
            "image/svg+xml": "<svg height=\"116pt\" viewBox=\"0.00 0.00 65.87 116.00\" width=\"66pt\" xmlns=\"http://www.w3.org/2000/svg\" xmlns:xlink=\"http://www.w3.org/1999/xlink\">\n<g class=\"graph\" id=\"graph0\" transform=\"scale(1 1) rotate(0) translate(4 112)\">\n<title>tree</title>\n<polygon fill=\"#ffffff\" points=\"-4,4 -4,-112 61.8652,-112 61.8652,4 -4,4\" stroke=\"transparent\"/>\n<!-- n1 -->\n<g class=\"node\" id=\"node1\">\n<title>n1</title>\n<ellipse cx=\"28.9326\" cy=\"-90\" fill=\"none\" rx=\"28.8653\" ry=\"18\" stroke=\"#000000\"/>\n<text fill=\"#000000\" font-family=\"Meiryo UI\" font-size=\"12.00\" text-anchor=\"middle\" x=\"28.9326\" y=\"-86.9\">#err</text>\n</g>\n<!-- c1 -->\n<g class=\"node\" id=\"node2\">\n<title>c1</title>\n<polygon fill=\"none\" points=\"55.9326,-36 1.9326,-36 1.9326,0 55.9326,0 55.9326,-36\" stroke=\"#000000\"/>\n<text fill=\"#0000ff\" font-family=\"monospace\" font-size=\"12.00\" text-anchor=\"middle\" x=\"28.9326\" y=\"-14.9\">''</text>\n</g>\n<!-- n1&#45;&gt;c1 -->\n<g class=\"edge\" id=\"edge1\">\n<title>n1-&gt;c1</title>\n<path d=\"M28.9326,-71.8314C28.9326,-64.131 28.9326,-54.9743 28.9326,-46.4166\" fill=\"none\" stroke=\"#000000\"/>\n<polygon fill=\"#000000\" points=\"32.4327,-46.4132 28.9326,-36.4133 25.4327,-46.4133 32.4327,-46.4132\" stroke=\"#000000\"/>\n</g>\n</g>\n</svg>"
          },
          "metadata": {}
        }
      ]
    },
    {
      "cell_type": "markdown",
      "metadata": {
        "id": "KSUncYHS6jrE"
      },
      "source": [
        "### 4.2.3 構文木アノテーション\n",
        "\n",
        "p.50 図4.2"
      ]
    },
    {
      "cell_type": "code",
      "metadata": {
        "colab": {
          "base_uri": "https://localhost:8080/",
          "height": 213
        },
        "id": "zmvPi-fOe9Qd",
        "outputId": "a8575ed2-6a6b-4a93-a694-e87d62993670"
      },
      "source": [
        "%%peg\n",
        "\n",
        "REAL =  DIGIT* '.' DIGIT+    \n",
        "DIGIT = [0-9]\n",
        "\n",
        "example REAL 3.14159"
      ],
      "execution_count": null,
      "outputs": [
        {
          "output_type": "display_data",
          "data": {
            "text/html": [
              "<b>REAL</b> 3.14159<span style=\"background-color:#FFCACA;\"></span>"
            ],
            "text/plain": [
              "<IPython.core.display.HTML object>"
            ]
          },
          "metadata": {}
        },
        {
          "output_type": "display_data",
          "data": {
            "text/plain": [
              "<IPython.core.display.SVG object>"
            ],
            "image/svg+xml": "<svg height=\"116pt\" viewBox=\"0.00 0.00 92.00 116.00\" width=\"92pt\" xmlns=\"http://www.w3.org/2000/svg\" xmlns:xlink=\"http://www.w3.org/1999/xlink\">\n<g class=\"graph\" id=\"graph0\" transform=\"scale(1 1) rotate(0) translate(4 112)\">\n<title>tree</title>\n<polygon fill=\"#ffffff\" points=\"-4,4 -4,-112 88,-112 88,4 -4,4\" stroke=\"transparent\"/>\n<!-- n1 -->\n<g class=\"node\" id=\"node1\">\n<title>n1</title>\n<ellipse cx=\"42\" cy=\"-90\" fill=\"none\" rx=\"27\" ry=\"18\" stroke=\"#000000\"/>\n<text fill=\"#000000\" font-family=\"Meiryo UI\" font-size=\"12.00\" text-anchor=\"middle\" x=\"42\" y=\"-86.9\">#</text>\n</g>\n<!-- c1 -->\n<g class=\"node\" id=\"node2\">\n<title>c1</title>\n<polygon fill=\"none\" points=\"84,-36 0,-36 0,0 84,0 84,-36\" stroke=\"#000000\"/>\n<text fill=\"#0000ff\" font-family=\"monospace\" font-size=\"12.00\" text-anchor=\"middle\" x=\"42\" y=\"-14.9\">'3.14159'</text>\n</g>\n<!-- n1&#45;&gt;c1 -->\n<g class=\"edge\" id=\"edge1\">\n<title>n1-&gt;c1</title>\n<path d=\"M42,-71.8314C42,-64.131 42,-54.9743 42,-46.4166\" fill=\"none\" stroke=\"#000000\"/>\n<polygon fill=\"#000000\" points=\"45.5001,-46.4132 42,-36.4133 38.5001,-46.4133 45.5001,-46.4132\" stroke=\"#000000\"/>\n</g>\n</g>\n</svg>"
          },
          "metadata": {}
        }
      ]
    },
    {
      "cell_type": "code",
      "metadata": {
        "colab": {
          "base_uri": "https://localhost:8080/",
          "height": 213
        },
        "id": "zDiKQ4HcfjK8",
        "outputId": "bfb82286-80ed-407c-fddb-8c1917ed2ab1"
      },
      "source": [
        "%%peg\n",
        "\n",
        "Real = { REAL #Float }\n",
        "REAL = DIGIT* '.' DIGIT+ \n",
        "DIGIT = [0-9]\n",
        "\n",
        "example Real 3.14159"
      ],
      "execution_count": null,
      "outputs": [
        {
          "output_type": "display_data",
          "data": {
            "text/html": [
              "<b>Real</b> 3.14159<span style=\"background-color:#FFCACA;\"></span>"
            ],
            "text/plain": [
              "<IPython.core.display.HTML object>"
            ]
          },
          "metadata": {}
        },
        {
          "output_type": "display_data",
          "data": {
            "text/plain": [
              "<IPython.core.display.SVG object>"
            ],
            "image/svg+xml": "<svg height=\"116pt\" viewBox=\"0.00 0.00 92.00 116.00\" width=\"92pt\" xmlns=\"http://www.w3.org/2000/svg\" xmlns:xlink=\"http://www.w3.org/1999/xlink\">\n<g class=\"graph\" id=\"graph0\" transform=\"scale(1 1) rotate(0) translate(4 112)\">\n<title>tree</title>\n<polygon fill=\"#ffffff\" points=\"-4,4 -4,-112 88,-112 88,4 -4,4\" stroke=\"transparent\"/>\n<!-- n1 -->\n<g class=\"node\" id=\"node1\">\n<title>n1</title>\n<ellipse cx=\"42\" cy=\"-90\" fill=\"none\" rx=\"38.3335\" ry=\"18\" stroke=\"#000000\"/>\n<text fill=\"#000000\" font-family=\"Meiryo UI\" font-size=\"12.00\" text-anchor=\"middle\" x=\"42\" y=\"-86.9\">#Float</text>\n</g>\n<!-- c1 -->\n<g class=\"node\" id=\"node2\">\n<title>c1</title>\n<polygon fill=\"none\" points=\"84,-36 0,-36 0,0 84,0 84,-36\" stroke=\"#000000\"/>\n<text fill=\"#0000ff\" font-family=\"monospace\" font-size=\"12.00\" text-anchor=\"middle\" x=\"42\" y=\"-14.9\">'3.14159'</text>\n</g>\n<!-- n1&#45;&gt;c1 -->\n<g class=\"edge\" id=\"edge1\">\n<title>n1-&gt;c1</title>\n<path d=\"M42,-71.8314C42,-64.131 42,-54.9743 42,-46.4166\" fill=\"none\" stroke=\"#000000\"/>\n<polygon fill=\"#000000\" points=\"45.5001,-46.4132 42,-36.4133 38.5001,-46.4133 45.5001,-46.4132\" stroke=\"#000000\"/>\n</g>\n</g>\n</svg>"
          },
          "metadata": {}
        }
      ]
    },
    {
      "cell_type": "markdown",
      "metadata": {
        "id": "dBziNifm7TQq"
      },
      "source": [
        "### 構文木と子ノード\n",
        "\n",
        "p. 51"
      ]
    },
    {
      "cell_type": "code",
      "metadata": {
        "colab": {
          "base_uri": "https://localhost:8080/",
          "height": 307
        },
        "id": "TcKmR9clfw_P",
        "outputId": "f96ce600-aab9-425e-d686-2a6159faf439"
      },
      "source": [
        "%%peg\n",
        "\n",
        "Real = { \n",
        "    {DIGIT* #Fraction } \n",
        "     '.' \n",
        "    {DIGIT+ #Exponent } \n",
        "    #Float \n",
        "} \n",
        "DIGIT = [0-9]\n",
        "\n",
        "example Real 3.14159"
      ],
      "execution_count": null,
      "outputs": [
        {
          "output_type": "display_data",
          "data": {
            "text/html": [
              "<b>Real</b> 3.14159<span style=\"background-color:#FFCACA;\"></span>"
            ],
            "text/plain": [
              "<IPython.core.display.HTML object>"
            ]
          },
          "metadata": {
            "tags": []
          }
        },
        {
          "output_type": "display_data",
          "data": {
            "text/plain": [
              "<IPython.core.display.SVG object>"
            ],
            "image/svg+xml": "<svg height=\"202pt\" viewBox=\"0.00 0.00 232.42 202.00\" width=\"232pt\" xmlns=\"http://www.w3.org/2000/svg\" xmlns:xlink=\"http://www.w3.org/1999/xlink\">\n<g class=\"graph\" id=\"graph0\" transform=\"scale(1 1) rotate(0) translate(4 198)\">\n<title>tree</title>\n<polygon fill=\"#ffffff\" points=\"-4,4 -4,-198 228.4186,-198 228.4186,4 -4,4\" stroke=\"transparent\"/>\n<!-- n1 -->\n<g class=\"node\" id=\"node1\">\n<title>n1</title>\n<ellipse cx=\"111.7093\" cy=\"-176\" fill=\"none\" rx=\"38.3335\" ry=\"18\" stroke=\"#000000\"/>\n<text fill=\"#000000\" font-family=\"Meiryo UI\" font-size=\"12.00\" text-anchor=\"middle\" x=\"111.7093\" y=\"-172.9\">#Float</text>\n</g>\n<!-- n2 -->\n<g class=\"node\" id=\"node2\">\n<title>n2</title>\n<ellipse cx=\"51.7093\" cy=\"-91\" fill=\"none\" rx=\"51.9195\" ry=\"18\" stroke=\"#000000\"/>\n<text fill=\"#000000\" font-family=\"Meiryo UI\" font-size=\"12.00\" text-anchor=\"middle\" x=\"51.7093\" y=\"-87.9\">#Fraction</text>\n</g>\n<!-- n1&#45;&gt;n2 -->\n<g class=\"edge\" id=\"edge2\">\n<title>n1-&gt;n2</title>\n<path d=\"M99.5674,-158.799C91.1405,-146.8609 79.758,-130.7356 70.2079,-117.2063\" fill=\"none\" stroke=\"#000000\"/>\n<polygon fill=\"#000000\" points=\"72.8724,-114.9119 64.2462,-108.7606 67.1537,-118.9487 72.8724,-114.9119\" stroke=\"#000000\"/>\n<text fill=\"#000000\" font-family=\"Times,serif\" font-size=\"12.00\" text-anchor=\"middle\" x=\"89.2093\" y=\"-130.4\">0</text>\n</g>\n<!-- n3 -->\n<g class=\"node\" id=\"node4\">\n<title>n3</title>\n<ellipse cx=\"172.7093\" cy=\"-91\" fill=\"none\" rx=\"51.9195\" ry=\"18\" stroke=\"#000000\"/>\n<text fill=\"#000000\" font-family=\"Meiryo UI\" font-size=\"12.00\" text-anchor=\"middle\" x=\"172.7093\" y=\"-87.9\">#Exponent</text>\n</g>\n<!-- n1&#45;&gt;n3 -->\n<g class=\"edge\" id=\"edge4\">\n<title>n1-&gt;n3</title>\n<path d=\"M124.0536,-158.799C132.678,-146.7813 144.3476,-130.5204 154.0964,-116.936\" fill=\"none\" stroke=\"#000000\"/>\n<polygon fill=\"#000000\" points=\"157.1871,-118.6323 160.174,-108.4672 151.5,-114.5509 157.1871,-118.6323\" stroke=\"#000000\"/>\n<text fill=\"#000000\" font-family=\"Times,serif\" font-size=\"12.00\" text-anchor=\"middle\" x=\"150.2093\" y=\"-130.4\">1</text>\n</g>\n<!-- c2 -->\n<g class=\"node\" id=\"node3\">\n<title>c2</title>\n<polygon fill=\"none\" points=\"78.7093,-36 24.7093,-36 24.7093,0 78.7093,0 78.7093,-36\" stroke=\"#000000\"/>\n<text fill=\"#0000ff\" font-family=\"monospace\" font-size=\"12.00\" text-anchor=\"middle\" x=\"51.7093\" y=\"-14.9\">'3'</text>\n</g>\n<!-- n2&#45;&gt;c2 -->\n<g class=\"edge\" id=\"edge1\">\n<title>n2-&gt;c2</title>\n<path d=\"M51.7093,-72.9551C51.7093,-64.8828 51.7093,-55.1764 51.7093,-46.1817\" fill=\"none\" stroke=\"#000000\"/>\n<polygon fill=\"#000000\" points=\"55.2094,-46.0903 51.7093,-36.0904 48.2094,-46.0904 55.2094,-46.0903\" stroke=\"#000000\"/>\n</g>\n<!-- c3 -->\n<g class=\"node\" id=\"node5\">\n<title>c3</title>\n<polygon fill=\"none\" points=\"207.2093,-36 138.2093,-36 138.2093,0 207.2093,0 207.2093,-36\" stroke=\"#000000\"/>\n<text fill=\"#0000ff\" font-family=\"monospace\" font-size=\"12.00\" text-anchor=\"middle\" x=\"172.7093\" y=\"-14.9\">'14159'</text>\n</g>\n<!-- n3&#45;&gt;c3 -->\n<g class=\"edge\" id=\"edge3\">\n<title>n3-&gt;c3</title>\n<path d=\"M172.7093,-72.9551C172.7093,-64.8828 172.7093,-55.1764 172.7093,-46.1817\" fill=\"none\" stroke=\"#000000\"/>\n<polygon fill=\"#000000\" points=\"176.2094,-46.0903 172.7093,-36.0904 169.2094,-46.0904 176.2094,-46.0903\" stroke=\"#000000\"/>\n</g>\n</g>\n</svg>"
          },
          "metadata": {
            "tags": []
          }
        }
      ]
    },
    {
      "cell_type": "markdown",
      "metadata": {
        "id": "LeXKM99f7l-5"
      },
      "source": [
        "### 4.2.5 子ノードへのラベル (p.52)"
      ]
    },
    {
      "cell_type": "code",
      "metadata": {
        "colab": {
          "base_uri": "https://localhost:8080/",
          "height": 307
        },
        "id": "etgQlM2rgFJ_",
        "outputId": "1ac0553f-d1a7-448d-d294-87fc7a4c3e0c"
      },
      "source": [
        "%%peg\n",
        "\n",
        "Real = { \n",
        "    frac: {DIGIT* #Fraction } \n",
        "     '.' \n",
        "    expo: {DIGIT+ #Exponent } \n",
        "    #Float \n",
        "} \n",
        "DIGIT = [0-9]\n",
        "\n",
        "example Real 3.14159"
      ],
      "execution_count": null,
      "outputs": [
        {
          "output_type": "display_data",
          "data": {
            "text/html": [
              "<b>Real</b> 3<span style=\"background-color:#FFCACA;\">.14159</span>"
            ],
            "text/plain": [
              "<IPython.core.display.HTML object>"
            ]
          },
          "metadata": {
            "tags": []
          }
        },
        {
          "output_type": "display_data",
          "data": {
            "text/plain": [
              "<IPython.core.display.SVG object>"
            ],
            "image/svg+xml": "<svg height=\"202pt\" viewBox=\"0.00 0.00 232.42 202.00\" width=\"232pt\" xmlns=\"http://www.w3.org/2000/svg\" xmlns:xlink=\"http://www.w3.org/1999/xlink\">\n<g class=\"graph\" id=\"graph0\" transform=\"scale(1 1) rotate(0) translate(4 198)\">\n<title>tree</title>\n<polygon fill=\"#ffffff\" points=\"-4,4 -4,-198 228.4186,-198 228.4186,4 -4,4\" stroke=\"transparent\"/>\n<!-- n1 -->\n<g class=\"node\" id=\"node1\">\n<title>n1</title>\n<ellipse cx=\"111.7093\" cy=\"-176\" fill=\"none\" rx=\"38.3335\" ry=\"18\" stroke=\"#000000\"/>\n<text fill=\"#000000\" font-family=\"Meiryo UI\" font-size=\"12.00\" text-anchor=\"middle\" x=\"111.7093\" y=\"-172.9\">#Float</text>\n</g>\n<!-- n2 -->\n<g class=\"node\" id=\"node2\">\n<title>n2</title>\n<ellipse cx=\"51.7093\" cy=\"-91\" fill=\"none\" rx=\"51.9195\" ry=\"18\" stroke=\"#000000\"/>\n<text fill=\"#000000\" font-family=\"Meiryo UI\" font-size=\"12.00\" text-anchor=\"middle\" x=\"51.7093\" y=\"-87.9\">#Fraction</text>\n</g>\n<!-- n1&#45;&gt;n2 -->\n<g class=\"edge\" id=\"edge2\">\n<title>n1-&gt;n2</title>\n<path d=\"M99.5674,-158.799C91.1405,-146.8609 79.758,-130.7356 70.2079,-117.2063\" fill=\"none\" stroke=\"#000000\"/>\n<polygon fill=\"#000000\" points=\"72.8724,-114.9119 64.2462,-108.7606 67.1537,-118.9487 72.8724,-114.9119\" stroke=\"#000000\"/>\n<text fill=\"#000000\" font-family=\"Times,serif\" font-size=\"12.00\" text-anchor=\"middle\" x=\"95.2093\" y=\"-130.4\">frac</text>\n</g>\n<!-- n3 -->\n<g class=\"node\" id=\"node4\">\n<title>n3</title>\n<ellipse cx=\"172.7093\" cy=\"-91\" fill=\"none\" rx=\"51.9195\" ry=\"18\" stroke=\"#000000\"/>\n<text fill=\"#000000\" font-family=\"Meiryo UI\" font-size=\"12.00\" text-anchor=\"middle\" x=\"172.7093\" y=\"-87.9\">#Exponent</text>\n</g>\n<!-- n1&#45;&gt;n3 -->\n<g class=\"edge\" id=\"edge4\">\n<title>n1-&gt;n3</title>\n<path d=\"M124.0536,-158.799C132.678,-146.7813 144.3476,-130.5204 154.0964,-116.936\" fill=\"none\" stroke=\"#000000\"/>\n<polygon fill=\"#000000\" points=\"157.1871,-118.6323 160.174,-108.4672 151.5,-114.5509 157.1871,-118.6323\" stroke=\"#000000\"/>\n<text fill=\"#000000\" font-family=\"Times,serif\" font-size=\"12.00\" text-anchor=\"middle\" x=\"158.7093\" y=\"-130.4\">expo</text>\n</g>\n<!-- c2 -->\n<g class=\"node\" id=\"node3\">\n<title>c2</title>\n<polygon fill=\"none\" points=\"78.7093,-36 24.7093,-36 24.7093,0 78.7093,0 78.7093,-36\" stroke=\"#000000\"/>\n<text fill=\"#0000ff\" font-family=\"monospace\" font-size=\"12.00\" text-anchor=\"middle\" x=\"51.7093\" y=\"-14.9\">'3'</text>\n</g>\n<!-- n2&#45;&gt;c2 -->\n<g class=\"edge\" id=\"edge1\">\n<title>n2-&gt;c2</title>\n<path d=\"M51.7093,-72.9551C51.7093,-64.8828 51.7093,-55.1764 51.7093,-46.1817\" fill=\"none\" stroke=\"#000000\"/>\n<polygon fill=\"#000000\" points=\"55.2094,-46.0903 51.7093,-36.0904 48.2094,-46.0904 55.2094,-46.0903\" stroke=\"#000000\"/>\n</g>\n<!-- c3 -->\n<g class=\"node\" id=\"node5\">\n<title>c3</title>\n<polygon fill=\"none\" points=\"207.2093,-36 138.2093,-36 138.2093,0 207.2093,0 207.2093,-36\" stroke=\"#000000\"/>\n<text fill=\"#0000ff\" font-family=\"monospace\" font-size=\"12.00\" text-anchor=\"middle\" x=\"172.7093\" y=\"-14.9\">'14159'</text>\n</g>\n<!-- n3&#45;&gt;c3 -->\n<g class=\"edge\" id=\"edge3\">\n<title>n3-&gt;c3</title>\n<path d=\"M172.7093,-72.9551C172.7093,-64.8828 172.7093,-55.1764 172.7093,-46.1817\" fill=\"none\" stroke=\"#000000\"/>\n<polygon fill=\"#000000\" points=\"176.2094,-46.0903 172.7093,-36.0904 169.2094,-46.0904 176.2094,-46.0903\" stroke=\"#000000\"/>\n</g>\n</g>\n</svg>"
          },
          "metadata": {
            "tags": []
          }
        }
      ]
    },
    {
      "cell_type": "markdown",
      "metadata": {
        "id": "QYGQNVca73QV"
      },
      "source": [
        "### 繰り返しとリスト"
      ]
    },
    {
      "cell_type": "code",
      "metadata": {
        "colab": {
          "base_uri": "https://localhost:8080/",
          "height": 597
        },
        "id": "nzZ-C9OXq-fW",
        "outputId": "7898fae0-7a78-49e2-c770-2fb7aa49ca29"
      },
      "source": [
        "%%peg\n",
        "\n",
        "Data = { Int _ Int #List }\n",
        "Int = {  DIGIT+ #Int }\n",
        "DIGIT = [0-9]\n",
        "_ = [ \\t]+  // 空白\n",
        "\n",
        "example Data 1 2 3\n",
        "example Data 1 2 3 4\n"
      ],
      "execution_count": null,
      "outputs": [
        {
          "output_type": "display_data",
          "data": {
            "text/html": [
              "<b>Data</b> 1 2<span style=\"background-color:#FFCACA;\"> 3</span>"
            ],
            "text/plain": [
              "<IPython.core.display.HTML object>"
            ]
          },
          "metadata": {
            "tags": []
          }
        },
        {
          "output_type": "display_data",
          "data": {
            "text/plain": [
              "<IPython.core.display.SVG object>"
            ],
            "image/svg+xml": "<svg height=\"202pt\" viewBox=\"0.00 0.00 141.87 202.00\" width=\"142pt\" xmlns=\"http://www.w3.org/2000/svg\" xmlns:xlink=\"http://www.w3.org/1999/xlink\">\n<g class=\"graph\" id=\"graph0\" transform=\"scale(1 1) rotate(0) translate(4 198)\">\n<title>tree</title>\n<polygon fill=\"#ffffff\" points=\"-4,4 -4,-198 137.8652,-198 137.8652,4 -4,4\" stroke=\"transparent\"/>\n<!-- n1 -->\n<g class=\"node\" id=\"node1\">\n<title>n1</title>\n<ellipse cx=\"66.9326\" cy=\"-176\" fill=\"none\" rx=\"33.4852\" ry=\"18\" stroke=\"#000000\"/>\n<text fill=\"#000000\" font-family=\"Meiryo UI\" font-size=\"12.00\" text-anchor=\"middle\" x=\"66.9326\" y=\"-172.9\">#List</text>\n</g>\n<!-- n2 -->\n<g class=\"node\" id=\"node2\">\n<title>n2</title>\n<ellipse cx=\"28.9326\" cy=\"-91\" fill=\"none\" rx=\"28.8653\" ry=\"18\" stroke=\"#000000\"/>\n<text fill=\"#000000\" font-family=\"Meiryo UI\" font-size=\"12.00\" text-anchor=\"middle\" x=\"28.9326\" y=\"-87.9\">#Int</text>\n</g>\n<!-- n1&#45;&gt;n2 -->\n<g class=\"edge\" id=\"edge2\">\n<title>n1-&gt;n2</title>\n<path d=\"M59.059,-158.3879C53.811,-146.6491 46.8145,-130.9989 40.8849,-117.7355\" fill=\"none\" stroke=\"#000000\"/>\n<polygon fill=\"#000000\" points=\"44.0727,-116.2903 36.7961,-108.5895 37.6823,-119.1472 44.0727,-116.2903\" stroke=\"#000000\"/>\n<text fill=\"#000000\" font-family=\"Times,serif\" font-size=\"12.00\" text-anchor=\"middle\" x=\"54.4326\" y=\"-130.4\">0</text>\n</g>\n<!-- n3 -->\n<g class=\"node\" id=\"node4\">\n<title>n3</title>\n<ellipse cx=\"104.9326\" cy=\"-91\" fill=\"none\" rx=\"28.8653\" ry=\"18\" stroke=\"#000000\"/>\n<text fill=\"#000000\" font-family=\"Meiryo UI\" font-size=\"12.00\" text-anchor=\"middle\" x=\"104.9326\" y=\"-87.9\">#Int</text>\n</g>\n<!-- n1&#45;&gt;n3 -->\n<g class=\"edge\" id=\"edge4\">\n<title>n1-&gt;n3</title>\n<path d=\"M74.8062,-158.3879C80.0542,-146.6491 87.0507,-130.9989 92.9803,-117.7355\" fill=\"none\" stroke=\"#000000\"/>\n<polygon fill=\"#000000\" points=\"96.1829,-119.1472 97.0691,-108.5895 89.7925,-116.2903 96.1829,-119.1472\" stroke=\"#000000\"/>\n<text fill=\"#000000\" font-family=\"Times,serif\" font-size=\"12.00\" text-anchor=\"middle\" x=\"92.4326\" y=\"-130.4\">1</text>\n</g>\n<!-- c2 -->\n<g class=\"node\" id=\"node3\">\n<title>c2</title>\n<polygon fill=\"none\" points=\"55.9326,-36 1.9326,-36 1.9326,0 55.9326,0 55.9326,-36\" stroke=\"#000000\"/>\n<text fill=\"#0000ff\" font-family=\"monospace\" font-size=\"12.00\" text-anchor=\"middle\" x=\"28.9326\" y=\"-14.9\">'1'</text>\n</g>\n<!-- n2&#45;&gt;c2 -->\n<g class=\"edge\" id=\"edge1\">\n<title>n2-&gt;c2</title>\n<path d=\"M28.9326,-72.9551C28.9326,-64.8828 28.9326,-55.1764 28.9326,-46.1817\" fill=\"none\" stroke=\"#000000\"/>\n<polygon fill=\"#000000\" points=\"32.4327,-46.0903 28.9326,-36.0904 25.4327,-46.0904 32.4327,-46.0903\" stroke=\"#000000\"/>\n</g>\n<!-- c3 -->\n<g class=\"node\" id=\"node5\">\n<title>c3</title>\n<polygon fill=\"none\" points=\"131.9326,-36 77.9326,-36 77.9326,0 131.9326,0 131.9326,-36\" stroke=\"#000000\"/>\n<text fill=\"#0000ff\" font-family=\"monospace\" font-size=\"12.00\" text-anchor=\"middle\" x=\"104.9326\" y=\"-14.9\">'2'</text>\n</g>\n<!-- n3&#45;&gt;c3 -->\n<g class=\"edge\" id=\"edge3\">\n<title>n3-&gt;c3</title>\n<path d=\"M104.9326,-72.9551C104.9326,-64.8828 104.9326,-55.1764 104.9326,-46.1817\" fill=\"none\" stroke=\"#000000\"/>\n<polygon fill=\"#000000\" points=\"108.4327,-46.0903 104.9326,-36.0904 101.4327,-46.0904 108.4327,-46.0903\" stroke=\"#000000\"/>\n</g>\n</g>\n</svg>"
          },
          "metadata": {
            "tags": []
          }
        },
        {
          "output_type": "display_data",
          "data": {
            "text/html": [
              "<b>Data</b> 1 2<span style=\"background-color:#FFCACA;\"> 3 4</span>"
            ],
            "text/plain": [
              "<IPython.core.display.HTML object>"
            ]
          },
          "metadata": {
            "tags": []
          }
        },
        {
          "output_type": "display_data",
          "data": {
            "text/plain": [
              "<IPython.core.display.SVG object>"
            ],
            "image/svg+xml": "<svg height=\"202pt\" viewBox=\"0.00 0.00 141.87 202.00\" width=\"142pt\" xmlns=\"http://www.w3.org/2000/svg\" xmlns:xlink=\"http://www.w3.org/1999/xlink\">\n<g class=\"graph\" id=\"graph0\" transform=\"scale(1 1) rotate(0) translate(4 198)\">\n<title>tree</title>\n<polygon fill=\"#ffffff\" points=\"-4,4 -4,-198 137.8652,-198 137.8652,4 -4,4\" stroke=\"transparent\"/>\n<!-- n1 -->\n<g class=\"node\" id=\"node1\">\n<title>n1</title>\n<ellipse cx=\"66.9326\" cy=\"-176\" fill=\"none\" rx=\"33.4852\" ry=\"18\" stroke=\"#000000\"/>\n<text fill=\"#000000\" font-family=\"Meiryo UI\" font-size=\"12.00\" text-anchor=\"middle\" x=\"66.9326\" y=\"-172.9\">#List</text>\n</g>\n<!-- n2 -->\n<g class=\"node\" id=\"node2\">\n<title>n2</title>\n<ellipse cx=\"28.9326\" cy=\"-91\" fill=\"none\" rx=\"28.8653\" ry=\"18\" stroke=\"#000000\"/>\n<text fill=\"#000000\" font-family=\"Meiryo UI\" font-size=\"12.00\" text-anchor=\"middle\" x=\"28.9326\" y=\"-87.9\">#Int</text>\n</g>\n<!-- n1&#45;&gt;n2 -->\n<g class=\"edge\" id=\"edge2\">\n<title>n1-&gt;n2</title>\n<path d=\"M59.059,-158.3879C53.811,-146.6491 46.8145,-130.9989 40.8849,-117.7355\" fill=\"none\" stroke=\"#000000\"/>\n<polygon fill=\"#000000\" points=\"44.0727,-116.2903 36.7961,-108.5895 37.6823,-119.1472 44.0727,-116.2903\" stroke=\"#000000\"/>\n<text fill=\"#000000\" font-family=\"Times,serif\" font-size=\"12.00\" text-anchor=\"middle\" x=\"54.4326\" y=\"-130.4\">0</text>\n</g>\n<!-- n3 -->\n<g class=\"node\" id=\"node4\">\n<title>n3</title>\n<ellipse cx=\"104.9326\" cy=\"-91\" fill=\"none\" rx=\"28.8653\" ry=\"18\" stroke=\"#000000\"/>\n<text fill=\"#000000\" font-family=\"Meiryo UI\" font-size=\"12.00\" text-anchor=\"middle\" x=\"104.9326\" y=\"-87.9\">#Int</text>\n</g>\n<!-- n1&#45;&gt;n3 -->\n<g class=\"edge\" id=\"edge4\">\n<title>n1-&gt;n3</title>\n<path d=\"M74.8062,-158.3879C80.0542,-146.6491 87.0507,-130.9989 92.9803,-117.7355\" fill=\"none\" stroke=\"#000000\"/>\n<polygon fill=\"#000000\" points=\"96.1829,-119.1472 97.0691,-108.5895 89.7925,-116.2903 96.1829,-119.1472\" stroke=\"#000000\"/>\n<text fill=\"#000000\" font-family=\"Times,serif\" font-size=\"12.00\" text-anchor=\"middle\" x=\"92.4326\" y=\"-130.4\">1</text>\n</g>\n<!-- c2 -->\n<g class=\"node\" id=\"node3\">\n<title>c2</title>\n<polygon fill=\"none\" points=\"55.9326,-36 1.9326,-36 1.9326,0 55.9326,0 55.9326,-36\" stroke=\"#000000\"/>\n<text fill=\"#0000ff\" font-family=\"monospace\" font-size=\"12.00\" text-anchor=\"middle\" x=\"28.9326\" y=\"-14.9\">'1'</text>\n</g>\n<!-- n2&#45;&gt;c2 -->\n<g class=\"edge\" id=\"edge1\">\n<title>n2-&gt;c2</title>\n<path d=\"M28.9326,-72.9551C28.9326,-64.8828 28.9326,-55.1764 28.9326,-46.1817\" fill=\"none\" stroke=\"#000000\"/>\n<polygon fill=\"#000000\" points=\"32.4327,-46.0903 28.9326,-36.0904 25.4327,-46.0904 32.4327,-46.0903\" stroke=\"#000000\"/>\n</g>\n<!-- c3 -->\n<g class=\"node\" id=\"node5\">\n<title>c3</title>\n<polygon fill=\"none\" points=\"131.9326,-36 77.9326,-36 77.9326,0 131.9326,0 131.9326,-36\" stroke=\"#000000\"/>\n<text fill=\"#0000ff\" font-family=\"monospace\" font-size=\"12.00\" text-anchor=\"middle\" x=\"104.9326\" y=\"-14.9\">'2'</text>\n</g>\n<!-- n3&#45;&gt;c3 -->\n<g class=\"edge\" id=\"edge3\">\n<title>n3-&gt;c3</title>\n<path d=\"M104.9326,-72.9551C104.9326,-64.8828 104.9326,-55.1764 104.9326,-46.1817\" fill=\"none\" stroke=\"#000000\"/>\n<polygon fill=\"#000000\" points=\"108.4327,-46.0903 104.9326,-36.0904 101.4327,-46.0904 108.4327,-46.0903\" stroke=\"#000000\"/>\n</g>\n</g>\n</svg>"
          },
          "metadata": {
            "tags": []
          }
        }
      ]
    },
    {
      "cell_type": "markdown",
      "metadata": {
        "id": "SnpXs8Ew79Oo"
      },
      "source": [
        "### 4.3.1 リストとペア"
      ]
    },
    {
      "cell_type": "code",
      "metadata": {
        "colab": {
          "base_uri": "https://localhost:8080/",
          "height": 597
        },
        "id": "1F3fjymJry7I",
        "outputId": "06f9baa9-c696-40f5-f5a5-ad40e36f9822"
      },
      "source": [
        "%%peg\n",
        "\n",
        "Data = { Int (_ Int)* #List }\n",
        "Int = {  DIGIT+ #Int }\n",
        "DIGIT = [0-9]\n",
        "_ = [ \\t]+  // 空白\n",
        "\n",
        "example Data 1 2 3\n",
        "example Data 1 2 3 4\n"
      ],
      "execution_count": null,
      "outputs": [
        {
          "output_type": "display_data",
          "data": {
            "text/html": [
              "<b>Data</b> 1 2 3<span style=\"background-color:#FFCACA;\"></span>"
            ],
            "text/plain": [
              "<IPython.core.display.HTML object>"
            ]
          },
          "metadata": {
            "tags": []
          }
        },
        {
          "output_type": "display_data",
          "data": {
            "text/plain": [
              "<IPython.core.display.SVG object>"
            ],
            "image/svg+xml": "<svg height=\"202pt\" viewBox=\"0.00 0.00 217.87 202.00\" width=\"218pt\" xmlns=\"http://www.w3.org/2000/svg\" xmlns:xlink=\"http://www.w3.org/1999/xlink\">\n<g class=\"graph\" id=\"graph0\" transform=\"scale(1 1) rotate(0) translate(4 198)\">\n<title>tree</title>\n<polygon fill=\"#ffffff\" points=\"-4,4 -4,-198 213.8652,-198 213.8652,4 -4,4\" stroke=\"transparent\"/>\n<!-- n1 -->\n<g class=\"node\" id=\"node1\">\n<title>n1</title>\n<ellipse cx=\"104.9326\" cy=\"-176\" fill=\"none\" rx=\"33.4852\" ry=\"18\" stroke=\"#000000\"/>\n<text fill=\"#000000\" font-family=\"Meiryo UI\" font-size=\"12.00\" text-anchor=\"middle\" x=\"104.9326\" y=\"-172.9\">#List</text>\n</g>\n<!-- n2 -->\n<g class=\"node\" id=\"node2\">\n<title>n2</title>\n<ellipse cx=\"28.9326\" cy=\"-91\" fill=\"none\" rx=\"28.8653\" ry=\"18\" stroke=\"#000000\"/>\n<text fill=\"#000000\" font-family=\"Meiryo UI\" font-size=\"12.00\" text-anchor=\"middle\" x=\"28.9326\" y=\"-87.9\">#Int</text>\n</g>\n<!-- n1&#45;&gt;n2 -->\n<g class=\"edge\" id=\"edge2\">\n<title>n1-&gt;n2</title>\n<path d=\"M90.279,-159.6111C78.7784,-146.7486 62.6196,-128.6763 49.7729,-114.3083\" fill=\"none\" stroke=\"#000000\"/>\n<polygon fill=\"#000000\" points=\"52.3019,-111.8856 43.0273,-106.7638 47.0835,-116.5514 52.3019,-111.8856\" stroke=\"#000000\"/>\n<text fill=\"#000000\" font-family=\"Times,serif\" font-size=\"12.00\" text-anchor=\"middle\" x=\"75.4326\" y=\"-130.4\">0</text>\n</g>\n<!-- n3 -->\n<g class=\"node\" id=\"node4\">\n<title>n3</title>\n<ellipse cx=\"104.9326\" cy=\"-91\" fill=\"none\" rx=\"28.8653\" ry=\"18\" stroke=\"#000000\"/>\n<text fill=\"#000000\" font-family=\"Meiryo UI\" font-size=\"12.00\" text-anchor=\"middle\" x=\"104.9326\" y=\"-87.9\">#Int</text>\n</g>\n<!-- n1&#45;&gt;n3 -->\n<g class=\"edge\" id=\"edge4\">\n<title>n1-&gt;n3</title>\n<path d=\"M104.9326,-157.9737C104.9326,-146.7043 104.9326,-131.9524 104.9326,-119.1627\" fill=\"none\" stroke=\"#000000\"/>\n<polygon fill=\"#000000\" points=\"108.4327,-119.0003 104.9326,-109.0003 101.4327,-119.0004 108.4327,-119.0003\" stroke=\"#000000\"/>\n<text fill=\"#000000\" font-family=\"Times,serif\" font-size=\"12.00\" text-anchor=\"middle\" x=\"108.4326\" y=\"-130.4\">1</text>\n</g>\n<!-- n4 -->\n<g class=\"node\" id=\"node6\">\n<title>n4</title>\n<ellipse cx=\"180.9326\" cy=\"-91\" fill=\"none\" rx=\"28.8653\" ry=\"18\" stroke=\"#000000\"/>\n<text fill=\"#000000\" font-family=\"Meiryo UI\" font-size=\"12.00\" text-anchor=\"middle\" x=\"180.9326\" y=\"-87.9\">#Int</text>\n</g>\n<!-- n1&#45;&gt;n4 -->\n<g class=\"edge\" id=\"edge6\">\n<title>n1-&gt;n4</title>\n<path d=\"M119.5862,-159.6111C131.0868,-146.7486 147.2456,-128.6763 160.0922,-114.3083\" fill=\"none\" stroke=\"#000000\"/>\n<polygon fill=\"#000000\" points=\"162.7816,-116.5514 166.8379,-106.7638 157.5633,-111.8856 162.7816,-116.5514\" stroke=\"#000000\"/>\n<text fill=\"#000000\" font-family=\"Times,serif\" font-size=\"12.00\" text-anchor=\"middle\" x=\"151.4326\" y=\"-130.4\">2</text>\n</g>\n<!-- c2 -->\n<g class=\"node\" id=\"node3\">\n<title>c2</title>\n<polygon fill=\"none\" points=\"55.9326,-36 1.9326,-36 1.9326,0 55.9326,0 55.9326,-36\" stroke=\"#000000\"/>\n<text fill=\"#0000ff\" font-family=\"monospace\" font-size=\"12.00\" text-anchor=\"middle\" x=\"28.9326\" y=\"-14.9\">'1'</text>\n</g>\n<!-- n2&#45;&gt;c2 -->\n<g class=\"edge\" id=\"edge1\">\n<title>n2-&gt;c2</title>\n<path d=\"M28.9326,-72.9551C28.9326,-64.8828 28.9326,-55.1764 28.9326,-46.1817\" fill=\"none\" stroke=\"#000000\"/>\n<polygon fill=\"#000000\" points=\"32.4327,-46.0903 28.9326,-36.0904 25.4327,-46.0904 32.4327,-46.0903\" stroke=\"#000000\"/>\n</g>\n<!-- c3 -->\n<g class=\"node\" id=\"node5\">\n<title>c3</title>\n<polygon fill=\"none\" points=\"131.9326,-36 77.9326,-36 77.9326,0 131.9326,0 131.9326,-36\" stroke=\"#000000\"/>\n<text fill=\"#0000ff\" font-family=\"monospace\" font-size=\"12.00\" text-anchor=\"middle\" x=\"104.9326\" y=\"-14.9\">'2'</text>\n</g>\n<!-- n3&#45;&gt;c3 -->\n<g class=\"edge\" id=\"edge3\">\n<title>n3-&gt;c3</title>\n<path d=\"M104.9326,-72.9551C104.9326,-64.8828 104.9326,-55.1764 104.9326,-46.1817\" fill=\"none\" stroke=\"#000000\"/>\n<polygon fill=\"#000000\" points=\"108.4327,-46.0903 104.9326,-36.0904 101.4327,-46.0904 108.4327,-46.0903\" stroke=\"#000000\"/>\n</g>\n<!-- c4 -->\n<g class=\"node\" id=\"node7\">\n<title>c4</title>\n<polygon fill=\"none\" points=\"207.9326,-36 153.9326,-36 153.9326,0 207.9326,0 207.9326,-36\" stroke=\"#000000\"/>\n<text fill=\"#0000ff\" font-family=\"monospace\" font-size=\"12.00\" text-anchor=\"middle\" x=\"180.9326\" y=\"-14.9\">'3'</text>\n</g>\n<!-- n4&#45;&gt;c4 -->\n<g class=\"edge\" id=\"edge5\">\n<title>n4-&gt;c4</title>\n<path d=\"M180.9326,-72.9551C180.9326,-64.8828 180.9326,-55.1764 180.9326,-46.1817\" fill=\"none\" stroke=\"#000000\"/>\n<polygon fill=\"#000000\" points=\"184.4327,-46.0903 180.9326,-36.0904 177.4327,-46.0904 184.4327,-46.0903\" stroke=\"#000000\"/>\n</g>\n</g>\n</svg>"
          },
          "metadata": {
            "tags": []
          }
        },
        {
          "output_type": "display_data",
          "data": {
            "text/html": [
              "<b>Data</b> 1 2 3 4<span style=\"background-color:#FFCACA;\"></span>"
            ],
            "text/plain": [
              "<IPython.core.display.HTML object>"
            ]
          },
          "metadata": {
            "tags": []
          }
        },
        {
          "output_type": "display_data",
          "data": {
            "text/plain": [
              "<IPython.core.display.SVG object>"
            ],
            "image/svg+xml": "<svg height=\"202pt\" viewBox=\"0.00 0.00 293.87 202.00\" width=\"294pt\" xmlns=\"http://www.w3.org/2000/svg\" xmlns:xlink=\"http://www.w3.org/1999/xlink\">\n<g class=\"graph\" id=\"graph0\" transform=\"scale(1 1) rotate(0) translate(4 198)\">\n<title>tree</title>\n<polygon fill=\"#ffffff\" points=\"-4,4 -4,-198 289.8652,-198 289.8652,4 -4,4\" stroke=\"transparent\"/>\n<!-- n1 -->\n<g class=\"node\" id=\"node1\">\n<title>n1</title>\n<ellipse cx=\"130.9326\" cy=\"-176\" fill=\"none\" rx=\"33.4852\" ry=\"18\" stroke=\"#000000\"/>\n<text fill=\"#000000\" font-family=\"Meiryo UI\" font-size=\"12.00\" text-anchor=\"middle\" x=\"130.9326\" y=\"-172.9\">#List</text>\n</g>\n<!-- n2 -->\n<g class=\"node\" id=\"node2\">\n<title>n2</title>\n<ellipse cx=\"28.9326\" cy=\"-91\" fill=\"none\" rx=\"28.8653\" ry=\"18\" stroke=\"#000000\"/>\n<text fill=\"#000000\" font-family=\"Meiryo UI\" font-size=\"12.00\" text-anchor=\"middle\" x=\"28.9326\" y=\"-87.9\">#Int</text>\n</g>\n<!-- n1&#45;&gt;n2 -->\n<g class=\"edge\" id=\"edge2\">\n<title>n1-&gt;n2</title>\n<path d=\"M112.697,-160.8037C96.3981,-147.2213 72.3567,-127.1867 54.2056,-112.0609\" fill=\"none\" stroke=\"#000000\"/>\n<polygon fill=\"#000000\" points=\"56.2523,-109.2105 46.3294,-105.4974 51.771,-114.588 56.2523,-109.2105\" stroke=\"#000000\"/>\n<text fill=\"#000000\" font-family=\"Times,serif\" font-size=\"12.00\" text-anchor=\"middle\" x=\"90.4326\" y=\"-130.4\">0</text>\n</g>\n<!-- n3 -->\n<g class=\"node\" id=\"node4\">\n<title>n3</title>\n<ellipse cx=\"104.9326\" cy=\"-91\" fill=\"none\" rx=\"28.8653\" ry=\"18\" stroke=\"#000000\"/>\n<text fill=\"#000000\" font-family=\"Meiryo UI\" font-size=\"12.00\" text-anchor=\"middle\" x=\"104.9326\" y=\"-87.9\">#Int</text>\n</g>\n<!-- n1&#45;&gt;n3 -->\n<g class=\"edge\" id=\"edge4\">\n<title>n1-&gt;n3</title>\n<path d=\"M125.4187,-157.9737C121.9136,-146.5147 117.3071,-131.455 113.3501,-118.5188\" fill=\"none\" stroke=\"#000000\"/>\n<polygon fill=\"#000000\" points=\"116.6215,-117.2477 110.3494,-108.7089 109.9276,-119.2953 116.6215,-117.2477\" stroke=\"#000000\"/>\n<text fill=\"#000000\" font-family=\"Times,serif\" font-size=\"12.00\" text-anchor=\"middle\" x=\"123.4326\" y=\"-130.4\">1</text>\n</g>\n<!-- n4 -->\n<g class=\"node\" id=\"node6\">\n<title>n4</title>\n<ellipse cx=\"180.9326\" cy=\"-91\" fill=\"none\" rx=\"28.8653\" ry=\"18\" stroke=\"#000000\"/>\n<text fill=\"#000000\" font-family=\"Meiryo UI\" font-size=\"12.00\" text-anchor=\"middle\" x=\"180.9326\" y=\"-87.9\">#Int</text>\n</g>\n<!-- n1&#45;&gt;n4 -->\n<g class=\"edge\" id=\"edge6\">\n<title>n1-&gt;n4</title>\n<path d=\"M141.0508,-158.799C148.0991,-146.8169 157.6286,-130.6168 165.605,-117.0569\" fill=\"none\" stroke=\"#000000\"/>\n<polygon fill=\"#000000\" points=\"168.7759,-118.5694 170.8294,-108.1754 162.7424,-115.0202 168.7759,-118.5694\" stroke=\"#000000\"/>\n<text fill=\"#000000\" font-family=\"Times,serif\" font-size=\"12.00\" text-anchor=\"middle\" x=\"162.4326\" y=\"-130.4\">2</text>\n</g>\n<!-- n5 -->\n<g class=\"node\" id=\"node8\">\n<title>n5</title>\n<ellipse cx=\"256.9326\" cy=\"-91\" fill=\"none\" rx=\"28.8653\" ry=\"18\" stroke=\"#000000\"/>\n<text fill=\"#000000\" font-family=\"Meiryo UI\" font-size=\"12.00\" text-anchor=\"middle\" x=\"256.9326\" y=\"-87.9\">#Int</text>\n</g>\n<!-- n1&#45;&gt;n5 -->\n<g class=\"edge\" id=\"edge8\">\n<title>n1-&gt;n5</title>\n<path d=\"M152.0222,-161.7729C173.019,-147.6084 205.3826,-125.7758 228.6106,-110.1061\" fill=\"none\" stroke=\"#000000\"/>\n<polygon fill=\"#000000\" points=\"230.6903,-112.9251 237.0229,-104.4311 226.7755,-107.1221 230.6903,-112.9251\" stroke=\"#000000\"/>\n<text fill=\"#000000\" font-family=\"Times,serif\" font-size=\"12.00\" text-anchor=\"middle\" x=\"205.4326\" y=\"-130.4\">3</text>\n</g>\n<!-- c2 -->\n<g class=\"node\" id=\"node3\">\n<title>c2</title>\n<polygon fill=\"none\" points=\"55.9326,-36 1.9326,-36 1.9326,0 55.9326,0 55.9326,-36\" stroke=\"#000000\"/>\n<text fill=\"#0000ff\" font-family=\"monospace\" font-size=\"12.00\" text-anchor=\"middle\" x=\"28.9326\" y=\"-14.9\">'1'</text>\n</g>\n<!-- n2&#45;&gt;c2 -->\n<g class=\"edge\" id=\"edge1\">\n<title>n2-&gt;c2</title>\n<path d=\"M28.9326,-72.9551C28.9326,-64.8828 28.9326,-55.1764 28.9326,-46.1817\" fill=\"none\" stroke=\"#000000\"/>\n<polygon fill=\"#000000\" points=\"32.4327,-46.0903 28.9326,-36.0904 25.4327,-46.0904 32.4327,-46.0903\" stroke=\"#000000\"/>\n</g>\n<!-- c3 -->\n<g class=\"node\" id=\"node5\">\n<title>c3</title>\n<polygon fill=\"none\" points=\"131.9326,-36 77.9326,-36 77.9326,0 131.9326,0 131.9326,-36\" stroke=\"#000000\"/>\n<text fill=\"#0000ff\" font-family=\"monospace\" font-size=\"12.00\" text-anchor=\"middle\" x=\"104.9326\" y=\"-14.9\">'2'</text>\n</g>\n<!-- n3&#45;&gt;c3 -->\n<g class=\"edge\" id=\"edge3\">\n<title>n3-&gt;c3</title>\n<path d=\"M104.9326,-72.9551C104.9326,-64.8828 104.9326,-55.1764 104.9326,-46.1817\" fill=\"none\" stroke=\"#000000\"/>\n<polygon fill=\"#000000\" points=\"108.4327,-46.0903 104.9326,-36.0904 101.4327,-46.0904 108.4327,-46.0903\" stroke=\"#000000\"/>\n</g>\n<!-- c4 -->\n<g class=\"node\" id=\"node7\">\n<title>c4</title>\n<polygon fill=\"none\" points=\"207.9326,-36 153.9326,-36 153.9326,0 207.9326,0 207.9326,-36\" stroke=\"#000000\"/>\n<text fill=\"#0000ff\" font-family=\"monospace\" font-size=\"12.00\" text-anchor=\"middle\" x=\"180.9326\" y=\"-14.9\">'3'</text>\n</g>\n<!-- n4&#45;&gt;c4 -->\n<g class=\"edge\" id=\"edge5\">\n<title>n4-&gt;c4</title>\n<path d=\"M180.9326,-72.9551C180.9326,-64.8828 180.9326,-55.1764 180.9326,-46.1817\" fill=\"none\" stroke=\"#000000\"/>\n<polygon fill=\"#000000\" points=\"184.4327,-46.0903 180.9326,-36.0904 177.4327,-46.0904 184.4327,-46.0903\" stroke=\"#000000\"/>\n</g>\n<!-- c5 -->\n<g class=\"node\" id=\"node9\">\n<title>c5</title>\n<polygon fill=\"none\" points=\"283.9326,-36 229.9326,-36 229.9326,0 283.9326,0 283.9326,-36\" stroke=\"#000000\"/>\n<text fill=\"#0000ff\" font-family=\"monospace\" font-size=\"12.00\" text-anchor=\"middle\" x=\"256.9326\" y=\"-14.9\">'4'</text>\n</g>\n<!-- n5&#45;&gt;c5 -->\n<g class=\"edge\" id=\"edge7\">\n<title>n5-&gt;c5</title>\n<path d=\"M256.9326,-72.9551C256.9326,-64.8828 256.9326,-55.1764 256.9326,-46.1817\" fill=\"none\" stroke=\"#000000\"/>\n<polygon fill=\"#000000\" points=\"260.4327,-46.0903 256.9326,-36.0904 253.4327,-46.0904 260.4327,-46.0903\" stroke=\"#000000\"/>\n</g>\n</g>\n</svg>"
          },
          "metadata": {
            "tags": []
          }
        }
      ]
    },
    {
      "cell_type": "code",
      "metadata": {
        "colab": {
          "base_uri": "https://localhost:8080/",
          "height": 938
        },
        "id": "r-a5FoBGsaUp",
        "outputId": "2337dfa2-b991-4a25-f2de-dbc88c8077cd"
      },
      "source": [
        "%%peg\n",
        "\n",
        "Data = { Int _ (Data / Int) #Pair }\n",
        "Int = {  DIGIT+ #Int }\n",
        "DIGIT = [0-9]\n",
        "_ = [ \\t]+  // 空白\n",
        "\n",
        "example Data 1 2 3\n",
        "example Data 1 2 3 4\n"
      ],
      "execution_count": null,
      "outputs": [
        {
          "output_type": "display_data",
          "data": {
            "text/html": [
              "<b>Data</b> 1 2 3<span style=\"background-color:#FFCACA;\"></span>"
            ],
            "text/plain": [
              "<IPython.core.display.HTML object>"
            ]
          },
          "metadata": {
            "tags": []
          }
        },
        {
          "output_type": "display_data",
          "data": {
            "text/plain": [
              "<IPython.core.display.SVG object>"
            ],
            "image/svg+xml": "<svg height=\"287pt\" viewBox=\"0.00 0.00 218.87 287.00\" width=\"219pt\" xmlns=\"http://www.w3.org/2000/svg\" xmlns:xlink=\"http://www.w3.org/1999/xlink\">\n<g class=\"graph\" id=\"graph0\" transform=\"scale(1 1) rotate(0) translate(4 283)\">\n<title>tree</title>\n<polygon fill=\"#ffffff\" points=\"-4,4 -4,-283 214.8652,-283 214.8652,4 -4,4\" stroke=\"transparent\"/>\n<!-- n1 -->\n<g class=\"node\" id=\"node1\">\n<title>n1</title>\n<ellipse cx=\"68.9326\" cy=\"-261\" fill=\"none\" rx=\"33.4852\" ry=\"18\" stroke=\"#000000\"/>\n<text fill=\"#000000\" font-family=\"Meiryo UI\" font-size=\"12.00\" text-anchor=\"middle\" x=\"68.9326\" y=\"-257.9\">#Pair</text>\n</g>\n<!-- n2 -->\n<g class=\"node\" id=\"node2\">\n<title>n2</title>\n<ellipse cx=\"28.9326\" cy=\"-176\" fill=\"none\" rx=\"28.8653\" ry=\"18\" stroke=\"#000000\"/>\n<text fill=\"#000000\" font-family=\"Meiryo UI\" font-size=\"12.00\" text-anchor=\"middle\" x=\"28.9326\" y=\"-172.9\">#Int</text>\n</g>\n<!-- n1&#45;&gt;n2 -->\n<g class=\"edge\" id=\"edge2\">\n<title>n1-&gt;n2</title>\n<path d=\"M60.6446,-243.3879C55.0836,-231.5708 47.6573,-215.7901 41.3893,-202.4705\" fill=\"none\" stroke=\"#000000\"/>\n<polygon fill=\"#000000\" points=\"44.498,-200.8566 37.0731,-193.2987 38.1643,-203.8372 44.498,-200.8566\" stroke=\"#000000\"/>\n<text fill=\"#000000\" font-family=\"Times,serif\" font-size=\"12.00\" text-anchor=\"middle\" x=\"55.4326\" y=\"-215.4\">0</text>\n</g>\n<!-- n3 -->\n<g class=\"node\" id=\"node4\">\n<title>n3</title>\n<ellipse cx=\"108.9326\" cy=\"-176\" fill=\"none\" rx=\"33.4852\" ry=\"18\" stroke=\"#000000\"/>\n<text fill=\"#000000\" font-family=\"Meiryo UI\" font-size=\"12.00\" text-anchor=\"middle\" x=\"108.9326\" y=\"-172.9\">#Pair</text>\n</g>\n<!-- n1&#45;&gt;n3 -->\n<g class=\"edge\" id=\"edge7\">\n<title>n1-&gt;n3</title>\n<path d=\"M77.2206,-243.3879C82.7448,-231.6491 90.1096,-215.9989 96.3512,-202.7355\" fill=\"none\" stroke=\"#000000\"/>\n<polygon fill=\"#000000\" points=\"99.564,-204.128 100.6552,-193.5895 93.2303,-201.1474 99.564,-204.128\" stroke=\"#000000\"/>\n<text fill=\"#000000\" font-family=\"Times,serif\" font-size=\"12.00\" text-anchor=\"middle\" x=\"95.4326\" y=\"-215.4\">1</text>\n</g>\n<!-- c2 -->\n<g class=\"node\" id=\"node3\">\n<title>c2</title>\n<polygon fill=\"none\" points=\"55.9326,-109 1.9326,-109 1.9326,-73 55.9326,-73 55.9326,-109\" stroke=\"#000000\"/>\n<text fill=\"#0000ff\" font-family=\"monospace\" font-size=\"12.00\" text-anchor=\"middle\" x=\"28.9326\" y=\"-87.9\">'1'</text>\n</g>\n<!-- n2&#45;&gt;c2 -->\n<g class=\"edge\" id=\"edge1\">\n<title>n2-&gt;c2</title>\n<path d=\"M28.9326,-157.9737C28.9326,-146.7043 28.9326,-131.9524 28.9326,-119.1627\" fill=\"none\" stroke=\"#000000\"/>\n<polygon fill=\"#000000\" points=\"32.4327,-119.0003 28.9326,-109.0003 25.4327,-119.0004 32.4327,-119.0003\" stroke=\"#000000\"/>\n</g>\n<!-- n4 -->\n<g class=\"node\" id=\"node5\">\n<title>n4</title>\n<ellipse cx=\"105.9326\" cy=\"-91\" fill=\"none\" rx=\"28.8653\" ry=\"18\" stroke=\"#000000\"/>\n<text fill=\"#000000\" font-family=\"Meiryo UI\" font-size=\"12.00\" text-anchor=\"middle\" x=\"105.9326\" y=\"-87.9\">#Int</text>\n</g>\n<!-- n3&#45;&gt;n4 -->\n<g class=\"edge\" id=\"edge4\">\n<title>n3-&gt;n4</title>\n<path d=\"M108.2964,-157.9737C107.8986,-146.7043 107.378,-131.9524 106.9266,-119.1627\" fill=\"none\" stroke=\"#000000\"/>\n<polygon fill=\"#000000\" points=\"110.4185,-118.8706 106.5679,-109.0003 103.4229,-119.1176 110.4185,-118.8706\" stroke=\"#000000\"/>\n<text fill=\"#000000\" font-family=\"Times,serif\" font-size=\"12.00\" text-anchor=\"middle\" x=\"111.4326\" y=\"-130.4\">0</text>\n</g>\n<!-- n5 -->\n<g class=\"node\" id=\"node7\">\n<title>n5</title>\n<ellipse cx=\"181.9326\" cy=\"-91\" fill=\"none\" rx=\"28.8653\" ry=\"18\" stroke=\"#000000\"/>\n<text fill=\"#000000\" font-family=\"Meiryo UI\" font-size=\"12.00\" text-anchor=\"middle\" x=\"181.9326\" y=\"-87.9\">#Int</text>\n</g>\n<!-- n3&#45;&gt;n5 -->\n<g class=\"edge\" id=\"edge6\">\n<title>n3-&gt;n5</title>\n<path d=\"M123.0077,-159.6111C133.8829,-146.9483 149.0943,-129.2363 161.3377,-114.9803\" fill=\"none\" stroke=\"#000000\"/>\n<polygon fill=\"#000000\" points=\"164.2881,-116.9169 168.1482,-107.0503 158.9777,-112.3562 164.2881,-116.9169\" stroke=\"#000000\"/>\n<text fill=\"#000000\" font-family=\"Times,serif\" font-size=\"12.00\" text-anchor=\"middle\" x=\"153.4326\" y=\"-130.4\">1</text>\n</g>\n<!-- c4 -->\n<g class=\"node\" id=\"node6\">\n<title>c4</title>\n<polygon fill=\"none\" points=\"132.9326,-36 78.9326,-36 78.9326,0 132.9326,0 132.9326,-36\" stroke=\"#000000\"/>\n<text fill=\"#0000ff\" font-family=\"monospace\" font-size=\"12.00\" text-anchor=\"middle\" x=\"105.9326\" y=\"-14.9\">'2'</text>\n</g>\n<!-- n4&#45;&gt;c4 -->\n<g class=\"edge\" id=\"edge3\">\n<title>n4-&gt;c4</title>\n<path d=\"M105.9326,-72.9551C105.9326,-64.8828 105.9326,-55.1764 105.9326,-46.1817\" fill=\"none\" stroke=\"#000000\"/>\n<polygon fill=\"#000000\" points=\"109.4327,-46.0903 105.9326,-36.0904 102.4327,-46.0904 109.4327,-46.0903\" stroke=\"#000000\"/>\n</g>\n<!-- c5 -->\n<g class=\"node\" id=\"node8\">\n<title>c5</title>\n<polygon fill=\"none\" points=\"208.9326,-36 154.9326,-36 154.9326,0 208.9326,0 208.9326,-36\" stroke=\"#000000\"/>\n<text fill=\"#0000ff\" font-family=\"monospace\" font-size=\"12.00\" text-anchor=\"middle\" x=\"181.9326\" y=\"-14.9\">'3'</text>\n</g>\n<!-- n5&#45;&gt;c5 -->\n<g class=\"edge\" id=\"edge5\">\n<title>n5-&gt;c5</title>\n<path d=\"M181.9326,-72.9551C181.9326,-64.8828 181.9326,-55.1764 181.9326,-46.1817\" fill=\"none\" stroke=\"#000000\"/>\n<polygon fill=\"#000000\" points=\"185.4327,-46.0903 181.9326,-36.0904 178.4327,-46.0904 185.4327,-46.0903\" stroke=\"#000000\"/>\n</g>\n</g>\n</svg>"
          },
          "metadata": {
            "tags": []
          }
        },
        {
          "output_type": "display_data",
          "data": {
            "text/html": [
              "<b>Data</b> 1 2 3 4<span style=\"background-color:#FFCACA;\"></span>"
            ],
            "text/plain": [
              "<IPython.core.display.HTML object>"
            ]
          },
          "metadata": {
            "tags": []
          }
        },
        {
          "output_type": "display_data",
          "data": {
            "text/plain": [
              "<IPython.core.display.SVG object>"
            ],
            "image/svg+xml": "<svg height=\"372pt\" viewBox=\"0.00 0.00 295.87 372.00\" width=\"296pt\" xmlns=\"http://www.w3.org/2000/svg\" xmlns:xlink=\"http://www.w3.org/1999/xlink\">\n<g class=\"graph\" id=\"graph0\" transform=\"scale(1 1) rotate(0) translate(4 368)\">\n<title>tree</title>\n<polygon fill=\"#ffffff\" points=\"-4,4 -4,-368 291.8652,-368 291.8652,4 -4,4\" stroke=\"transparent\"/>\n<!-- n1 -->\n<g class=\"node\" id=\"node1\">\n<title>n1</title>\n<ellipse cx=\"68.9326\" cy=\"-346\" fill=\"none\" rx=\"33.4852\" ry=\"18\" stroke=\"#000000\"/>\n<text fill=\"#000000\" font-family=\"Meiryo UI\" font-size=\"12.00\" text-anchor=\"middle\" x=\"68.9326\" y=\"-342.9\">#Pair</text>\n</g>\n<!-- n2 -->\n<g class=\"node\" id=\"node2\">\n<title>n2</title>\n<ellipse cx=\"28.9326\" cy=\"-261\" fill=\"none\" rx=\"28.8653\" ry=\"18\" stroke=\"#000000\"/>\n<text fill=\"#000000\" font-family=\"Meiryo UI\" font-size=\"12.00\" text-anchor=\"middle\" x=\"28.9326\" y=\"-257.9\">#Int</text>\n</g>\n<!-- n1&#45;&gt;n2 -->\n<g class=\"edge\" id=\"edge2\">\n<title>n1-&gt;n2</title>\n<path d=\"M60.6446,-328.3879C55.0836,-316.5708 47.6573,-300.7901 41.3893,-287.4705\" fill=\"none\" stroke=\"#000000\"/>\n<polygon fill=\"#000000\" points=\"44.498,-285.8566 37.0731,-278.2987 38.1643,-288.8372 44.498,-285.8566\" stroke=\"#000000\"/>\n<text fill=\"#000000\" font-family=\"Times,serif\" font-size=\"12.00\" text-anchor=\"middle\" x=\"55.4326\" y=\"-300.4\">0</text>\n</g>\n<!-- n3 -->\n<g class=\"node\" id=\"node4\">\n<title>n3</title>\n<ellipse cx=\"108.9326\" cy=\"-261\" fill=\"none\" rx=\"33.4852\" ry=\"18\" stroke=\"#000000\"/>\n<text fill=\"#000000\" font-family=\"Meiryo UI\" font-size=\"12.00\" text-anchor=\"middle\" x=\"108.9326\" y=\"-257.9\">#Pair</text>\n</g>\n<!-- n1&#45;&gt;n3 -->\n<g class=\"edge\" id=\"edge10\">\n<title>n1-&gt;n3</title>\n<path d=\"M77.2206,-328.3879C82.7448,-316.6491 90.1096,-300.9989 96.3512,-287.7355\" fill=\"none\" stroke=\"#000000\"/>\n<polygon fill=\"#000000\" points=\"99.564,-289.128 100.6552,-278.5895 93.2303,-286.1474 99.564,-289.128\" stroke=\"#000000\"/>\n<text fill=\"#000000\" font-family=\"Times,serif\" font-size=\"12.00\" text-anchor=\"middle\" x=\"95.4326\" y=\"-300.4\">1</text>\n</g>\n<!-- c2 -->\n<g class=\"node\" id=\"node3\">\n<title>c2</title>\n<polygon fill=\"none\" points=\"55.9326,-194 1.9326,-194 1.9326,-158 55.9326,-158 55.9326,-194\" stroke=\"#000000\"/>\n<text fill=\"#0000ff\" font-family=\"monospace\" font-size=\"12.00\" text-anchor=\"middle\" x=\"28.9326\" y=\"-172.9\">'1'</text>\n</g>\n<!-- n2&#45;&gt;c2 -->\n<g class=\"edge\" id=\"edge1\">\n<title>n2-&gt;c2</title>\n<path d=\"M28.9326,-242.9737C28.9326,-231.7043 28.9326,-216.9524 28.9326,-204.1627\" fill=\"none\" stroke=\"#000000\"/>\n<polygon fill=\"#000000\" points=\"32.4327,-204.0003 28.9326,-194.0003 25.4327,-204.0004 32.4327,-204.0003\" stroke=\"#000000\"/>\n</g>\n<!-- n4 -->\n<g class=\"node\" id=\"node5\">\n<title>n4</title>\n<ellipse cx=\"105.9326\" cy=\"-176\" fill=\"none\" rx=\"28.8653\" ry=\"18\" stroke=\"#000000\"/>\n<text fill=\"#000000\" font-family=\"Meiryo UI\" font-size=\"12.00\" text-anchor=\"middle\" x=\"105.9326\" y=\"-172.9\">#Int</text>\n</g>\n<!-- n3&#45;&gt;n4 -->\n<g class=\"edge\" id=\"edge4\">\n<title>n3-&gt;n4</title>\n<path d=\"M108.2964,-242.9737C107.8986,-231.7043 107.378,-216.9524 106.9266,-204.1627\" fill=\"none\" stroke=\"#000000\"/>\n<polygon fill=\"#000000\" points=\"110.4185,-203.8706 106.5679,-194.0003 103.4229,-204.1176 110.4185,-203.8706\" stroke=\"#000000\"/>\n<text fill=\"#000000\" font-family=\"Times,serif\" font-size=\"12.00\" text-anchor=\"middle\" x=\"111.4326\" y=\"-215.4\">0</text>\n</g>\n<!-- n5 -->\n<g class=\"node\" id=\"node7\">\n<title>n5</title>\n<ellipse cx=\"185.9326\" cy=\"-176\" fill=\"none\" rx=\"33.4852\" ry=\"18\" stroke=\"#000000\"/>\n<text fill=\"#000000\" font-family=\"Meiryo UI\" font-size=\"12.00\" text-anchor=\"middle\" x=\"185.9326\" y=\"-172.9\">#Pair</text>\n</g>\n<!-- n3&#45;&gt;n5 -->\n<g class=\"edge\" id=\"edge9\">\n<title>n3-&gt;n5</title>\n<path d=\"M123.779,-244.6111C135.2835,-231.9114 151.3886,-214.133 164.3222,-199.8557\" fill=\"none\" stroke=\"#000000\"/>\n<polygon fill=\"#000000\" points=\"167.012,-202.0996 171.1318,-192.3385 161.8241,-197.4 167.012,-202.0996\" stroke=\"#000000\"/>\n<text fill=\"#000000\" font-family=\"Times,serif\" font-size=\"12.00\" text-anchor=\"middle\" x=\"156.4326\" y=\"-215.4\">1</text>\n</g>\n<!-- c4 -->\n<g class=\"node\" id=\"node6\">\n<title>c4</title>\n<polygon fill=\"none\" points=\"132.9326,-109 78.9326,-109 78.9326,-73 132.9326,-73 132.9326,-109\" stroke=\"#000000\"/>\n<text fill=\"#0000ff\" font-family=\"monospace\" font-size=\"12.00\" text-anchor=\"middle\" x=\"105.9326\" y=\"-87.9\">'2'</text>\n</g>\n<!-- n4&#45;&gt;c4 -->\n<g class=\"edge\" id=\"edge3\">\n<title>n4-&gt;c4</title>\n<path d=\"M105.9326,-157.9737C105.9326,-146.7043 105.9326,-131.9524 105.9326,-119.1627\" fill=\"none\" stroke=\"#000000\"/>\n<polygon fill=\"#000000\" points=\"109.4327,-119.0003 105.9326,-109.0003 102.4327,-119.0004 109.4327,-119.0003\" stroke=\"#000000\"/>\n</g>\n<!-- n6 -->\n<g class=\"node\" id=\"node8\">\n<title>n6</title>\n<ellipse cx=\"182.9326\" cy=\"-91\" fill=\"none\" rx=\"28.8653\" ry=\"18\" stroke=\"#000000\"/>\n<text fill=\"#000000\" font-family=\"Meiryo UI\" font-size=\"12.00\" text-anchor=\"middle\" x=\"182.9326\" y=\"-87.9\">#Int</text>\n</g>\n<!-- n5&#45;&gt;n6 -->\n<g class=\"edge\" id=\"edge6\">\n<title>n5-&gt;n6</title>\n<path d=\"M185.2964,-157.9737C184.8986,-146.7043 184.378,-131.9524 183.9266,-119.1627\" fill=\"none\" stroke=\"#000000\"/>\n<polygon fill=\"#000000\" points=\"187.4185,-118.8706 183.5679,-109.0003 180.4229,-119.1176 187.4185,-118.8706\" stroke=\"#000000\"/>\n<text fill=\"#000000\" font-family=\"Times,serif\" font-size=\"12.00\" text-anchor=\"middle\" x=\"188.4326\" y=\"-130.4\">0</text>\n</g>\n<!-- n7 -->\n<g class=\"node\" id=\"node10\">\n<title>n7</title>\n<ellipse cx=\"258.9326\" cy=\"-91\" fill=\"none\" rx=\"28.8653\" ry=\"18\" stroke=\"#000000\"/>\n<text fill=\"#000000\" font-family=\"Meiryo UI\" font-size=\"12.00\" text-anchor=\"middle\" x=\"258.9326\" y=\"-87.9\">#Int</text>\n</g>\n<!-- n5&#45;&gt;n7 -->\n<g class=\"edge\" id=\"edge8\">\n<title>n5-&gt;n7</title>\n<path d=\"M200.0077,-159.6111C210.8829,-146.9483 226.0943,-129.2363 238.3377,-114.9803\" fill=\"none\" stroke=\"#000000\"/>\n<polygon fill=\"#000000\" points=\"241.2881,-116.9169 245.1482,-107.0503 235.9777,-112.3562 241.2881,-116.9169\" stroke=\"#000000\"/>\n<text fill=\"#000000\" font-family=\"Times,serif\" font-size=\"12.00\" text-anchor=\"middle\" x=\"230.4326\" y=\"-130.4\">1</text>\n</g>\n<!-- c6 -->\n<g class=\"node\" id=\"node9\">\n<title>c6</title>\n<polygon fill=\"none\" points=\"209.9326,-36 155.9326,-36 155.9326,0 209.9326,0 209.9326,-36\" stroke=\"#000000\"/>\n<text fill=\"#0000ff\" font-family=\"monospace\" font-size=\"12.00\" text-anchor=\"middle\" x=\"182.9326\" y=\"-14.9\">'3'</text>\n</g>\n<!-- n6&#45;&gt;c6 -->\n<g class=\"edge\" id=\"edge5\">\n<title>n6-&gt;c6</title>\n<path d=\"M182.9326,-72.9551C182.9326,-64.8828 182.9326,-55.1764 182.9326,-46.1817\" fill=\"none\" stroke=\"#000000\"/>\n<polygon fill=\"#000000\" points=\"186.4327,-46.0903 182.9326,-36.0904 179.4327,-46.0904 186.4327,-46.0903\" stroke=\"#000000\"/>\n</g>\n<!-- c7 -->\n<g class=\"node\" id=\"node11\">\n<title>c7</title>\n<polygon fill=\"none\" points=\"285.9326,-36 231.9326,-36 231.9326,0 285.9326,0 285.9326,-36\" stroke=\"#000000\"/>\n<text fill=\"#0000ff\" font-family=\"monospace\" font-size=\"12.00\" text-anchor=\"middle\" x=\"258.9326\" y=\"-14.9\">'4'</text>\n</g>\n<!-- n7&#45;&gt;c7 -->\n<g class=\"edge\" id=\"edge7\">\n<title>n7-&gt;c7</title>\n<path d=\"M258.9326,-72.9551C258.9326,-64.8828 258.9326,-55.1764 258.9326,-46.1817\" fill=\"none\" stroke=\"#000000\"/>\n<polygon fill=\"#000000\" points=\"262.4327,-46.0903 258.9326,-36.0904 255.4327,-46.0904 262.4327,-46.0903\" stroke=\"#000000\"/>\n</g>\n</g>\n</svg>"
          },
          "metadata": {
            "tags": []
          }
        }
      ]
    },
    {
      "cell_type": "markdown",
      "metadata": {
        "id": "XavBUbxw8Twk"
      },
      "source": [
        "### フォルド"
      ]
    },
    {
      "cell_type": "code",
      "metadata": {
        "colab": {
          "base_uri": "https://localhost:8080/",
          "height": 938
        },
        "id": "tLnml-eltpkc",
        "outputId": "e7e9046b-feb7-4402-fb0d-1e191516b3d6"
      },
      "source": [
        "%%peg\n",
        "\n",
        "Data = Int {^ _ Int #Pair }*\n",
        "Int = {  DIGIT+ #Int }\n",
        "DIGIT = [0-9]\n",
        "_ = [ \\t]+  // 空白\n",
        "\n",
        "example Data 1 2 3\n",
        "example Data 1 2 3 4\n"
      ],
      "execution_count": null,
      "outputs": [
        {
          "output_type": "display_data",
          "data": {
            "text/html": [
              "<b>Data</b> 1 2 3<span style=\"background-color:#FFCACA;\"></span>"
            ],
            "text/plain": [
              "<IPython.core.display.HTML object>"
            ]
          },
          "metadata": {
            "tags": []
          }
        },
        {
          "output_type": "display_data",
          "data": {
            "text/plain": [
              "<IPython.core.display.SVG object>"
            ],
            "image/svg+xml": "<svg height=\"287pt\" viewBox=\"0.00 0.00 216.87 287.00\" width=\"217pt\" xmlns=\"http://www.w3.org/2000/svg\" xmlns:xlink=\"http://www.w3.org/1999/xlink\">\n<g class=\"graph\" id=\"graph0\" transform=\"scale(1 1) rotate(0) translate(4 283)\">\n<title>tree</title>\n<polygon fill=\"#ffffff\" points=\"-4,4 -4,-283 212.8652,-283 212.8652,4 -4,4\" stroke=\"transparent\"/>\n<!-- n1 -->\n<g class=\"node\" id=\"node1\">\n<title>n1</title>\n<ellipse cx=\"139.9326\" cy=\"-261\" fill=\"none\" rx=\"33.4852\" ry=\"18\" stroke=\"#000000\"/>\n<text fill=\"#000000\" font-family=\"Meiryo UI\" font-size=\"12.00\" text-anchor=\"middle\" x=\"139.9326\" y=\"-257.9\">#Pair</text>\n</g>\n<!-- n2 -->\n<g class=\"node\" id=\"node2\">\n<title>n2</title>\n<ellipse cx=\"99.9326\" cy=\"-176\" fill=\"none\" rx=\"33.4852\" ry=\"18\" stroke=\"#000000\"/>\n<text fill=\"#000000\" font-family=\"Meiryo UI\" font-size=\"12.00\" text-anchor=\"middle\" x=\"99.9326\" y=\"-172.9\">#Pair</text>\n</g>\n<!-- n1&#45;&gt;n2 -->\n<g class=\"edge\" id=\"edge5\">\n<title>n1-&gt;n2</title>\n<path d=\"M131.6446,-243.3879C126.1204,-231.6491 118.7556,-215.9989 112.514,-202.7355\" fill=\"none\" stroke=\"#000000\"/>\n<polygon fill=\"#000000\" points=\"115.6349,-201.1474 108.21,-193.5895 109.3012,-204.128 115.6349,-201.1474\" stroke=\"#000000\"/>\n<text fill=\"#000000\" font-family=\"Times,serif\" font-size=\"12.00\" text-anchor=\"middle\" x=\"126.4326\" y=\"-215.4\">0</text>\n</g>\n<!-- n5 -->\n<g class=\"node\" id=\"node7\">\n<title>n5</title>\n<ellipse cx=\"179.9326\" cy=\"-176\" fill=\"none\" rx=\"28.8653\" ry=\"18\" stroke=\"#000000\"/>\n<text fill=\"#000000\" font-family=\"Meiryo UI\" font-size=\"12.00\" text-anchor=\"middle\" x=\"179.9326\" y=\"-172.9\">#Int</text>\n</g>\n<!-- n1&#45;&gt;n5 -->\n<g class=\"edge\" id=\"edge7\">\n<title>n1-&gt;n5</title>\n<path d=\"M148.2206,-243.3879C153.7816,-231.5708 161.2078,-215.7901 167.4759,-202.4705\" fill=\"none\" stroke=\"#000000\"/>\n<polygon fill=\"#000000\" points=\"170.7009,-203.8372 171.792,-193.2987 164.3671,-200.8566 170.7009,-203.8372\" stroke=\"#000000\"/>\n<text fill=\"#000000\" font-family=\"Times,serif\" font-size=\"12.00\" text-anchor=\"middle\" x=\"166.4326\" y=\"-215.4\">1</text>\n</g>\n<!-- n3 -->\n<g class=\"node\" id=\"node3\">\n<title>n3</title>\n<ellipse cx=\"28.9326\" cy=\"-91\" fill=\"none\" rx=\"28.8653\" ry=\"18\" stroke=\"#000000\"/>\n<text fill=\"#000000\" font-family=\"Meiryo UI\" font-size=\"12.00\" text-anchor=\"middle\" x=\"28.9326\" y=\"-87.9\">#Int</text>\n</g>\n<!-- n2&#45;&gt;n3 -->\n<g class=\"edge\" id=\"edge2\">\n<title>n2-&gt;n3</title>\n<path d=\"M85.9053,-159.2067C75.365,-146.5881 60.7794,-129.1265 49.005,-115.0303\" fill=\"none\" stroke=\"#000000\"/>\n<polygon fill=\"#000000\" points=\"51.546,-112.6127 42.449,-107.1817 46.1736,-117.1003 51.546,-112.6127\" stroke=\"#000000\"/>\n<text fill=\"#000000\" font-family=\"Times,serif\" font-size=\"12.00\" text-anchor=\"middle\" x=\"72.4326\" y=\"-130.4\">0</text>\n</g>\n<!-- n4 -->\n<g class=\"node\" id=\"node5\">\n<title>n4</title>\n<ellipse cx=\"104.9326\" cy=\"-91\" fill=\"none\" rx=\"28.8653\" ry=\"18\" stroke=\"#000000\"/>\n<text fill=\"#000000\" font-family=\"Meiryo UI\" font-size=\"12.00\" text-anchor=\"middle\" x=\"104.9326\" y=\"-87.9\">#Int</text>\n</g>\n<!-- n2&#45;&gt;n4 -->\n<g class=\"edge\" id=\"edge4\">\n<title>n2-&gt;n4</title>\n<path d=\"M100.993,-157.9737C101.6559,-146.7043 102.5236,-131.9524 103.276,-119.1627\" fill=\"none\" stroke=\"#000000\"/>\n<polygon fill=\"#000000\" points=\"106.7804,-119.1886 103.8737,-109.0003 99.7925,-118.7775 106.7804,-119.1886\" stroke=\"#000000\"/>\n<text fill=\"#000000\" font-family=\"Times,serif\" font-size=\"12.00\" text-anchor=\"middle\" x=\"106.4326\" y=\"-130.4\">1</text>\n</g>\n<!-- c3 -->\n<g class=\"node\" id=\"node4\">\n<title>c3</title>\n<polygon fill=\"none\" points=\"55.9326,-36 1.9326,-36 1.9326,0 55.9326,0 55.9326,-36\" stroke=\"#000000\"/>\n<text fill=\"#0000ff\" font-family=\"monospace\" font-size=\"12.00\" text-anchor=\"middle\" x=\"28.9326\" y=\"-14.9\">'1'</text>\n</g>\n<!-- n3&#45;&gt;c3 -->\n<g class=\"edge\" id=\"edge1\">\n<title>n3-&gt;c3</title>\n<path d=\"M28.9326,-72.9551C28.9326,-64.8828 28.9326,-55.1764 28.9326,-46.1817\" fill=\"none\" stroke=\"#000000\"/>\n<polygon fill=\"#000000\" points=\"32.4327,-46.0903 28.9326,-36.0904 25.4327,-46.0904 32.4327,-46.0903\" stroke=\"#000000\"/>\n</g>\n<!-- c4 -->\n<g class=\"node\" id=\"node6\">\n<title>c4</title>\n<polygon fill=\"none\" points=\"131.9326,-36 77.9326,-36 77.9326,0 131.9326,0 131.9326,-36\" stroke=\"#000000\"/>\n<text fill=\"#0000ff\" font-family=\"monospace\" font-size=\"12.00\" text-anchor=\"middle\" x=\"104.9326\" y=\"-14.9\">'2'</text>\n</g>\n<!-- n4&#45;&gt;c4 -->\n<g class=\"edge\" id=\"edge3\">\n<title>n4-&gt;c4</title>\n<path d=\"M104.9326,-72.9551C104.9326,-64.8828 104.9326,-55.1764 104.9326,-46.1817\" fill=\"none\" stroke=\"#000000\"/>\n<polygon fill=\"#000000\" points=\"108.4327,-46.0903 104.9326,-36.0904 101.4327,-46.0904 108.4327,-46.0903\" stroke=\"#000000\"/>\n</g>\n<!-- c5 -->\n<g class=\"node\" id=\"node8\">\n<title>c5</title>\n<polygon fill=\"none\" points=\"206.9326,-109 152.9326,-109 152.9326,-73 206.9326,-73 206.9326,-109\" stroke=\"#000000\"/>\n<text fill=\"#0000ff\" font-family=\"monospace\" font-size=\"12.00\" text-anchor=\"middle\" x=\"179.9326\" y=\"-87.9\">'3'</text>\n</g>\n<!-- n5&#45;&gt;c5 -->\n<g class=\"edge\" id=\"edge6\">\n<title>n5-&gt;c5</title>\n<path d=\"M179.9326,-157.9737C179.9326,-146.7043 179.9326,-131.9524 179.9326,-119.1627\" fill=\"none\" stroke=\"#000000\"/>\n<polygon fill=\"#000000\" points=\"183.4327,-119.0003 179.9326,-109.0003 176.4327,-119.0004 183.4327,-119.0003\" stroke=\"#000000\"/>\n</g>\n</g>\n</svg>"
          },
          "metadata": {
            "tags": []
          }
        },
        {
          "output_type": "display_data",
          "data": {
            "text/html": [
              "<b>Data</b> 1 2 3 4<span style=\"background-color:#FFCACA;\"></span>"
            ],
            "text/plain": [
              "<IPython.core.display.HTML object>"
            ]
          },
          "metadata": {
            "tags": []
          }
        },
        {
          "output_type": "display_data",
          "data": {
            "text/plain": [
              "<IPython.core.display.SVG object>"
            ],
            "image/svg+xml": "<svg height=\"372pt\" viewBox=\"0.00 0.00 291.87 372.00\" width=\"292pt\" xmlns=\"http://www.w3.org/2000/svg\" xmlns:xlink=\"http://www.w3.org/1999/xlink\">\n<g class=\"graph\" id=\"graph0\" transform=\"scale(1 1) rotate(0) translate(4 368)\">\n<title>tree</title>\n<polygon fill=\"#ffffff\" points=\"-4,4 -4,-368 287.8652,-368 287.8652,4 -4,4\" stroke=\"transparent\"/>\n<!-- n1 -->\n<g class=\"node\" id=\"node1\">\n<title>n1</title>\n<ellipse cx=\"214.9326\" cy=\"-346\" fill=\"none\" rx=\"33.4852\" ry=\"18\" stroke=\"#000000\"/>\n<text fill=\"#000000\" font-family=\"Meiryo UI\" font-size=\"12.00\" text-anchor=\"middle\" x=\"214.9326\" y=\"-342.9\">#Pair</text>\n</g>\n<!-- n2 -->\n<g class=\"node\" id=\"node2\">\n<title>n2</title>\n<ellipse cx=\"174.9326\" cy=\"-261\" fill=\"none\" rx=\"33.4852\" ry=\"18\" stroke=\"#000000\"/>\n<text fill=\"#000000\" font-family=\"Meiryo UI\" font-size=\"12.00\" text-anchor=\"middle\" x=\"174.9326\" y=\"-257.9\">#Pair</text>\n</g>\n<!-- n1&#45;&gt;n2 -->\n<g class=\"edge\" id=\"edge8\">\n<title>n1-&gt;n2</title>\n<path d=\"M206.6446,-328.3879C201.1204,-316.6491 193.7556,-300.9989 187.514,-287.7355\" fill=\"none\" stroke=\"#000000\"/>\n<polygon fill=\"#000000\" points=\"190.6349,-286.1474 183.21,-278.5895 184.3012,-289.128 190.6349,-286.1474\" stroke=\"#000000\"/>\n<text fill=\"#000000\" font-family=\"Times,serif\" font-size=\"12.00\" text-anchor=\"middle\" x=\"201.4326\" y=\"-300.4\">0</text>\n</g>\n<!-- n7 -->\n<g class=\"node\" id=\"node10\">\n<title>n7</title>\n<ellipse cx=\"254.9326\" cy=\"-261\" fill=\"none\" rx=\"28.8653\" ry=\"18\" stroke=\"#000000\"/>\n<text fill=\"#000000\" font-family=\"Meiryo UI\" font-size=\"12.00\" text-anchor=\"middle\" x=\"254.9326\" y=\"-257.9\">#Int</text>\n</g>\n<!-- n1&#45;&gt;n7 -->\n<g class=\"edge\" id=\"edge10\">\n<title>n1-&gt;n7</title>\n<path d=\"M223.2206,-328.3879C228.7816,-316.5708 236.2078,-300.7901 242.4759,-287.4705\" fill=\"none\" stroke=\"#000000\"/>\n<polygon fill=\"#000000\" points=\"245.7009,-288.8372 246.792,-278.2987 239.3671,-285.8566 245.7009,-288.8372\" stroke=\"#000000\"/>\n<text fill=\"#000000\" font-family=\"Times,serif\" font-size=\"12.00\" text-anchor=\"middle\" x=\"241.4326\" y=\"-300.4\">1</text>\n</g>\n<!-- n3 -->\n<g class=\"node\" id=\"node3\">\n<title>n3</title>\n<ellipse cx=\"99.9326\" cy=\"-176\" fill=\"none\" rx=\"33.4852\" ry=\"18\" stroke=\"#000000\"/>\n<text fill=\"#000000\" font-family=\"Meiryo UI\" font-size=\"12.00\" text-anchor=\"middle\" x=\"99.9326\" y=\"-172.9\">#Pair</text>\n</g>\n<!-- n2&#45;&gt;n3 -->\n<g class=\"edge\" id=\"edge5\">\n<title>n2-&gt;n3</title>\n<path d=\"M160.4718,-244.6111C149.2662,-231.9114 133.5793,-214.133 120.9817,-199.8557\" fill=\"none\" stroke=\"#000000\"/>\n<polygon fill=\"#000000\" points=\"123.5896,-197.5213 114.349,-192.3385 118.3408,-202.1526 123.5896,-197.5213\" stroke=\"#000000\"/>\n<text fill=\"#000000\" font-family=\"Times,serif\" font-size=\"12.00\" text-anchor=\"middle\" x=\"145.4326\" y=\"-215.4\">0</text>\n</g>\n<!-- n6 -->\n<g class=\"node\" id=\"node8\">\n<title>n6</title>\n<ellipse cx=\"179.9326\" cy=\"-176\" fill=\"none\" rx=\"28.8653\" ry=\"18\" stroke=\"#000000\"/>\n<text fill=\"#000000\" font-family=\"Meiryo UI\" font-size=\"12.00\" text-anchor=\"middle\" x=\"179.9326\" y=\"-172.9\">#Int</text>\n</g>\n<!-- n2&#45;&gt;n6 -->\n<g class=\"edge\" id=\"edge7\">\n<title>n2-&gt;n6</title>\n<path d=\"M175.993,-242.9737C176.6559,-231.7043 177.5236,-216.9524 178.276,-204.1627\" fill=\"none\" stroke=\"#000000\"/>\n<polygon fill=\"#000000\" points=\"181.7804,-204.1886 178.8737,-194.0003 174.7925,-203.7775 181.7804,-204.1886\" stroke=\"#000000\"/>\n<text fill=\"#000000\" font-family=\"Times,serif\" font-size=\"12.00\" text-anchor=\"middle\" x=\"181.4326\" y=\"-215.4\">1</text>\n</g>\n<!-- n4 -->\n<g class=\"node\" id=\"node4\">\n<title>n4</title>\n<ellipse cx=\"28.9326\" cy=\"-91\" fill=\"none\" rx=\"28.8653\" ry=\"18\" stroke=\"#000000\"/>\n<text fill=\"#000000\" font-family=\"Meiryo UI\" font-size=\"12.00\" text-anchor=\"middle\" x=\"28.9326\" y=\"-87.9\">#Int</text>\n</g>\n<!-- n3&#45;&gt;n4 -->\n<g class=\"edge\" id=\"edge2\">\n<title>n3-&gt;n4</title>\n<path d=\"M85.9053,-159.2067C75.365,-146.5881 60.7794,-129.1265 49.005,-115.0303\" fill=\"none\" stroke=\"#000000\"/>\n<polygon fill=\"#000000\" points=\"51.546,-112.6127 42.449,-107.1817 46.1736,-117.1003 51.546,-112.6127\" stroke=\"#000000\"/>\n<text fill=\"#000000\" font-family=\"Times,serif\" font-size=\"12.00\" text-anchor=\"middle\" x=\"72.4326\" y=\"-130.4\">0</text>\n</g>\n<!-- n5 -->\n<g class=\"node\" id=\"node6\">\n<title>n5</title>\n<ellipse cx=\"104.9326\" cy=\"-91\" fill=\"none\" rx=\"28.8653\" ry=\"18\" stroke=\"#000000\"/>\n<text fill=\"#000000\" font-family=\"Meiryo UI\" font-size=\"12.00\" text-anchor=\"middle\" x=\"104.9326\" y=\"-87.9\">#Int</text>\n</g>\n<!-- n3&#45;&gt;n5 -->\n<g class=\"edge\" id=\"edge4\">\n<title>n3-&gt;n5</title>\n<path d=\"M100.993,-157.9737C101.6559,-146.7043 102.5236,-131.9524 103.276,-119.1627\" fill=\"none\" stroke=\"#000000\"/>\n<polygon fill=\"#000000\" points=\"106.7804,-119.1886 103.8737,-109.0003 99.7925,-118.7775 106.7804,-119.1886\" stroke=\"#000000\"/>\n<text fill=\"#000000\" font-family=\"Times,serif\" font-size=\"12.00\" text-anchor=\"middle\" x=\"106.4326\" y=\"-130.4\">1</text>\n</g>\n<!-- c4 -->\n<g class=\"node\" id=\"node5\">\n<title>c4</title>\n<polygon fill=\"none\" points=\"55.9326,-36 1.9326,-36 1.9326,0 55.9326,0 55.9326,-36\" stroke=\"#000000\"/>\n<text fill=\"#0000ff\" font-family=\"monospace\" font-size=\"12.00\" text-anchor=\"middle\" x=\"28.9326\" y=\"-14.9\">'1'</text>\n</g>\n<!-- n4&#45;&gt;c4 -->\n<g class=\"edge\" id=\"edge1\">\n<title>n4-&gt;c4</title>\n<path d=\"M28.9326,-72.9551C28.9326,-64.8828 28.9326,-55.1764 28.9326,-46.1817\" fill=\"none\" stroke=\"#000000\"/>\n<polygon fill=\"#000000\" points=\"32.4327,-46.0903 28.9326,-36.0904 25.4327,-46.0904 32.4327,-46.0903\" stroke=\"#000000\"/>\n</g>\n<!-- c5 -->\n<g class=\"node\" id=\"node7\">\n<title>c5</title>\n<polygon fill=\"none\" points=\"131.9326,-36 77.9326,-36 77.9326,0 131.9326,0 131.9326,-36\" stroke=\"#000000\"/>\n<text fill=\"#0000ff\" font-family=\"monospace\" font-size=\"12.00\" text-anchor=\"middle\" x=\"104.9326\" y=\"-14.9\">'2'</text>\n</g>\n<!-- n5&#45;&gt;c5 -->\n<g class=\"edge\" id=\"edge3\">\n<title>n5-&gt;c5</title>\n<path d=\"M104.9326,-72.9551C104.9326,-64.8828 104.9326,-55.1764 104.9326,-46.1817\" fill=\"none\" stroke=\"#000000\"/>\n<polygon fill=\"#000000\" points=\"108.4327,-46.0903 104.9326,-36.0904 101.4327,-46.0904 108.4327,-46.0903\" stroke=\"#000000\"/>\n</g>\n<!-- c6 -->\n<g class=\"node\" id=\"node9\">\n<title>c6</title>\n<polygon fill=\"none\" points=\"206.9326,-109 152.9326,-109 152.9326,-73 206.9326,-73 206.9326,-109\" stroke=\"#000000\"/>\n<text fill=\"#0000ff\" font-family=\"monospace\" font-size=\"12.00\" text-anchor=\"middle\" x=\"179.9326\" y=\"-87.9\">'3'</text>\n</g>\n<!-- n6&#45;&gt;c6 -->\n<g class=\"edge\" id=\"edge6\">\n<title>n6-&gt;c6</title>\n<path d=\"M179.9326,-157.9737C179.9326,-146.7043 179.9326,-131.9524 179.9326,-119.1627\" fill=\"none\" stroke=\"#000000\"/>\n<polygon fill=\"#000000\" points=\"183.4327,-119.0003 179.9326,-109.0003 176.4327,-119.0004 183.4327,-119.0003\" stroke=\"#000000\"/>\n</g>\n<!-- c7 -->\n<g class=\"node\" id=\"node11\">\n<title>c7</title>\n<polygon fill=\"none\" points=\"281.9326,-194 227.9326,-194 227.9326,-158 281.9326,-158 281.9326,-194\" stroke=\"#000000\"/>\n<text fill=\"#0000ff\" font-family=\"monospace\" font-size=\"12.00\" text-anchor=\"middle\" x=\"254.9326\" y=\"-172.9\">'4'</text>\n</g>\n<!-- n7&#45;&gt;c7 -->\n<g class=\"edge\" id=\"edge9\">\n<title>n7-&gt;c7</title>\n<path d=\"M254.9326,-242.9737C254.9326,-231.7043 254.9326,-216.9524 254.9326,-204.1627\" fill=\"none\" stroke=\"#000000\"/>\n<polygon fill=\"#000000\" points=\"258.4327,-204.0003 254.9326,-194.0003 251.4327,-204.0004 258.4327,-204.0003\" stroke=\"#000000\"/>\n</g>\n</g>\n</svg>"
          },
          "metadata": {
            "tags": []
          }
        }
      ]
    },
    {
      "cell_type": "markdown",
      "metadata": {
        "id": "w3MknVYKE-eK"
      },
      "source": [
        "# 4.3 情報抽出"
      ]
    },
    {
      "cell_type": "code",
      "metadata": {
        "colab": {
          "base_uri": "https://localhost:8080/",
          "height": 386
        },
        "id": "yG2eUC7YE-CO",
        "outputId": "6ae28142-4d31-4d05-d434-460f8b0924f8"
      },
      "source": [
        "%%peg email.pegtree\n",
        "\n",
        "EMAIL = LOCAL '@' DOMAIN\n",
        "LOCAL = [a-zA-Z0-9.!#$%&'*+/=?^_`{|}~\\-]+\n",
        "DOMAIN = SUBDOMAIN ('.' SUBDOMAIN)+\n",
        "SUBDOMAIN = [a-zA-Z0-9\\-]+\n",
        "\n",
        "example EMAIL mail@address.com\n",
        "example EMAIL mail+1@address.com\n"
      ],
      "execution_count": null,
      "outputs": [
        {
          "output_type": "display_data",
          "data": {
            "text/html": [
              "<b>EMAIL</b> mail@address.com<span style=\"background-color:#FFCACA;\"></span>"
            ],
            "text/plain": [
              "<IPython.core.display.HTML object>"
            ]
          },
          "metadata": {
            "tags": []
          }
        },
        {
          "output_type": "display_data",
          "data": {
            "text/plain": [
              "<IPython.core.display.SVG object>"
            ],
            "image/svg+xml": "<svg height=\"116pt\" viewBox=\"0.00 0.00 160.00 116.00\" width=\"160pt\" xmlns=\"http://www.w3.org/2000/svg\" xmlns:xlink=\"http://www.w3.org/1999/xlink\">\n<g class=\"graph\" id=\"graph0\" transform=\"scale(1 1) rotate(0) translate(4 112)\">\n<title>tree</title>\n<polygon fill=\"#ffffff\" points=\"-4,4 -4,-112 156,-112 156,4 -4,4\" stroke=\"transparent\"/>\n<!-- n1 -->\n<g class=\"node\" id=\"node1\">\n<title>n1</title>\n<ellipse cx=\"76\" cy=\"-90\" fill=\"none\" rx=\"27\" ry=\"18\" stroke=\"#000000\"/>\n<text fill=\"#000000\" font-family=\"Meiryo UI\" font-size=\"12.00\" text-anchor=\"middle\" x=\"76\" y=\"-86.9\">#</text>\n</g>\n<!-- c1 -->\n<g class=\"node\" id=\"node2\">\n<title>c1</title>\n<polygon fill=\"none\" points=\"152,-36 0,-36 0,0 152,0 152,-36\" stroke=\"#000000\"/>\n<text fill=\"#0000ff\" font-family=\"monospace\" font-size=\"12.00\" text-anchor=\"middle\" x=\"76\" y=\"-14.9\">'mail@address.com'</text>\n</g>\n<!-- n1&#45;&gt;c1 -->\n<g class=\"edge\" id=\"edge1\">\n<title>n1-&gt;c1</title>\n<path d=\"M76,-71.8314C76,-64.131 76,-54.9743 76,-46.4166\" fill=\"none\" stroke=\"#000000\"/>\n<polygon fill=\"#000000\" points=\"79.5001,-46.4132 76,-36.4133 72.5001,-46.4133 79.5001,-46.4132\" stroke=\"#000000\"/>\n</g>\n</g>\n</svg>"
          },
          "metadata": {
            "tags": []
          }
        },
        {
          "output_type": "display_data",
          "data": {
            "text/html": [
              "<b>EMAIL</b> mail+1@address.com<span style=\"background-color:#FFCACA;\"></span>"
            ],
            "text/plain": [
              "<IPython.core.display.HTML object>"
            ]
          },
          "metadata": {
            "tags": []
          }
        },
        {
          "output_type": "display_data",
          "data": {
            "text/plain": [
              "<IPython.core.display.SVG object>"
            ],
            "image/svg+xml": "<svg height=\"116pt\" viewBox=\"0.00 0.00 175.00 116.00\" width=\"175pt\" xmlns=\"http://www.w3.org/2000/svg\" xmlns:xlink=\"http://www.w3.org/1999/xlink\">\n<g class=\"graph\" id=\"graph0\" transform=\"scale(1 1) rotate(0) translate(4 112)\">\n<title>tree</title>\n<polygon fill=\"#ffffff\" points=\"-4,4 -4,-112 171,-112 171,4 -4,4\" stroke=\"transparent\"/>\n<!-- n1 -->\n<g class=\"node\" id=\"node1\">\n<title>n1</title>\n<ellipse cx=\"83.5\" cy=\"-90\" fill=\"none\" rx=\"27\" ry=\"18\" stroke=\"#000000\"/>\n<text fill=\"#000000\" font-family=\"Meiryo UI\" font-size=\"12.00\" text-anchor=\"middle\" x=\"83.5\" y=\"-86.9\">#</text>\n</g>\n<!-- c1 -->\n<g class=\"node\" id=\"node2\">\n<title>c1</title>\n<polygon fill=\"none\" points=\"167,-36 0,-36 0,0 167,0 167,-36\" stroke=\"#000000\"/>\n<text fill=\"#0000ff\" font-family=\"monospace\" font-size=\"12.00\" text-anchor=\"middle\" x=\"83.5\" y=\"-14.9\">'mail+1@address.com'</text>\n</g>\n<!-- n1&#45;&gt;c1 -->\n<g class=\"edge\" id=\"edge1\">\n<title>n1-&gt;c1</title>\n<path d=\"M83.5,-71.8314C83.5,-64.131 83.5,-54.9743 83.5,-46.4166\" fill=\"none\" stroke=\"#000000\"/>\n<polygon fill=\"#000000\" points=\"87.0001,-46.4132 83.5,-36.4133 80.0001,-46.4133 87.0001,-46.4132\" stroke=\"#000000\"/>\n</g>\n</g>\n</svg>"
          },
          "metadata": {
            "tags": []
          }
        },
        {
          "output_type": "stream",
          "text": [
            "wrote email.pegtree\n"
          ],
          "name": "stdout"
        }
      ]
    },
    {
      "cell_type": "code",
      "metadata": {
        "colab": {
          "base_uri": "https://localhost:8080/",
          "height": 358
        },
        "id": "N4xQ5cAKGIHy",
        "outputId": "3eec24b4-2fcb-4f84-fb71-4365e22d273f"
      },
      "source": [
        "%%peg email.pegtree\n",
        "\n",
        "EmailList = { (Email / .)* #List }\n",
        "\n",
        "Email = { EMAIL #Email }\n",
        "\n",
        "EMAIL = LOCAL '@' DOMAIN\n",
        "LOCAL = [a-zA-Z0-9.!#$%&'*+/=?^_`{|}~\\-]+\n",
        "DOMAIN = SUBDOMAIN ('.' SUBDOMAIN)+\n",
        "SUBDOMAIN = [a-zA-Z0-9\\-]+\n",
        "\n",
        "example EmailList '''\n",
        "Return-Path: <Asan@email.com>\n",
        "Authentication-Results: ***; spf=pass smtp.mailfrom=****; dkim=none\n",
        "Received: from example1.ne.jp by example2.ne.jp ; Tue, 14 Sep 2016 15:16:38 JST\n",
        "Date: Tue, 14 Sep 2016 15:16:37 +0900 (JST)\n",
        "From: Aさん<Asan@email.com>\n",
        "To: Bくん<Bkun@email.org>\n",
        "Subject: こんにちは\n",
        "MIME-Version: 1.0\n",
        "Content-Type: text/plain; charset=iso-2022-jp\n",
        "'''\n"
      ],
      "execution_count": null,
      "outputs": [
        {
          "output_type": "display_data",
          "data": {
            "text/html": [
              "<b>EmailList</b> Return-Path: <Asan@email.com>\n",
              "Authentication-Results: ***; spf=pass smtp.mailfrom=****; dkim=none\n",
              "Received: from example1.ne.jp by example2.ne.jp ; Tue, 14 Sep 2016 15:16:38 JST\n",
              "Date: Tue, 14 Sep 2016 15:16:37 +0900 (JST)\n",
              "From: Aさん<Asan@email.com>\n",
              "To: Bくん<Bkun@email.org>\n",
              "Subject: こんにちは\n",
              "MIME-Version: 1.0\n",
              "Content-Type: text/plain; charset=iso-2022-jp\n",
              "<span style=\"background-color:#FFCACA;\"></span>"
            ],
            "text/plain": [
              "<IPython.core.display.HTML object>"
            ]
          },
          "metadata": {
            "tags": []
          }
        },
        {
          "output_type": "display_data",
          "data": {
            "text/plain": [
              "<IPython.core.display.SVG object>"
            ],
            "image/svg+xml": "<svg height=\"202pt\" viewBox=\"0.00 0.00 455.00 202.00\" width=\"455pt\" xmlns=\"http://www.w3.org/2000/svg\" xmlns:xlink=\"http://www.w3.org/1999/xlink\">\n<g class=\"graph\" id=\"graph0\" transform=\"scale(1 1) rotate(0) translate(4 198)\">\n<title>tree</title>\n<polygon fill=\"#ffffff\" points=\"-4,4 -4,-198 451,-198 451,4 -4,4\" stroke=\"transparent\"/>\n<!-- n1 -->\n<g class=\"node\" id=\"node1\">\n<title>n1</title>\n<ellipse cx=\"223.5\" cy=\"-176\" fill=\"none\" rx=\"33.4852\" ry=\"18\" stroke=\"#000000\"/>\n<text fill=\"#000000\" font-family=\"Meiryo UI\" font-size=\"12.00\" text-anchor=\"middle\" x=\"223.5\" y=\"-172.9\">#List</text>\n</g>\n<!-- n2 -->\n<g class=\"node\" id=\"node2\">\n<title>n2</title>\n<ellipse cx=\"99.5\" cy=\"-91\" fill=\"none\" rx=\"38.3335\" ry=\"18\" stroke=\"#000000\"/>\n<text fill=\"#000000\" font-family=\"Meiryo UI\" font-size=\"12.00\" text-anchor=\"middle\" x=\"99.5\" y=\"-87.9\">#Email</text>\n</g>\n<!-- n1&#45;&gt;n2 -->\n<g class=\"edge\" id=\"edge2\">\n<title>n1-&gt;n2</title>\n<path d=\"M202.7452,-161.7729C182.693,-148.0275 152.1065,-127.0609 129.4244,-111.5127\" fill=\"none\" stroke=\"#000000\"/>\n<polygon fill=\"#000000\" points=\"131.3839,-108.6125 121.1568,-105.8454 127.426,-114.3863 131.3839,-108.6125\" stroke=\"#000000\"/>\n<text fill=\"#000000\" font-family=\"Times,serif\" font-size=\"12.00\" text-anchor=\"middle\" x=\"173\" y=\"-130.4\">0</text>\n</g>\n<!-- n3 -->\n<g class=\"node\" id=\"node4\">\n<title>n3</title>\n<ellipse cx=\"223.5\" cy=\"-91\" fill=\"none\" rx=\"38.3335\" ry=\"18\" stroke=\"#000000\"/>\n<text fill=\"#000000\" font-family=\"Meiryo UI\" font-size=\"12.00\" text-anchor=\"middle\" x=\"223.5\" y=\"-87.9\">#Email</text>\n</g>\n<!-- n1&#45;&gt;n3 -->\n<g class=\"edge\" id=\"edge4\">\n<title>n1-&gt;n3</title>\n<path d=\"M223.5,-157.9737C223.5,-146.7043 223.5,-131.9524 223.5,-119.1627\" fill=\"none\" stroke=\"#000000\"/>\n<polygon fill=\"#000000\" points=\"227.0001,-119.0003 223.5,-109.0003 220.0001,-119.0004 227.0001,-119.0003\" stroke=\"#000000\"/>\n<text fill=\"#000000\" font-family=\"Times,serif\" font-size=\"12.00\" text-anchor=\"middle\" x=\"227\" y=\"-130.4\">1</text>\n</g>\n<!-- n4 -->\n<g class=\"node\" id=\"node6\">\n<title>n4</title>\n<ellipse cx=\"348.5\" cy=\"-91\" fill=\"none\" rx=\"38.3335\" ry=\"18\" stroke=\"#000000\"/>\n<text fill=\"#000000\" font-family=\"Meiryo UI\" font-size=\"12.00\" text-anchor=\"middle\" x=\"348.5\" y=\"-87.9\">#Email</text>\n</g>\n<!-- n1&#45;&gt;n4 -->\n<g class=\"edge\" id=\"edge6\">\n<title>n1-&gt;n4</title>\n<path d=\"M244.4222,-161.7729C264.6361,-148.0275 295.4692,-127.0609 318.3342,-111.5127\" fill=\"none\" stroke=\"#000000\"/>\n<polygon fill=\"#000000\" points=\"320.3674,-114.3627 326.6686,-105.8454 316.4312,-108.5743 320.3674,-114.3627\" stroke=\"#000000\"/>\n<text fill=\"#000000\" font-family=\"Times,serif\" font-size=\"12.00\" text-anchor=\"middle\" x=\"297\" y=\"-130.4\">2</text>\n</g>\n<!-- c2 -->\n<g class=\"node\" id=\"node3\">\n<title>c2</title>\n<polygon fill=\"none\" points=\"137,-36 0,-36 0,0 137,0 137,-36\" stroke=\"#000000\"/>\n<text fill=\"#0000ff\" font-family=\"monospace\" font-size=\"12.00\" text-anchor=\"middle\" x=\"68.5\" y=\"-14.9\">'Asan@email.com'</text>\n</g>\n<!-- n2&#45;&gt;c2 -->\n<g class=\"edge\" id=\"edge1\">\n<title>n2-&gt;c2</title>\n<path d=\"M91.9958,-73.3287C88.4316,-64.9356 84.0906,-54.7133 80.1143,-45.3499\" fill=\"none\" stroke=\"#000000\"/>\n<polygon fill=\"#000000\" points=\"83.2808,-43.852 76.1505,-36.0157 76.8377,-46.5882 83.2808,-43.852\" stroke=\"#000000\"/>\n</g>\n<!-- c3 -->\n<g class=\"node\" id=\"node5\">\n<title>c3</title>\n<polygon fill=\"none\" points=\"292,-36 155,-36 155,0 292,0 292,-36\" stroke=\"#000000\"/>\n<text fill=\"#0000ff\" font-family=\"monospace\" font-size=\"12.00\" text-anchor=\"middle\" x=\"223.5\" y=\"-14.9\">'Asan@email.com'</text>\n</g>\n<!-- n3&#45;&gt;c3 -->\n<g class=\"edge\" id=\"edge3\">\n<title>n3-&gt;c3</title>\n<path d=\"M223.5,-72.9551C223.5,-64.8828 223.5,-55.1764 223.5,-46.1817\" fill=\"none\" stroke=\"#000000\"/>\n<polygon fill=\"#000000\" points=\"227.0001,-46.0903 223.5,-36.0904 220.0001,-46.0904 227.0001,-46.0903\" stroke=\"#000000\"/>\n</g>\n<!-- c4 -->\n<g class=\"node\" id=\"node7\">\n<title>c4</title>\n<polygon fill=\"none\" points=\"447,-36 310,-36 310,0 447,0 447,-36\" stroke=\"#000000\"/>\n<text fill=\"#0000ff\" font-family=\"monospace\" font-size=\"12.00\" text-anchor=\"middle\" x=\"378.5\" y=\"-14.9\">'Bkun@email.org'</text>\n</g>\n<!-- n4&#45;&gt;c4 -->\n<g class=\"edge\" id=\"edge5\">\n<title>n4-&gt;c4</title>\n<path d=\"M355.7622,-73.3287C359.2114,-64.9356 363.4123,-54.7133 367.2603,-45.3499\" fill=\"none\" stroke=\"#000000\"/>\n<polygon fill=\"#000000\" points=\"370.5324,-46.5955 371.0963,-36.0157 364.0578,-43.9347 370.5324,-46.5955\" stroke=\"#000000\"/>\n</g>\n</g>\n</svg>"
          },
          "metadata": {
            "tags": []
          }
        },
        {
          "output_type": "stream",
          "text": [
            "wrote email.pegtree\n"
          ],
          "name": "stdout"
        }
      ]
    },
    {
      "cell_type": "code",
      "metadata": {
        "colab": {
          "base_uri": "https://localhost:8080/",
          "height": 307
        },
        "id": "O_sBq9RJwwpo",
        "outputId": "c197b1e9-4c64-4b6e-83f8-3359bd612c08"
      },
      "source": [
        "%%pegtree email.pegtree\n",
        "\n",
        "Return-Path: <Asan@email.com>\n",
        "Authentication-Results: ***; spf=pass smtp.mailfrom=****; dkim=none\n",
        "Received: from example1.ne.jp by example2.ne.jp ; Tue, 14 Sep 2016 15:16:38 JST\n",
        "Date: Tue, 14 Sep 2016 15:16:37 +0900 (JST)\n",
        "From: Aさん<Asan@email.com>\n",
        "To: Bくん<Bkun@email.org>\n",
        "Subject: こんにちは\n",
        "MIME-Version: 1.0\n",
        "Content-Type: text/plain; charset=iso-2022-jp"
      ],
      "execution_count": null,
      "outputs": [
        {
          "output_type": "stream",
          "text": [
            "[#List [#Email 'Asan@email.com'][#Email 'Asan@email.com'][#Email 'Bkun@email.org']]\n"
          ],
          "name": "stdout"
        },
        {
          "output_type": "execute_result",
          "data": {
            "text/plain": [
              "<graphviz.dot.Digraph at 0x7f9843838b90>"
            ],
            "image/svg+xml": "<?xml version=\"1.0\" encoding=\"UTF-8\" standalone=\"no\"?>\n<!DOCTYPE svg PUBLIC \"-//W3C//DTD SVG 1.1//EN\"\n \"http://www.w3.org/Graphics/SVG/1.1/DTD/svg11.dtd\">\n<!-- Generated by graphviz version 2.40.1 (20161225.0304)\n -->\n<!-- Title: tree Pages: 1 -->\n<svg width=\"455pt\" height=\"202pt\"\n viewBox=\"0.00 0.00 455.00 202.00\" xmlns=\"http://www.w3.org/2000/svg\" xmlns:xlink=\"http://www.w3.org/1999/xlink\">\n<g id=\"graph0\" class=\"graph\" transform=\"scale(1 1) rotate(0) translate(4 198)\">\n<title>tree</title>\n<polygon fill=\"#ffffff\" stroke=\"transparent\" points=\"-4,4 -4,-198 451,-198 451,4 -4,4\"/>\n<!-- n1 -->\n<g id=\"node1\" class=\"node\">\n<title>n1</title>\n<ellipse fill=\"none\" stroke=\"#000000\" cx=\"223.5\" cy=\"-176\" rx=\"33.4852\" ry=\"18\"/>\n<text text-anchor=\"middle\" x=\"223.5\" y=\"-172.9\" font-family=\"Meiryo UI\" font-size=\"12.00\" fill=\"#000000\">#List</text>\n</g>\n<!-- n2 -->\n<g id=\"node2\" class=\"node\">\n<title>n2</title>\n<ellipse fill=\"none\" stroke=\"#000000\" cx=\"99.5\" cy=\"-91\" rx=\"38.3335\" ry=\"18\"/>\n<text text-anchor=\"middle\" x=\"99.5\" y=\"-87.9\" font-family=\"Meiryo UI\" font-size=\"12.00\" fill=\"#000000\">#Email</text>\n</g>\n<!-- n1&#45;&gt;n2 -->\n<g id=\"edge2\" class=\"edge\">\n<title>n1&#45;&gt;n2</title>\n<path fill=\"none\" stroke=\"#000000\" d=\"M202.7452,-161.7729C182.693,-148.0275 152.1065,-127.0609 129.4244,-111.5127\"/>\n<polygon fill=\"#000000\" stroke=\"#000000\" points=\"131.3839,-108.6125 121.1568,-105.8454 127.426,-114.3863 131.3839,-108.6125\"/>\n<text text-anchor=\"middle\" x=\"173\" y=\"-130.4\" font-family=\"Times,serif\" font-size=\"12.00\" fill=\"#000000\">0</text>\n</g>\n<!-- n3 -->\n<g id=\"node4\" class=\"node\">\n<title>n3</title>\n<ellipse fill=\"none\" stroke=\"#000000\" cx=\"223.5\" cy=\"-91\" rx=\"38.3335\" ry=\"18\"/>\n<text text-anchor=\"middle\" x=\"223.5\" y=\"-87.9\" font-family=\"Meiryo UI\" font-size=\"12.00\" fill=\"#000000\">#Email</text>\n</g>\n<!-- n1&#45;&gt;n3 -->\n<g id=\"edge4\" class=\"edge\">\n<title>n1&#45;&gt;n3</title>\n<path fill=\"none\" stroke=\"#000000\" d=\"M223.5,-157.9737C223.5,-146.7043 223.5,-131.9524 223.5,-119.1627\"/>\n<polygon fill=\"#000000\" stroke=\"#000000\" points=\"227.0001,-119.0003 223.5,-109.0003 220.0001,-119.0004 227.0001,-119.0003\"/>\n<text text-anchor=\"middle\" x=\"227\" y=\"-130.4\" font-family=\"Times,serif\" font-size=\"12.00\" fill=\"#000000\">1</text>\n</g>\n<!-- n4 -->\n<g id=\"node6\" class=\"node\">\n<title>n4</title>\n<ellipse fill=\"none\" stroke=\"#000000\" cx=\"348.5\" cy=\"-91\" rx=\"38.3335\" ry=\"18\"/>\n<text text-anchor=\"middle\" x=\"348.5\" y=\"-87.9\" font-family=\"Meiryo UI\" font-size=\"12.00\" fill=\"#000000\">#Email</text>\n</g>\n<!-- n1&#45;&gt;n4 -->\n<g id=\"edge6\" class=\"edge\">\n<title>n1&#45;&gt;n4</title>\n<path fill=\"none\" stroke=\"#000000\" d=\"M244.4222,-161.7729C264.6361,-148.0275 295.4692,-127.0609 318.3342,-111.5127\"/>\n<polygon fill=\"#000000\" stroke=\"#000000\" points=\"320.3674,-114.3627 326.6686,-105.8454 316.4312,-108.5743 320.3674,-114.3627\"/>\n<text text-anchor=\"middle\" x=\"297\" y=\"-130.4\" font-family=\"Times,serif\" font-size=\"12.00\" fill=\"#000000\">2</text>\n</g>\n<!-- c2 -->\n<g id=\"node3\" class=\"node\">\n<title>c2</title>\n<polygon fill=\"none\" stroke=\"#000000\" points=\"137,-36 0,-36 0,0 137,0 137,-36\"/>\n<text text-anchor=\"middle\" x=\"68.5\" y=\"-14.9\" font-family=\"monospace\" font-size=\"12.00\" fill=\"#0000ff\">&#39;Asan@email.com&#39;</text>\n</g>\n<!-- n2&#45;&gt;c2 -->\n<g id=\"edge1\" class=\"edge\">\n<title>n2&#45;&gt;c2</title>\n<path fill=\"none\" stroke=\"#000000\" d=\"M91.9958,-73.3287C88.4316,-64.9356 84.0906,-54.7133 80.1143,-45.3499\"/>\n<polygon fill=\"#000000\" stroke=\"#000000\" points=\"83.2808,-43.852 76.1505,-36.0157 76.8377,-46.5882 83.2808,-43.852\"/>\n</g>\n<!-- c3 -->\n<g id=\"node5\" class=\"node\">\n<title>c3</title>\n<polygon fill=\"none\" stroke=\"#000000\" points=\"292,-36 155,-36 155,0 292,0 292,-36\"/>\n<text text-anchor=\"middle\" x=\"223.5\" y=\"-14.9\" font-family=\"monospace\" font-size=\"12.00\" fill=\"#0000ff\">&#39;Asan@email.com&#39;</text>\n</g>\n<!-- n3&#45;&gt;c3 -->\n<g id=\"edge3\" class=\"edge\">\n<title>n3&#45;&gt;c3</title>\n<path fill=\"none\" stroke=\"#000000\" d=\"M223.5,-72.9551C223.5,-64.8828 223.5,-55.1764 223.5,-46.1817\"/>\n<polygon fill=\"#000000\" stroke=\"#000000\" points=\"227.0001,-46.0903 223.5,-36.0904 220.0001,-46.0904 227.0001,-46.0903\"/>\n</g>\n<!-- c4 -->\n<g id=\"node7\" class=\"node\">\n<title>c4</title>\n<polygon fill=\"none\" stroke=\"#000000\" points=\"447,-36 310,-36 310,0 447,0 447,-36\"/>\n<text text-anchor=\"middle\" x=\"378.5\" y=\"-14.9\" font-family=\"monospace\" font-size=\"12.00\" fill=\"#0000ff\">&#39;Bkun@email.org&#39;</text>\n</g>\n<!-- n4&#45;&gt;c4 -->\n<g id=\"edge5\" class=\"edge\">\n<title>n4&#45;&gt;c4</title>\n<path fill=\"none\" stroke=\"#000000\" d=\"M355.7622,-73.3287C359.2114,-64.9356 363.4123,-54.7133 367.2603,-45.3499\"/>\n<polygon fill=\"#000000\" stroke=\"#000000\" points=\"370.5324,-46.5955 371.0963,-36.0157 364.0578,-43.9347 370.5324,-46.5955\"/>\n</g>\n</g>\n</svg>\n"
          },
          "metadata": {
            "tags": []
          },
          "execution_count": 26
        }
      ]
    },
    {
      "cell_type": "code",
      "metadata": {
        "id": "mAqGyDeBFZCj",
        "colab": {
          "base_uri": "https://localhost:8080/"
        },
        "outputId": "12409d0b-6259-4872-b6ce-a3d340d7cd97"
      },
      "source": [
        "%%jsonfy email.pegtree\n",
        "\n",
        "Return-Path: <Asan@email.com>\n",
        "Authentication-Results: ***; spf=pass smtp.mailfrom=****; dkim=none\n",
        "Received: from example1.ne.jp by example2.ne.jp ; Tue, 14 Sep 2016 15:16:38 JST\n",
        "Date: Tue, 14 Sep 2016 15:16:37 +0900 (JST)\n",
        "From: Aさん<Asan@email.com>\n",
        "To: Bくん<Bkun@email.org>\n",
        "Subject: こんにちは\n",
        "MIME-Version: 1.0\n",
        "Content-Type: text/plain; charset=iso-2022-jp\n"
      ],
      "execution_count": null,
      "outputs": [
        {
          "output_type": "stream",
          "text": [
            "[\"Asan@email.com\", \"Asan@email.com\", \"Bkun@email.org\"]\n"
          ],
          "name": "stdout"
        }
      ]
    },
    {
      "cell_type": "code",
      "metadata": {
        "colab": {
          "base_uri": "https://localhost:8080/"
        },
        "id": "KcwSqJWinQeT",
        "outputId": "82bc621f-17ea-4500-de75-882964d2b817"
      },
      "source": [
        "%%jsontree email.pegtree\n",
        "Return-Path: <Asan@email.com>\n",
        "Authentication-Results: ***; spf=pass smtp.mailfrom=****; dkim=none\n",
        "Received: from example1.ne.jp by example2.ne.jp ; Tue, 14 Sep 2016 15:16:38 JST\n",
        "Date: Tue, 14 Sep 2016 15:16:37 +0900 (JST)\n",
        "From: Aさん<Asan@email.com>\n",
        "To: Bくん<Bkun@email.org>\n",
        "Subject: こんにちは\n",
        "MIME-Version: 1.0\n",
        "Content-Type: text/plain; charset=iso-2022-jp"
      ],
      "execution_count": null,
      "outputs": [
        {
          "output_type": "stream",
          "text": [
            "[[\"Asan@email.com\", \"#Email\", 14, 28], [\"Asan@email.com\", \"#Email\", 232, 246], [\"Bkun@email.org\", \"#Email\", 256, 270], \"#List\"]\n"
          ],
          "name": "stdout"
        }
      ]
    },
    {
      "cell_type": "code",
      "metadata": {
        "colab": {
          "base_uri": "https://localhost:8080/",
          "height": 1000
        },
        "id": "ws9Ls8-jnf0A",
        "outputId": "b8ac07f3-566c-4b44-e657-2d62389ccaa9"
      },
      "source": [
        "%pegtree math.pegtree"
      ],
      "execution_count": null,
      "outputs": [
        {
          "output_type": "display_data",
          "data": {
            "text/html": [
              "<b>Expression</b> 1*2+3<span style=\"background-color:#FFCACA;\"></span>"
            ],
            "text/plain": [
              "<IPython.core.display.HTML object>"
            ]
          },
          "metadata": {
            "tags": []
          }
        },
        {
          "output_type": "display_data",
          "data": {
            "text/plain": [
              "<IPython.core.display.SVG object>"
            ],
            "image/svg+xml": "<svg height=\"287pt\" viewBox=\"0.00 0.00 215.87 287.00\" width=\"216pt\" xmlns=\"http://www.w3.org/2000/svg\" xmlns:xlink=\"http://www.w3.org/1999/xlink\">\n<g class=\"graph\" id=\"graph0\" transform=\"scale(1 1) rotate(0) translate(4 283)\">\n<title>tree</title>\n<polygon fill=\"#ffffff\" points=\"-4,4 -4,-283 211.8652,-283 211.8652,4 -4,4\" stroke=\"transparent\"/>\n<!-- n1 -->\n<g class=\"node\" id=\"node1\">\n<title>n1</title>\n<ellipse cx=\"140.9326\" cy=\"-261\" fill=\"none\" rx=\"28.8653\" ry=\"18\" stroke=\"#000000\"/>\n<text fill=\"#000000\" font-family=\"Meiryo UI\" font-size=\"12.00\" text-anchor=\"middle\" x=\"140.9326\" y=\"-257.9\">#Add</text>\n</g>\n<!-- n2 -->\n<g class=\"node\" id=\"node2\">\n<title>n2</title>\n<ellipse cx=\"102.9326\" cy=\"-176\" fill=\"none\" rx=\"28.8653\" ry=\"18\" stroke=\"#000000\"/>\n<text fill=\"#000000\" font-family=\"Meiryo UI\" font-size=\"12.00\" text-anchor=\"middle\" x=\"102.9326\" y=\"-172.9\">#Mul</text>\n</g>\n<!-- n1&#45;&gt;n2 -->\n<g class=\"edge\" id=\"edge5\">\n<title>n1-&gt;n2</title>\n<path d=\"M133.059,-243.3879C127.811,-231.6491 120.8145,-215.9989 114.8849,-202.7355\" fill=\"none\" stroke=\"#000000\"/>\n<polygon fill=\"#000000\" points=\"118.0727,-201.2903 110.7961,-193.5895 111.6823,-204.1472 118.0727,-201.2903\" stroke=\"#000000\"/>\n<text fill=\"#000000\" font-family=\"Times,serif\" font-size=\"12.00\" text-anchor=\"middle\" x=\"128.4326\" y=\"-215.4\">0</text>\n</g>\n<!-- n5 -->\n<g class=\"node\" id=\"node7\">\n<title>n5</title>\n<ellipse cx=\"178.9326\" cy=\"-176\" fill=\"none\" rx=\"28.8653\" ry=\"18\" stroke=\"#000000\"/>\n<text fill=\"#000000\" font-family=\"Meiryo UI\" font-size=\"12.00\" text-anchor=\"middle\" x=\"178.9326\" y=\"-172.9\">#Int</text>\n</g>\n<!-- n1&#45;&gt;n5 -->\n<g class=\"edge\" id=\"edge7\">\n<title>n1-&gt;n5</title>\n<path d=\"M148.8062,-243.3879C154.0542,-231.6491 161.0507,-215.9989 166.9803,-202.7355\" fill=\"none\" stroke=\"#000000\"/>\n<polygon fill=\"#000000\" points=\"170.1829,-204.1472 171.0691,-193.5895 163.7925,-201.2903 170.1829,-204.1472\" stroke=\"#000000\"/>\n<text fill=\"#000000\" font-family=\"Times,serif\" font-size=\"12.00\" text-anchor=\"middle\" x=\"166.4326\" y=\"-215.4\">1</text>\n</g>\n<!-- n3 -->\n<g class=\"node\" id=\"node3\">\n<title>n3</title>\n<ellipse cx=\"28.9326\" cy=\"-91\" fill=\"none\" rx=\"28.8653\" ry=\"18\" stroke=\"#000000\"/>\n<text fill=\"#000000\" font-family=\"Meiryo UI\" font-size=\"12.00\" text-anchor=\"middle\" x=\"28.9326\" y=\"-87.9\">#Int</text>\n</g>\n<!-- n2&#45;&gt;n3 -->\n<g class=\"edge\" id=\"edge2\">\n<title>n2-&gt;n3</title>\n<path d=\"M89.0138,-160.0122C77.8509,-147.19 62.0213,-129.0073 49.4124,-114.5242\" fill=\"none\" stroke=\"#000000\"/>\n<polygon fill=\"#000000\" points=\"51.995,-112.1602 42.789,-106.9162 46.7154,-116.7566 51.995,-112.1602\" stroke=\"#000000\"/>\n<text fill=\"#000000\" font-family=\"Times,serif\" font-size=\"12.00\" text-anchor=\"middle\" x=\"74.4326\" y=\"-130.4\">0</text>\n</g>\n<!-- n4 -->\n<g class=\"node\" id=\"node5\">\n<title>n4</title>\n<ellipse cx=\"104.9326\" cy=\"-91\" fill=\"none\" rx=\"28.8653\" ry=\"18\" stroke=\"#000000\"/>\n<text fill=\"#000000\" font-family=\"Meiryo UI\" font-size=\"12.00\" text-anchor=\"middle\" x=\"104.9326\" y=\"-87.9\">#Int</text>\n</g>\n<!-- n2&#45;&gt;n4 -->\n<g class=\"edge\" id=\"edge4\">\n<title>n2-&gt;n4</title>\n<path d=\"M103.3567,-157.9737C103.6219,-146.7043 103.969,-131.9524 104.2699,-119.1627\" fill=\"none\" stroke=\"#000000\"/>\n<polygon fill=\"#000000\" points=\"107.7728,-119.0799 104.5091,-109.0003 100.7747,-118.9152 107.7728,-119.0799\" stroke=\"#000000\"/>\n<text fill=\"#000000\" font-family=\"Times,serif\" font-size=\"12.00\" text-anchor=\"middle\" x=\"108.4326\" y=\"-130.4\">1</text>\n</g>\n<!-- c3 -->\n<g class=\"node\" id=\"node4\">\n<title>c3</title>\n<polygon fill=\"none\" points=\"55.9326,-36 1.9326,-36 1.9326,0 55.9326,0 55.9326,-36\" stroke=\"#000000\"/>\n<text fill=\"#0000ff\" font-family=\"monospace\" font-size=\"12.00\" text-anchor=\"middle\" x=\"28.9326\" y=\"-14.9\">'1'</text>\n</g>\n<!-- n3&#45;&gt;c3 -->\n<g class=\"edge\" id=\"edge1\">\n<title>n3-&gt;c3</title>\n<path d=\"M28.9326,-72.9551C28.9326,-64.8828 28.9326,-55.1764 28.9326,-46.1817\" fill=\"none\" stroke=\"#000000\"/>\n<polygon fill=\"#000000\" points=\"32.4327,-46.0903 28.9326,-36.0904 25.4327,-46.0904 32.4327,-46.0903\" stroke=\"#000000\"/>\n</g>\n<!-- c4 -->\n<g class=\"node\" id=\"node6\">\n<title>c4</title>\n<polygon fill=\"none\" points=\"131.9326,-36 77.9326,-36 77.9326,0 131.9326,0 131.9326,-36\" stroke=\"#000000\"/>\n<text fill=\"#0000ff\" font-family=\"monospace\" font-size=\"12.00\" text-anchor=\"middle\" x=\"104.9326\" y=\"-14.9\">'2'</text>\n</g>\n<!-- n4&#45;&gt;c4 -->\n<g class=\"edge\" id=\"edge3\">\n<title>n4-&gt;c4</title>\n<path d=\"M104.9326,-72.9551C104.9326,-64.8828 104.9326,-55.1764 104.9326,-46.1817\" fill=\"none\" stroke=\"#000000\"/>\n<polygon fill=\"#000000\" points=\"108.4327,-46.0903 104.9326,-36.0904 101.4327,-46.0904 108.4327,-46.0903\" stroke=\"#000000\"/>\n</g>\n<!-- c5 -->\n<g class=\"node\" id=\"node8\">\n<title>c5</title>\n<polygon fill=\"none\" points=\"205.9326,-109 151.9326,-109 151.9326,-73 205.9326,-73 205.9326,-109\" stroke=\"#000000\"/>\n<text fill=\"#0000ff\" font-family=\"monospace\" font-size=\"12.00\" text-anchor=\"middle\" x=\"178.9326\" y=\"-87.9\">'3'</text>\n</g>\n<!-- n5&#45;&gt;c5 -->\n<g class=\"edge\" id=\"edge6\">\n<title>n5-&gt;c5</title>\n<path d=\"M178.9326,-157.9737C178.9326,-146.7043 178.9326,-131.9524 178.9326,-119.1627\" fill=\"none\" stroke=\"#000000\"/>\n<polygon fill=\"#000000\" points=\"182.4327,-119.0003 178.9326,-109.0003 175.4327,-119.0004 182.4327,-119.0003\" stroke=\"#000000\"/>\n</g>\n</g>\n</svg>"
          },
          "metadata": {
            "tags": []
          }
        },
        {
          "output_type": "display_data",
          "data": {
            "text/html": [
              "<b>Expression</b> 1+2*3<span style=\"background-color:#FFCACA;\"></span>"
            ],
            "text/plain": [
              "<IPython.core.display.HTML object>"
            ]
          },
          "metadata": {
            "tags": []
          }
        },
        {
          "output_type": "display_data",
          "data": {
            "text/plain": [
              "<IPython.core.display.SVG object>"
            ],
            "image/svg+xml": "<svg height=\"287pt\" viewBox=\"0.00 0.00 216.87 287.00\" width=\"217pt\" xmlns=\"http://www.w3.org/2000/svg\" xmlns:xlink=\"http://www.w3.org/1999/xlink\">\n<g class=\"graph\" id=\"graph0\" transform=\"scale(1 1) rotate(0) translate(4 283)\">\n<title>tree</title>\n<polygon fill=\"#ffffff\" points=\"-4,4 -4,-283 212.8652,-283 212.8652,4 -4,4\" stroke=\"transparent\"/>\n<!-- n1 -->\n<g class=\"node\" id=\"node1\">\n<title>n1</title>\n<ellipse cx=\"66.9326\" cy=\"-261\" fill=\"none\" rx=\"28.8653\" ry=\"18\" stroke=\"#000000\"/>\n<text fill=\"#000000\" font-family=\"Meiryo UI\" font-size=\"12.00\" text-anchor=\"middle\" x=\"66.9326\" y=\"-257.9\">#Add</text>\n</g>\n<!-- n2 -->\n<g class=\"node\" id=\"node2\">\n<title>n2</title>\n<ellipse cx=\"28.9326\" cy=\"-176\" fill=\"none\" rx=\"28.8653\" ry=\"18\" stroke=\"#000000\"/>\n<text fill=\"#000000\" font-family=\"Meiryo UI\" font-size=\"12.00\" text-anchor=\"middle\" x=\"28.9326\" y=\"-172.9\">#Int</text>\n</g>\n<!-- n1&#45;&gt;n2 -->\n<g class=\"edge\" id=\"edge2\">\n<title>n1-&gt;n2</title>\n<path d=\"M59.059,-243.3879C53.811,-231.6491 46.8145,-215.9989 40.8849,-202.7355\" fill=\"none\" stroke=\"#000000\"/>\n<polygon fill=\"#000000\" points=\"44.0727,-201.2903 36.7961,-193.5895 37.6823,-204.1472 44.0727,-201.2903\" stroke=\"#000000\"/>\n<text fill=\"#000000\" font-family=\"Times,serif\" font-size=\"12.00\" text-anchor=\"middle\" x=\"54.4326\" y=\"-215.4\">0</text>\n</g>\n<!-- n3 -->\n<g class=\"node\" id=\"node4\">\n<title>n3</title>\n<ellipse cx=\"104.9326\" cy=\"-176\" fill=\"none\" rx=\"28.8653\" ry=\"18\" stroke=\"#000000\"/>\n<text fill=\"#000000\" font-family=\"Meiryo UI\" font-size=\"12.00\" text-anchor=\"middle\" x=\"104.9326\" y=\"-172.9\">#Mul</text>\n</g>\n<!-- n1&#45;&gt;n3 -->\n<g class=\"edge\" id=\"edge7\">\n<title>n1-&gt;n3</title>\n<path d=\"M74.8062,-243.3879C80.0542,-231.6491 87.0507,-215.9989 92.9803,-202.7355\" fill=\"none\" stroke=\"#000000\"/>\n<polygon fill=\"#000000\" points=\"96.1829,-204.1472 97.0691,-193.5895 89.7925,-201.2903 96.1829,-204.1472\" stroke=\"#000000\"/>\n<text fill=\"#000000\" font-family=\"Times,serif\" font-size=\"12.00\" text-anchor=\"middle\" x=\"92.4326\" y=\"-215.4\">1</text>\n</g>\n<!-- c2 -->\n<g class=\"node\" id=\"node3\">\n<title>c2</title>\n<polygon fill=\"none\" points=\"55.9326,-109 1.9326,-109 1.9326,-73 55.9326,-73 55.9326,-109\" stroke=\"#000000\"/>\n<text fill=\"#0000ff\" font-family=\"monospace\" font-size=\"12.00\" text-anchor=\"middle\" x=\"28.9326\" y=\"-87.9\">'1'</text>\n</g>\n<!-- n2&#45;&gt;c2 -->\n<g class=\"edge\" id=\"edge1\">\n<title>n2-&gt;c2</title>\n<path d=\"M28.9326,-157.9737C28.9326,-146.7043 28.9326,-131.9524 28.9326,-119.1627\" fill=\"none\" stroke=\"#000000\"/>\n<polygon fill=\"#000000\" points=\"32.4327,-119.0003 28.9326,-109.0003 25.4327,-119.0004 32.4327,-119.0003\" stroke=\"#000000\"/>\n</g>\n<!-- n4 -->\n<g class=\"node\" id=\"node5\">\n<title>n4</title>\n<ellipse cx=\"103.9326\" cy=\"-91\" fill=\"none\" rx=\"28.8653\" ry=\"18\" stroke=\"#000000\"/>\n<text fill=\"#000000\" font-family=\"Meiryo UI\" font-size=\"12.00\" text-anchor=\"middle\" x=\"103.9326\" y=\"-87.9\">#Int</text>\n</g>\n<!-- n3&#45;&gt;n4 -->\n<g class=\"edge\" id=\"edge4\">\n<title>n3-&gt;n4</title>\n<path d=\"M104.7205,-157.9737C104.5879,-146.7043 104.4144,-131.9524 104.2639,-119.1627\" fill=\"none\" stroke=\"#000000\"/>\n<polygon fill=\"#000000\" points=\"107.7619,-118.9584 104.1444,-109.0003 100.7623,-119.0408 107.7619,-118.9584\" stroke=\"#000000\"/>\n<text fill=\"#000000\" font-family=\"Times,serif\" font-size=\"12.00\" text-anchor=\"middle\" x=\"108.4326\" y=\"-130.4\">0</text>\n</g>\n<!-- n5 -->\n<g class=\"node\" id=\"node7\">\n<title>n5</title>\n<ellipse cx=\"179.9326\" cy=\"-91\" fill=\"none\" rx=\"28.8653\" ry=\"18\" stroke=\"#000000\"/>\n<text fill=\"#000000\" font-family=\"Meiryo UI\" font-size=\"12.00\" text-anchor=\"middle\" x=\"179.9326\" y=\"-87.9\">#Int</text>\n</g>\n<!-- n3&#45;&gt;n5 -->\n<g class=\"edge\" id=\"edge6\">\n<title>n3-&gt;n5</title>\n<path d=\"M119.0395,-160.0122C130.3532,-147.19 146.3968,-129.0073 159.176,-114.5242\" fill=\"none\" stroke=\"#000000\"/>\n<polygon fill=\"#000000\" points=\"161.8971,-116.7303 165.8889,-106.9162 156.6482,-112.0989 161.8971,-116.7303\" stroke=\"#000000\"/>\n<text fill=\"#000000\" font-family=\"Times,serif\" font-size=\"12.00\" text-anchor=\"middle\" x=\"150.4326\" y=\"-130.4\">1</text>\n</g>\n<!-- c4 -->\n<g class=\"node\" id=\"node6\">\n<title>c4</title>\n<polygon fill=\"none\" points=\"130.9326,-36 76.9326,-36 76.9326,0 130.9326,0 130.9326,-36\" stroke=\"#000000\"/>\n<text fill=\"#0000ff\" font-family=\"monospace\" font-size=\"12.00\" text-anchor=\"middle\" x=\"103.9326\" y=\"-14.9\">'2'</text>\n</g>\n<!-- n4&#45;&gt;c4 -->\n<g class=\"edge\" id=\"edge3\">\n<title>n4-&gt;c4</title>\n<path d=\"M103.9326,-72.9551C103.9326,-64.8828 103.9326,-55.1764 103.9326,-46.1817\" fill=\"none\" stroke=\"#000000\"/>\n<polygon fill=\"#000000\" points=\"107.4327,-46.0903 103.9326,-36.0904 100.4327,-46.0904 107.4327,-46.0903\" stroke=\"#000000\"/>\n</g>\n<!-- c5 -->\n<g class=\"node\" id=\"node8\">\n<title>c5</title>\n<polygon fill=\"none\" points=\"206.9326,-36 152.9326,-36 152.9326,0 206.9326,0 206.9326,-36\" stroke=\"#000000\"/>\n<text fill=\"#0000ff\" font-family=\"monospace\" font-size=\"12.00\" text-anchor=\"middle\" x=\"179.9326\" y=\"-14.9\">'3'</text>\n</g>\n<!-- n5&#45;&gt;c5 -->\n<g class=\"edge\" id=\"edge5\">\n<title>n5-&gt;c5</title>\n<path d=\"M179.9326,-72.9551C179.9326,-64.8828 179.9326,-55.1764 179.9326,-46.1817\" fill=\"none\" stroke=\"#000000\"/>\n<polygon fill=\"#000000\" points=\"183.4327,-46.0903 179.9326,-36.0904 176.4327,-46.0904 183.4327,-46.0903\" stroke=\"#000000\"/>\n</g>\n</g>\n</svg>"
          },
          "metadata": {
            "tags": []
          }
        },
        {
          "output_type": "display_data",
          "data": {
            "text/html": [
              "<b>Int</b> 123<span style=\"background-color:#FFCACA;\"></span>"
            ],
            "text/plain": [
              "<IPython.core.display.HTML object>"
            ]
          },
          "metadata": {
            "tags": []
          }
        },
        {
          "output_type": "display_data",
          "data": {
            "text/plain": [
              "<IPython.core.display.SVG object>"
            ],
            "image/svg+xml": "<svg height=\"116pt\" viewBox=\"0.00 0.00 65.87 116.00\" width=\"66pt\" xmlns=\"http://www.w3.org/2000/svg\" xmlns:xlink=\"http://www.w3.org/1999/xlink\">\n<g class=\"graph\" id=\"graph0\" transform=\"scale(1 1) rotate(0) translate(4 112)\">\n<title>tree</title>\n<polygon fill=\"#ffffff\" points=\"-4,4 -4,-112 61.8652,-112 61.8652,4 -4,4\" stroke=\"transparent\"/>\n<!-- n1 -->\n<g class=\"node\" id=\"node1\">\n<title>n1</title>\n<ellipse cx=\"28.9326\" cy=\"-90\" fill=\"none\" rx=\"28.8653\" ry=\"18\" stroke=\"#000000\"/>\n<text fill=\"#000000\" font-family=\"Meiryo UI\" font-size=\"12.00\" text-anchor=\"middle\" x=\"28.9326\" y=\"-86.9\">#Int</text>\n</g>\n<!-- c1 -->\n<g class=\"node\" id=\"node2\">\n<title>c1</title>\n<polygon fill=\"none\" points=\"55.9326,-36 1.9326,-36 1.9326,0 55.9326,0 55.9326,-36\" stroke=\"#000000\"/>\n<text fill=\"#0000ff\" font-family=\"monospace\" font-size=\"12.00\" text-anchor=\"middle\" x=\"28.9326\" y=\"-14.9\">'123'</text>\n</g>\n<!-- n1&#45;&gt;c1 -->\n<g class=\"edge\" id=\"edge1\">\n<title>n1-&gt;c1</title>\n<path d=\"M28.9326,-71.8314C28.9326,-64.131 28.9326,-54.9743 28.9326,-46.4166\" fill=\"none\" stroke=\"#000000\"/>\n<polygon fill=\"#000000\" points=\"32.4327,-46.4132 28.9326,-36.4133 25.4327,-46.4133 32.4327,-46.4132\" stroke=\"#000000\"/>\n</g>\n</g>\n</svg>"
          },
          "metadata": {
            "tags": []
          }
        }
      ]
    },
    {
      "cell_type": "markdown",
      "metadata": {
        "id": "fhVWHIrzsWoX"
      },
      "source": [
        "# 5.2 数式の構文木"
      ]
    },
    {
      "cell_type": "code",
      "metadata": {
        "colab": {
          "base_uri": "https://localhost:8080/",
          "height": 307
        },
        "id": "5oCfxkdTsdQe",
        "outputId": "ef371987-1516-4b10-aa0b-9c7dca246202"
      },
      "source": [
        "%%peg\n",
        "Expr = Prod (\"+\" Prod)*\n",
        "Prod = Value (\"*\" Value)*\n",
        "Value = { [0-9]+ #Int } _\n",
        "example Expr 1+2+3\n"
      ],
      "execution_count": null,
      "outputs": [
        {
          "output_type": "display_data",
          "data": {
            "text/html": [
              "<b>Expr</b> 1+2+3<span style=\"background-color:#FFCACA;\"></span>"
            ],
            "text/plain": [
              "<IPython.core.display.HTML object>"
            ]
          },
          "metadata": {
            "tags": []
          }
        },
        {
          "output_type": "display_data",
          "data": {
            "text/plain": [
              "<IPython.core.display.SVG object>"
            ],
            "image/svg+xml": "<svg height=\"202pt\" viewBox=\"0.00 0.00 217.87 202.00\" width=\"218pt\" xmlns=\"http://www.w3.org/2000/svg\" xmlns:xlink=\"http://www.w3.org/1999/xlink\">\n<g class=\"graph\" id=\"graph0\" transform=\"scale(1 1) rotate(0) translate(4 198)\">\n<title>tree</title>\n<polygon fill=\"#ffffff\" points=\"-4,4 -4,-198 213.8652,-198 213.8652,4 -4,4\" stroke=\"transparent\"/>\n<!-- n1 -->\n<g class=\"node\" id=\"node1\">\n<title>n1</title>\n<ellipse cx=\"104.9326\" cy=\"-176\" fill=\"none\" rx=\"27\" ry=\"18\" stroke=\"#000000\"/>\n<text fill=\"#000000\" font-family=\"Meiryo UI\" font-size=\"12.00\" text-anchor=\"middle\" x=\"104.9326\" y=\"-172.9\">#</text>\n</g>\n<!-- n2 -->\n<g class=\"node\" id=\"node2\">\n<title>n2</title>\n<ellipse cx=\"28.9326\" cy=\"-91\" fill=\"none\" rx=\"28.8653\" ry=\"18\" stroke=\"#000000\"/>\n<text fill=\"#000000\" font-family=\"Meiryo UI\" font-size=\"12.00\" text-anchor=\"middle\" x=\"28.9326\" y=\"-87.9\">#Int</text>\n</g>\n<!-- n1&#45;&gt;n2 -->\n<g class=\"edge\" id=\"edge2\">\n<title>n1-&gt;n2</title>\n<path d=\"M90.993,-160.4097C79.4951,-147.5502 63.0047,-129.107 49.912,-114.4638\" fill=\"none\" stroke=\"#000000\"/>\n<polygon fill=\"#000000\" points=\"52.3157,-111.9012 43.0412,-106.7793 47.0974,-116.567 52.3157,-111.9012\" stroke=\"#000000\"/>\n<text fill=\"#000000\" font-family=\"Times,serif\" font-size=\"12.00\" text-anchor=\"middle\" x=\"75.4326\" y=\"-130.4\">0</text>\n</g>\n<!-- n3 -->\n<g class=\"node\" id=\"node4\">\n<title>n3</title>\n<ellipse cx=\"104.9326\" cy=\"-91\" fill=\"none\" rx=\"28.8653\" ry=\"18\" stroke=\"#000000\"/>\n<text fill=\"#000000\" font-family=\"Meiryo UI\" font-size=\"12.00\" text-anchor=\"middle\" x=\"104.9326\" y=\"-87.9\">#Int</text>\n</g>\n<!-- n1&#45;&gt;n3 -->\n<g class=\"edge\" id=\"edge4\">\n<title>n1-&gt;n3</title>\n<path d=\"M104.9326,-157.9737C104.9326,-146.7043 104.9326,-131.9524 104.9326,-119.1627\" fill=\"none\" stroke=\"#000000\"/>\n<polygon fill=\"#000000\" points=\"108.4327,-119.0003 104.9326,-109.0003 101.4327,-119.0004 108.4327,-119.0003\" stroke=\"#000000\"/>\n<text fill=\"#000000\" font-family=\"Times,serif\" font-size=\"12.00\" text-anchor=\"middle\" x=\"108.4326\" y=\"-130.4\">1</text>\n</g>\n<!-- n4 -->\n<g class=\"node\" id=\"node6\">\n<title>n4</title>\n<ellipse cx=\"180.9326\" cy=\"-91\" fill=\"none\" rx=\"28.8653\" ry=\"18\" stroke=\"#000000\"/>\n<text fill=\"#000000\" font-family=\"Meiryo UI\" font-size=\"12.00\" text-anchor=\"middle\" x=\"180.9326\" y=\"-87.9\">#Int</text>\n</g>\n<!-- n1&#45;&gt;n4 -->\n<g class=\"edge\" id=\"edge6\">\n<title>n1-&gt;n4</title>\n<path d=\"M118.8722,-160.4097C130.3701,-147.5502 146.8605,-129.107 159.9532,-114.4638\" fill=\"none\" stroke=\"#000000\"/>\n<polygon fill=\"#000000\" points=\"162.7678,-116.567 166.824,-106.7793 157.5494,-111.9012 162.7678,-116.567\" stroke=\"#000000\"/>\n<text fill=\"#000000\" font-family=\"Times,serif\" font-size=\"12.00\" text-anchor=\"middle\" x=\"151.4326\" y=\"-130.4\">2</text>\n</g>\n<!-- c2 -->\n<g class=\"node\" id=\"node3\">\n<title>c2</title>\n<polygon fill=\"none\" points=\"55.9326,-36 1.9326,-36 1.9326,0 55.9326,0 55.9326,-36\" stroke=\"#000000\"/>\n<text fill=\"#0000ff\" font-family=\"monospace\" font-size=\"12.00\" text-anchor=\"middle\" x=\"28.9326\" y=\"-14.9\">'1'</text>\n</g>\n<!-- n2&#45;&gt;c2 -->\n<g class=\"edge\" id=\"edge1\">\n<title>n2-&gt;c2</title>\n<path d=\"M28.9326,-72.9551C28.9326,-64.8828 28.9326,-55.1764 28.9326,-46.1817\" fill=\"none\" stroke=\"#000000\"/>\n<polygon fill=\"#000000\" points=\"32.4327,-46.0903 28.9326,-36.0904 25.4327,-46.0904 32.4327,-46.0903\" stroke=\"#000000\"/>\n</g>\n<!-- c3 -->\n<g class=\"node\" id=\"node5\">\n<title>c3</title>\n<polygon fill=\"none\" points=\"131.9326,-36 77.9326,-36 77.9326,0 131.9326,0 131.9326,-36\" stroke=\"#000000\"/>\n<text fill=\"#0000ff\" font-family=\"monospace\" font-size=\"12.00\" text-anchor=\"middle\" x=\"104.9326\" y=\"-14.9\">'2'</text>\n</g>\n<!-- n3&#45;&gt;c3 -->\n<g class=\"edge\" id=\"edge3\">\n<title>n3-&gt;c3</title>\n<path d=\"M104.9326,-72.9551C104.9326,-64.8828 104.9326,-55.1764 104.9326,-46.1817\" fill=\"none\" stroke=\"#000000\"/>\n<polygon fill=\"#000000\" points=\"108.4327,-46.0903 104.9326,-36.0904 101.4327,-46.0904 108.4327,-46.0903\" stroke=\"#000000\"/>\n</g>\n<!-- c4 -->\n<g class=\"node\" id=\"node7\">\n<title>c4</title>\n<polygon fill=\"none\" points=\"207.9326,-36 153.9326,-36 153.9326,0 207.9326,0 207.9326,-36\" stroke=\"#000000\"/>\n<text fill=\"#0000ff\" font-family=\"monospace\" font-size=\"12.00\" text-anchor=\"middle\" x=\"180.9326\" y=\"-14.9\">'3'</text>\n</g>\n<!-- n4&#45;&gt;c4 -->\n<g class=\"edge\" id=\"edge5\">\n<title>n4-&gt;c4</title>\n<path d=\"M180.9326,-72.9551C180.9326,-64.8828 180.9326,-55.1764 180.9326,-46.1817\" fill=\"none\" stroke=\"#000000\"/>\n<polygon fill=\"#000000\" points=\"184.4327,-46.0903 180.9326,-36.0904 177.4327,-46.0904 184.4327,-46.0903\" stroke=\"#000000\"/>\n</g>\n</g>\n</svg>"
          },
          "metadata": {
            "tags": []
          }
        }
      ]
    },
    {
      "cell_type": "code",
      "metadata": {
        "colab": {
          "base_uri": "https://localhost:8080/",
          "height": 421
        },
        "id": "6UaWBn_9sVLm",
        "outputId": "effaf27b-1f1d-4d48-ba53-ac2b03b2a10e"
      },
      "source": [
        "%%peg\n",
        "Expr = { Prod (\"+\" Prod)* #Add }\n",
        "Prod = { Value (\"*\" Value)* #Mul }\n",
        "Value = { [0-9]+ #Int } _\n",
        "example Expr 1+2+3\n"
      ],
      "execution_count": null,
      "outputs": [
        {
          "output_type": "display_data",
          "data": {
            "text/html": [
              "<b>Expr</b> 1+2+3<span style=\"background-color:#FFCACA;\"></span>"
            ],
            "text/plain": [
              "<IPython.core.display.HTML object>"
            ]
          },
          "metadata": {
            "tags": []
          }
        },
        {
          "output_type": "display_data",
          "data": {
            "text/plain": [
              "<IPython.core.display.SVG object>"
            ],
            "image/svg+xml": "<svg height=\"287pt\" viewBox=\"0.00 0.00 217.87 287.00\" width=\"218pt\" xmlns=\"http://www.w3.org/2000/svg\" xmlns:xlink=\"http://www.w3.org/1999/xlink\">\n<g class=\"graph\" id=\"graph0\" transform=\"scale(1 1) rotate(0) translate(4 283)\">\n<title>tree</title>\n<polygon fill=\"#ffffff\" points=\"-4,4 -4,-283 213.8652,-283 213.8652,4 -4,4\" stroke=\"transparent\"/>\n<!-- n1 -->\n<g class=\"node\" id=\"node1\">\n<title>n1</title>\n<ellipse cx=\"104.9326\" cy=\"-261\" fill=\"none\" rx=\"28.8653\" ry=\"18\" stroke=\"#000000\"/>\n<text fill=\"#000000\" font-family=\"Meiryo UI\" font-size=\"12.00\" text-anchor=\"middle\" x=\"104.9326\" y=\"-257.9\">#Add</text>\n</g>\n<!-- n2 -->\n<g class=\"node\" id=\"node2\">\n<title>n2</title>\n<ellipse cx=\"28.9326\" cy=\"-176\" fill=\"none\" rx=\"28.8653\" ry=\"18\" stroke=\"#000000\"/>\n<text fill=\"#000000\" font-family=\"Meiryo UI\" font-size=\"12.00\" text-anchor=\"middle\" x=\"28.9326\" y=\"-172.9\">#Mul</text>\n</g>\n<!-- n1&#45;&gt;n2 -->\n<g class=\"edge\" id=\"edge3\">\n<title>n1-&gt;n2</title>\n<path d=\"M90.6376,-245.0122C79.173,-232.19 62.9155,-214.0073 49.966,-199.5242\" fill=\"none\" stroke=\"#000000\"/>\n<polygon fill=\"#000000\" points=\"52.4381,-197.038 43.1635,-191.9162 47.2198,-201.7038 52.4381,-197.038\" stroke=\"#000000\"/>\n<text fill=\"#000000\" font-family=\"Times,serif\" font-size=\"12.00\" text-anchor=\"middle\" x=\"75.4326\" y=\"-215.4\">0</text>\n</g>\n<!-- n4 -->\n<g class=\"node\" id=\"node5\">\n<title>n4</title>\n<ellipse cx=\"104.9326\" cy=\"-176\" fill=\"none\" rx=\"28.8653\" ry=\"18\" stroke=\"#000000\"/>\n<text fill=\"#000000\" font-family=\"Meiryo UI\" font-size=\"12.00\" text-anchor=\"middle\" x=\"104.9326\" y=\"-172.9\">#Mul</text>\n</g>\n<!-- n1&#45;&gt;n4 -->\n<g class=\"edge\" id=\"edge6\">\n<title>n1-&gt;n4</title>\n<path d=\"M104.9326,-242.9737C104.9326,-231.7043 104.9326,-216.9524 104.9326,-204.1627\" fill=\"none\" stroke=\"#000000\"/>\n<polygon fill=\"#000000\" points=\"108.4327,-204.0003 104.9326,-194.0003 101.4327,-204.0004 108.4327,-204.0003\" stroke=\"#000000\"/>\n<text fill=\"#000000\" font-family=\"Times,serif\" font-size=\"12.00\" text-anchor=\"middle\" x=\"108.4326\" y=\"-215.4\">1</text>\n</g>\n<!-- n6 -->\n<g class=\"node\" id=\"node8\">\n<title>n6</title>\n<ellipse cx=\"180.9326\" cy=\"-176\" fill=\"none\" rx=\"28.8653\" ry=\"18\" stroke=\"#000000\"/>\n<text fill=\"#000000\" font-family=\"Meiryo UI\" font-size=\"12.00\" text-anchor=\"middle\" x=\"180.9326\" y=\"-172.9\">#Mul</text>\n</g>\n<!-- n1&#45;&gt;n6 -->\n<g class=\"edge\" id=\"edge9\">\n<title>n1-&gt;n6</title>\n<path d=\"M119.2276,-245.0122C130.6921,-232.19 146.9496,-214.0073 159.8992,-199.5242\" fill=\"none\" stroke=\"#000000\"/>\n<polygon fill=\"#000000\" points=\"162.6454,-201.7038 166.7017,-191.9162 157.4271,-197.038 162.6454,-201.7038\" stroke=\"#000000\"/>\n<text fill=\"#000000\" font-family=\"Times,serif\" font-size=\"12.00\" text-anchor=\"middle\" x=\"151.4326\" y=\"-215.4\">2</text>\n</g>\n<!-- n3 -->\n<g class=\"node\" id=\"node3\">\n<title>n3</title>\n<ellipse cx=\"28.9326\" cy=\"-91\" fill=\"none\" rx=\"28.8653\" ry=\"18\" stroke=\"#000000\"/>\n<text fill=\"#000000\" font-family=\"Meiryo UI\" font-size=\"12.00\" text-anchor=\"middle\" x=\"28.9326\" y=\"-87.9\">#Int</text>\n</g>\n<!-- n2&#45;&gt;n3 -->\n<g class=\"edge\" id=\"edge2\">\n<title>n2-&gt;n3</title>\n<path d=\"M28.9326,-157.9737C28.9326,-146.7043 28.9326,-131.9524 28.9326,-119.1627\" fill=\"none\" stroke=\"#000000\"/>\n<polygon fill=\"#000000\" points=\"32.4327,-119.0003 28.9326,-109.0003 25.4327,-119.0004 32.4327,-119.0003\" stroke=\"#000000\"/>\n<text fill=\"#000000\" font-family=\"Times,serif\" font-size=\"12.00\" text-anchor=\"middle\" x=\"32.4326\" y=\"-130.4\">0</text>\n</g>\n<!-- c3 -->\n<g class=\"node\" id=\"node4\">\n<title>c3</title>\n<polygon fill=\"none\" points=\"55.9326,-36 1.9326,-36 1.9326,0 55.9326,0 55.9326,-36\" stroke=\"#000000\"/>\n<text fill=\"#0000ff\" font-family=\"monospace\" font-size=\"12.00\" text-anchor=\"middle\" x=\"28.9326\" y=\"-14.9\">'1'</text>\n</g>\n<!-- n3&#45;&gt;c3 -->\n<g class=\"edge\" id=\"edge1\">\n<title>n3-&gt;c3</title>\n<path d=\"M28.9326,-72.9551C28.9326,-64.8828 28.9326,-55.1764 28.9326,-46.1817\" fill=\"none\" stroke=\"#000000\"/>\n<polygon fill=\"#000000\" points=\"32.4327,-46.0903 28.9326,-36.0904 25.4327,-46.0904 32.4327,-46.0903\" stroke=\"#000000\"/>\n</g>\n<!-- n5 -->\n<g class=\"node\" id=\"node6\">\n<title>n5</title>\n<ellipse cx=\"104.9326\" cy=\"-91\" fill=\"none\" rx=\"28.8653\" ry=\"18\" stroke=\"#000000\"/>\n<text fill=\"#000000\" font-family=\"Meiryo UI\" font-size=\"12.00\" text-anchor=\"middle\" x=\"104.9326\" y=\"-87.9\">#Int</text>\n</g>\n<!-- n4&#45;&gt;n5 -->\n<g class=\"edge\" id=\"edge5\">\n<title>n4-&gt;n5</title>\n<path d=\"M104.9326,-157.9737C104.9326,-146.7043 104.9326,-131.9524 104.9326,-119.1627\" fill=\"none\" stroke=\"#000000\"/>\n<polygon fill=\"#000000\" points=\"108.4327,-119.0003 104.9326,-109.0003 101.4327,-119.0004 108.4327,-119.0003\" stroke=\"#000000\"/>\n<text fill=\"#000000\" font-family=\"Times,serif\" font-size=\"12.00\" text-anchor=\"middle\" x=\"108.4326\" y=\"-130.4\">0</text>\n</g>\n<!-- c5 -->\n<g class=\"node\" id=\"node7\">\n<title>c5</title>\n<polygon fill=\"none\" points=\"131.9326,-36 77.9326,-36 77.9326,0 131.9326,0 131.9326,-36\" stroke=\"#000000\"/>\n<text fill=\"#0000ff\" font-family=\"monospace\" font-size=\"12.00\" text-anchor=\"middle\" x=\"104.9326\" y=\"-14.9\">'2'</text>\n</g>\n<!-- n5&#45;&gt;c5 -->\n<g class=\"edge\" id=\"edge4\">\n<title>n5-&gt;c5</title>\n<path d=\"M104.9326,-72.9551C104.9326,-64.8828 104.9326,-55.1764 104.9326,-46.1817\" fill=\"none\" stroke=\"#000000\"/>\n<polygon fill=\"#000000\" points=\"108.4327,-46.0903 104.9326,-36.0904 101.4327,-46.0904 108.4327,-46.0903\" stroke=\"#000000\"/>\n</g>\n<!-- n7 -->\n<g class=\"node\" id=\"node9\">\n<title>n7</title>\n<ellipse cx=\"180.9326\" cy=\"-91\" fill=\"none\" rx=\"28.8653\" ry=\"18\" stroke=\"#000000\"/>\n<text fill=\"#000000\" font-family=\"Meiryo UI\" font-size=\"12.00\" text-anchor=\"middle\" x=\"180.9326\" y=\"-87.9\">#Int</text>\n</g>\n<!-- n6&#45;&gt;n7 -->\n<g class=\"edge\" id=\"edge8\">\n<title>n6-&gt;n7</title>\n<path d=\"M180.9326,-157.9737C180.9326,-146.7043 180.9326,-131.9524 180.9326,-119.1627\" fill=\"none\" stroke=\"#000000\"/>\n<polygon fill=\"#000000\" points=\"184.4327,-119.0003 180.9326,-109.0003 177.4327,-119.0004 184.4327,-119.0003\" stroke=\"#000000\"/>\n<text fill=\"#000000\" font-family=\"Times,serif\" font-size=\"12.00\" text-anchor=\"middle\" x=\"184.4326\" y=\"-130.4\">0</text>\n</g>\n<!-- c7 -->\n<g class=\"node\" id=\"node10\">\n<title>c7</title>\n<polygon fill=\"none\" points=\"207.9326,-36 153.9326,-36 153.9326,0 207.9326,0 207.9326,-36\" stroke=\"#000000\"/>\n<text fill=\"#0000ff\" font-family=\"monospace\" font-size=\"12.00\" text-anchor=\"middle\" x=\"180.9326\" y=\"-14.9\">'3'</text>\n</g>\n<!-- n7&#45;&gt;c7 -->\n<g class=\"edge\" id=\"edge7\">\n<title>n7-&gt;c7</title>\n<path d=\"M180.9326,-72.9551C180.9326,-64.8828 180.9326,-55.1764 180.9326,-46.1817\" fill=\"none\" stroke=\"#000000\"/>\n<polygon fill=\"#000000\" points=\"184.4327,-46.0903 180.9326,-36.0904 177.4327,-46.0904 184.4327,-46.0903\" stroke=\"#000000\"/>\n</g>\n</g>\n</svg>"
          },
          "metadata": {
            "tags": []
          }
        }
      ]
    },
    {
      "cell_type": "code",
      "metadata": {
        "colab": {
          "base_uri": "https://localhost:8080/",
          "height": 421
        },
        "id": "jb4O50BrvHJ3",
        "outputId": "fbdc749e-62af-4423-cd53-66aecd043622"
      },
      "source": [
        "%%peg\n",
        "\n",
        "Expr = Prod ({^ '+' Prod #Add})*\n",
        "Prod = Value {^ '*' Value #Mul}*\n",
        "Value = { [0-9]+ #Int} _\n",
        "\n",
        "example Expr 1+2+3"
      ],
      "execution_count": null,
      "outputs": [
        {
          "output_type": "display_data",
          "data": {
            "text/html": [
              "<b>Expr</b> 1+2+3<span style=\"background-color:#FFCACA;\"></span>"
            ],
            "text/plain": [
              "<IPython.core.display.HTML object>"
            ]
          },
          "metadata": {
            "tags": []
          }
        },
        {
          "output_type": "display_data",
          "data": {
            "text/plain": [
              "<IPython.core.display.SVG object>"
            ],
            "image/svg+xml": "<svg height=\"287pt\" viewBox=\"0.00 0.00 215.87 287.00\" width=\"216pt\" xmlns=\"http://www.w3.org/2000/svg\" xmlns:xlink=\"http://www.w3.org/1999/xlink\">\n<g class=\"graph\" id=\"graph0\" transform=\"scale(1 1) rotate(0) translate(4 283)\">\n<title>tree</title>\n<polygon fill=\"#ffffff\" points=\"-4,4 -4,-283 211.8652,-283 211.8652,4 -4,4\" stroke=\"transparent\"/>\n<!-- n1 -->\n<g class=\"node\" id=\"node1\">\n<title>n1</title>\n<ellipse cx=\"140.9326\" cy=\"-261\" fill=\"none\" rx=\"28.8653\" ry=\"18\" stroke=\"#000000\"/>\n<text fill=\"#000000\" font-family=\"Meiryo UI\" font-size=\"12.00\" text-anchor=\"middle\" x=\"140.9326\" y=\"-257.9\">#Add</text>\n</g>\n<!-- n2 -->\n<g class=\"node\" id=\"node2\">\n<title>n2</title>\n<ellipse cx=\"102.9326\" cy=\"-176\" fill=\"none\" rx=\"28.8653\" ry=\"18\" stroke=\"#000000\"/>\n<text fill=\"#000000\" font-family=\"Meiryo UI\" font-size=\"12.00\" text-anchor=\"middle\" x=\"102.9326\" y=\"-172.9\">#Add</text>\n</g>\n<!-- n1&#45;&gt;n2 -->\n<g class=\"edge\" id=\"edge5\">\n<title>n1-&gt;n2</title>\n<path d=\"M133.059,-243.3879C127.811,-231.6491 120.8145,-215.9989 114.8849,-202.7355\" fill=\"none\" stroke=\"#000000\"/>\n<polygon fill=\"#000000\" points=\"118.0727,-201.2903 110.7961,-193.5895 111.6823,-204.1472 118.0727,-201.2903\" stroke=\"#000000\"/>\n<text fill=\"#000000\" font-family=\"Times,serif\" font-size=\"12.00\" text-anchor=\"middle\" x=\"128.4326\" y=\"-215.4\">0</text>\n</g>\n<!-- n5 -->\n<g class=\"node\" id=\"node7\">\n<title>n5</title>\n<ellipse cx=\"178.9326\" cy=\"-176\" fill=\"none\" rx=\"28.8653\" ry=\"18\" stroke=\"#000000\"/>\n<text fill=\"#000000\" font-family=\"Meiryo UI\" font-size=\"12.00\" text-anchor=\"middle\" x=\"178.9326\" y=\"-172.9\">#Int</text>\n</g>\n<!-- n1&#45;&gt;n5 -->\n<g class=\"edge\" id=\"edge7\">\n<title>n1-&gt;n5</title>\n<path d=\"M148.8062,-243.3879C154.0542,-231.6491 161.0507,-215.9989 166.9803,-202.7355\" fill=\"none\" stroke=\"#000000\"/>\n<polygon fill=\"#000000\" points=\"170.1829,-204.1472 171.0691,-193.5895 163.7925,-201.2903 170.1829,-204.1472\" stroke=\"#000000\"/>\n<text fill=\"#000000\" font-family=\"Times,serif\" font-size=\"12.00\" text-anchor=\"middle\" x=\"166.4326\" y=\"-215.4\">1</text>\n</g>\n<!-- n3 -->\n<g class=\"node\" id=\"node3\">\n<title>n3</title>\n<ellipse cx=\"28.9326\" cy=\"-91\" fill=\"none\" rx=\"28.8653\" ry=\"18\" stroke=\"#000000\"/>\n<text fill=\"#000000\" font-family=\"Meiryo UI\" font-size=\"12.00\" text-anchor=\"middle\" x=\"28.9326\" y=\"-87.9\">#Int</text>\n</g>\n<!-- n2&#45;&gt;n3 -->\n<g class=\"edge\" id=\"edge2\">\n<title>n2-&gt;n3</title>\n<path d=\"M89.0138,-160.0122C77.8509,-147.19 62.0213,-129.0073 49.4124,-114.5242\" fill=\"none\" stroke=\"#000000\"/>\n<polygon fill=\"#000000\" points=\"51.995,-112.1602 42.789,-106.9162 46.7154,-116.7566 51.995,-112.1602\" stroke=\"#000000\"/>\n<text fill=\"#000000\" font-family=\"Times,serif\" font-size=\"12.00\" text-anchor=\"middle\" x=\"74.4326\" y=\"-130.4\">0</text>\n</g>\n<!-- n4 -->\n<g class=\"node\" id=\"node5\">\n<title>n4</title>\n<ellipse cx=\"104.9326\" cy=\"-91\" fill=\"none\" rx=\"28.8653\" ry=\"18\" stroke=\"#000000\"/>\n<text fill=\"#000000\" font-family=\"Meiryo UI\" font-size=\"12.00\" text-anchor=\"middle\" x=\"104.9326\" y=\"-87.9\">#Int</text>\n</g>\n<!-- n2&#45;&gt;n4 -->\n<g class=\"edge\" id=\"edge4\">\n<title>n2-&gt;n4</title>\n<path d=\"M103.3567,-157.9737C103.6219,-146.7043 103.969,-131.9524 104.2699,-119.1627\" fill=\"none\" stroke=\"#000000\"/>\n<polygon fill=\"#000000\" points=\"107.7728,-119.0799 104.5091,-109.0003 100.7747,-118.9152 107.7728,-119.0799\" stroke=\"#000000\"/>\n<text fill=\"#000000\" font-family=\"Times,serif\" font-size=\"12.00\" text-anchor=\"middle\" x=\"108.4326\" y=\"-130.4\">1</text>\n</g>\n<!-- c3 -->\n<g class=\"node\" id=\"node4\">\n<title>c3</title>\n<polygon fill=\"none\" points=\"55.9326,-36 1.9326,-36 1.9326,0 55.9326,0 55.9326,-36\" stroke=\"#000000\"/>\n<text fill=\"#0000ff\" font-family=\"monospace\" font-size=\"12.00\" text-anchor=\"middle\" x=\"28.9326\" y=\"-14.9\">'1'</text>\n</g>\n<!-- n3&#45;&gt;c3 -->\n<g class=\"edge\" id=\"edge1\">\n<title>n3-&gt;c3</title>\n<path d=\"M28.9326,-72.9551C28.9326,-64.8828 28.9326,-55.1764 28.9326,-46.1817\" fill=\"none\" stroke=\"#000000\"/>\n<polygon fill=\"#000000\" points=\"32.4327,-46.0903 28.9326,-36.0904 25.4327,-46.0904 32.4327,-46.0903\" stroke=\"#000000\"/>\n</g>\n<!-- c4 -->\n<g class=\"node\" id=\"node6\">\n<title>c4</title>\n<polygon fill=\"none\" points=\"131.9326,-36 77.9326,-36 77.9326,0 131.9326,0 131.9326,-36\" stroke=\"#000000\"/>\n<text fill=\"#0000ff\" font-family=\"monospace\" font-size=\"12.00\" text-anchor=\"middle\" x=\"104.9326\" y=\"-14.9\">'2'</text>\n</g>\n<!-- n4&#45;&gt;c4 -->\n<g class=\"edge\" id=\"edge3\">\n<title>n4-&gt;c4</title>\n<path d=\"M104.9326,-72.9551C104.9326,-64.8828 104.9326,-55.1764 104.9326,-46.1817\" fill=\"none\" stroke=\"#000000\"/>\n<polygon fill=\"#000000\" points=\"108.4327,-46.0903 104.9326,-36.0904 101.4327,-46.0904 108.4327,-46.0903\" stroke=\"#000000\"/>\n</g>\n<!-- c5 -->\n<g class=\"node\" id=\"node8\">\n<title>c5</title>\n<polygon fill=\"none\" points=\"205.9326,-109 151.9326,-109 151.9326,-73 205.9326,-73 205.9326,-109\" stroke=\"#000000\"/>\n<text fill=\"#0000ff\" font-family=\"monospace\" font-size=\"12.00\" text-anchor=\"middle\" x=\"178.9326\" y=\"-87.9\">'3'</text>\n</g>\n<!-- n5&#45;&gt;c5 -->\n<g class=\"edge\" id=\"edge6\">\n<title>n5-&gt;c5</title>\n<path d=\"M178.9326,-157.9737C178.9326,-146.7043 178.9326,-131.9524 178.9326,-119.1627\" fill=\"none\" stroke=\"#000000\"/>\n<polygon fill=\"#000000\" points=\"182.4327,-119.0003 178.9326,-109.0003 175.4327,-119.0004 182.4327,-119.0003\" stroke=\"#000000\"/>\n</g>\n</g>\n</svg>"
          },
          "metadata": {
            "tags": []
          }
        }
      ]
    },
    {
      "cell_type": "code",
      "metadata": {
        "colab": {
          "base_uri": "https://localhost:8080/",
          "height": 421
        },
        "id": "SBZTxK_B0yWQ",
        "outputId": "4a2338ad-502d-4568-efb0-8c5ba252851c"
      },
      "source": [
        "%%peg\n",
        "\n",
        "Expr = Prod ({^ \"+\" Prod #Add })*\n",
        "Prod = Value {^ \"*\" Value #Mul }* \n",
        "Value = { [0-9]+ #Int }\n",
        "       \n",
        "example Expr 1+2+3"
      ],
      "execution_count": null,
      "outputs": [
        {
          "output_type": "display_data",
          "data": {
            "text/html": [
              "<b>Expr</b> 1+2+3<span style=\"background-color:#FFCACA;\"></span>"
            ],
            "text/plain": [
              "<IPython.core.display.HTML object>"
            ]
          },
          "metadata": {
            "tags": []
          }
        },
        {
          "output_type": "display_data",
          "data": {
            "text/plain": [
              "<IPython.core.display.SVG object>"
            ],
            "image/svg+xml": "<svg height=\"287pt\" viewBox=\"0.00 0.00 215.87 287.00\" width=\"216pt\" xmlns=\"http://www.w3.org/2000/svg\" xmlns:xlink=\"http://www.w3.org/1999/xlink\">\n<g class=\"graph\" id=\"graph0\" transform=\"scale(1 1) rotate(0) translate(4 283)\">\n<title>tree</title>\n<polygon fill=\"#ffffff\" points=\"-4,4 -4,-283 211.8652,-283 211.8652,4 -4,4\" stroke=\"transparent\"/>\n<!-- n1 -->\n<g class=\"node\" id=\"node1\">\n<title>n1</title>\n<ellipse cx=\"140.9326\" cy=\"-261\" fill=\"none\" rx=\"28.8653\" ry=\"18\" stroke=\"#000000\"/>\n<text fill=\"#000000\" font-family=\"Meiryo UI\" font-size=\"12.00\" text-anchor=\"middle\" x=\"140.9326\" y=\"-257.9\">#Add</text>\n</g>\n<!-- n2 -->\n<g class=\"node\" id=\"node2\">\n<title>n2</title>\n<ellipse cx=\"102.9326\" cy=\"-176\" fill=\"none\" rx=\"28.8653\" ry=\"18\" stroke=\"#000000\"/>\n<text fill=\"#000000\" font-family=\"Meiryo UI\" font-size=\"12.00\" text-anchor=\"middle\" x=\"102.9326\" y=\"-172.9\">#Add</text>\n</g>\n<!-- n1&#45;&gt;n2 -->\n<g class=\"edge\" id=\"edge5\">\n<title>n1-&gt;n2</title>\n<path d=\"M133.059,-243.3879C127.811,-231.6491 120.8145,-215.9989 114.8849,-202.7355\" fill=\"none\" stroke=\"#000000\"/>\n<polygon fill=\"#000000\" points=\"118.0727,-201.2903 110.7961,-193.5895 111.6823,-204.1472 118.0727,-201.2903\" stroke=\"#000000\"/>\n<text fill=\"#000000\" font-family=\"Times,serif\" font-size=\"12.00\" text-anchor=\"middle\" x=\"128.4326\" y=\"-215.4\">0</text>\n</g>\n<!-- n5 -->\n<g class=\"node\" id=\"node7\">\n<title>n5</title>\n<ellipse cx=\"178.9326\" cy=\"-176\" fill=\"none\" rx=\"28.8653\" ry=\"18\" stroke=\"#000000\"/>\n<text fill=\"#000000\" font-family=\"Meiryo UI\" font-size=\"12.00\" text-anchor=\"middle\" x=\"178.9326\" y=\"-172.9\">#Int</text>\n</g>\n<!-- n1&#45;&gt;n5 -->\n<g class=\"edge\" id=\"edge7\">\n<title>n1-&gt;n5</title>\n<path d=\"M148.8062,-243.3879C154.0542,-231.6491 161.0507,-215.9989 166.9803,-202.7355\" fill=\"none\" stroke=\"#000000\"/>\n<polygon fill=\"#000000\" points=\"170.1829,-204.1472 171.0691,-193.5895 163.7925,-201.2903 170.1829,-204.1472\" stroke=\"#000000\"/>\n<text fill=\"#000000\" font-family=\"Times,serif\" font-size=\"12.00\" text-anchor=\"middle\" x=\"166.4326\" y=\"-215.4\">1</text>\n</g>\n<!-- n3 -->\n<g class=\"node\" id=\"node3\">\n<title>n3</title>\n<ellipse cx=\"28.9326\" cy=\"-91\" fill=\"none\" rx=\"28.8653\" ry=\"18\" stroke=\"#000000\"/>\n<text fill=\"#000000\" font-family=\"Meiryo UI\" font-size=\"12.00\" text-anchor=\"middle\" x=\"28.9326\" y=\"-87.9\">#Int</text>\n</g>\n<!-- n2&#45;&gt;n3 -->\n<g class=\"edge\" id=\"edge2\">\n<title>n2-&gt;n3</title>\n<path d=\"M89.0138,-160.0122C77.8509,-147.19 62.0213,-129.0073 49.4124,-114.5242\" fill=\"none\" stroke=\"#000000\"/>\n<polygon fill=\"#000000\" points=\"51.995,-112.1602 42.789,-106.9162 46.7154,-116.7566 51.995,-112.1602\" stroke=\"#000000\"/>\n<text fill=\"#000000\" font-family=\"Times,serif\" font-size=\"12.00\" text-anchor=\"middle\" x=\"74.4326\" y=\"-130.4\">0</text>\n</g>\n<!-- n4 -->\n<g class=\"node\" id=\"node5\">\n<title>n4</title>\n<ellipse cx=\"104.9326\" cy=\"-91\" fill=\"none\" rx=\"28.8653\" ry=\"18\" stroke=\"#000000\"/>\n<text fill=\"#000000\" font-family=\"Meiryo UI\" font-size=\"12.00\" text-anchor=\"middle\" x=\"104.9326\" y=\"-87.9\">#Int</text>\n</g>\n<!-- n2&#45;&gt;n4 -->\n<g class=\"edge\" id=\"edge4\">\n<title>n2-&gt;n4</title>\n<path d=\"M103.3567,-157.9737C103.6219,-146.7043 103.969,-131.9524 104.2699,-119.1627\" fill=\"none\" stroke=\"#000000\"/>\n<polygon fill=\"#000000\" points=\"107.7728,-119.0799 104.5091,-109.0003 100.7747,-118.9152 107.7728,-119.0799\" stroke=\"#000000\"/>\n<text fill=\"#000000\" font-family=\"Times,serif\" font-size=\"12.00\" text-anchor=\"middle\" x=\"108.4326\" y=\"-130.4\">1</text>\n</g>\n<!-- c3 -->\n<g class=\"node\" id=\"node4\">\n<title>c3</title>\n<polygon fill=\"none\" points=\"55.9326,-36 1.9326,-36 1.9326,0 55.9326,0 55.9326,-36\" stroke=\"#000000\"/>\n<text fill=\"#0000ff\" font-family=\"monospace\" font-size=\"12.00\" text-anchor=\"middle\" x=\"28.9326\" y=\"-14.9\">'1'</text>\n</g>\n<!-- n3&#45;&gt;c3 -->\n<g class=\"edge\" id=\"edge1\">\n<title>n3-&gt;c3</title>\n<path d=\"M28.9326,-72.9551C28.9326,-64.8828 28.9326,-55.1764 28.9326,-46.1817\" fill=\"none\" stroke=\"#000000\"/>\n<polygon fill=\"#000000\" points=\"32.4327,-46.0903 28.9326,-36.0904 25.4327,-46.0904 32.4327,-46.0903\" stroke=\"#000000\"/>\n</g>\n<!-- c4 -->\n<g class=\"node\" id=\"node6\">\n<title>c4</title>\n<polygon fill=\"none\" points=\"131.9326,-36 77.9326,-36 77.9326,0 131.9326,0 131.9326,-36\" stroke=\"#000000\"/>\n<text fill=\"#0000ff\" font-family=\"monospace\" font-size=\"12.00\" text-anchor=\"middle\" x=\"104.9326\" y=\"-14.9\">'2'</text>\n</g>\n<!-- n4&#45;&gt;c4 -->\n<g class=\"edge\" id=\"edge3\">\n<title>n4-&gt;c4</title>\n<path d=\"M104.9326,-72.9551C104.9326,-64.8828 104.9326,-55.1764 104.9326,-46.1817\" fill=\"none\" stroke=\"#000000\"/>\n<polygon fill=\"#000000\" points=\"108.4327,-46.0903 104.9326,-36.0904 101.4327,-46.0904 108.4327,-46.0903\" stroke=\"#000000\"/>\n</g>\n<!-- c5 -->\n<g class=\"node\" id=\"node8\">\n<title>c5</title>\n<polygon fill=\"none\" points=\"205.9326,-109 151.9326,-109 151.9326,-73 205.9326,-73 205.9326,-109\" stroke=\"#000000\"/>\n<text fill=\"#0000ff\" font-family=\"monospace\" font-size=\"12.00\" text-anchor=\"middle\" x=\"178.9326\" y=\"-87.9\">'3'</text>\n</g>\n<!-- n5&#45;&gt;c5 -->\n<g class=\"edge\" id=\"edge6\">\n<title>n5-&gt;c5</title>\n<path d=\"M178.9326,-157.9737C178.9326,-146.7043 178.9326,-131.9524 178.9326,-119.1627\" fill=\"none\" stroke=\"#000000\"/>\n<polygon fill=\"#000000\" points=\"182.4327,-119.0003 178.9326,-109.0003 175.4327,-119.0004 182.4327,-119.0003\" stroke=\"#000000\"/>\n</g>\n</g>\n</svg>"
          },
          "metadata": {
            "tags": []
          }
        }
      ]
    },
    {
      "cell_type": "markdown",
      "metadata": {
        "id": "sFZhrx-pyKIj"
      },
      "source": [
        ""
      ]
    },
    {
      "cell_type": "code",
      "metadata": {
        "colab": {
          "base_uri": "https://localhost:8080/"
        },
        "id": "BRxMQTzDnuDu",
        "outputId": "cfe2d01f-e8ce-41e8-99fb-79270e47b7d4"
      },
      "source": [
        "from pegtree.colab import pasm\n",
        "%pasm math.tpeg"
      ],
      "execution_count": null,
      "outputs": [
        {
          "output_type": "stream",
          "text": [
            "pRule(peg,\"Int\",pNode(pOneMany(pRange(\"\",\"09\")),\"Int\",0))\n",
            "pRule(peg,\"Value\",pOre2(pRef(peg,\"Int\"),pSeq3(pChar(\"(\"),pRef(peg,\"Expression\"),pChar(\")\"))))\n",
            "pRule(peg,\"Expression\",pSeq2(pRef(peg,\"Product\"),pMany(pOre2(pSeq2(pChar(\"+\"),pFold(\"\",pRef(peg,\"Product\"),\"Add\",-1)),pSeq2(pChar(\"-\"),pFold(\"\",pRef(peg,\"Product\"),\"Sub\",-1))))))\n",
            "pRule(peg,\"Product\",pSeq2(pRef(peg,\"Value\"),pMany(pOre2(pSeq2(pChar(\"*\"),pFold(\"\",pRef(peg,\"Product\"),\"Mul\",-1)),pSeq2(pChar(\"/\"),pFold(\"\",pRef(peg,\"Product\"),\"Div\",-1))))))\n"
          ],
          "name": "stdout"
        }
      ]
    },
    {
      "cell_type": "code",
      "metadata": {
        "colab": {
          "base_uri": "https://localhost:8080/",
          "height": 1000
        },
        "id": "imtsLyIRe9GO",
        "outputId": "2c6a8f26-2a7a-4acf-c122-051e9e7e1c4d"
      },
      "source": [
        "%pegtree chibi.pegtree"
      ],
      "execution_count": null,
      "outputs": [
        {
          "output_type": "display_data",
          "data": {
            "text/html": [
              "<b>Program</b> fib(n) = if n < 3 then 1 else fib(n-1)+fib(n-2)\n",
              "print(fib(4))\n",
              "<span style=\"background-color:#FFCACA;\"></span>"
            ],
            "text/plain": [
              "<IPython.core.display.HTML object>"
            ]
          },
          "metadata": {
            "tags": []
          }
        },
        {
          "output_type": "display_data",
          "data": {
            "text/plain": [
              "<IPython.core.display.SVG object>"
            ],
            "image/svg+xml": "<svg height=\"627pt\" viewBox=\"0.00 0.00 658.17 627.00\" width=\"658pt\" xmlns=\"http://www.w3.org/2000/svg\" xmlns:xlink=\"http://www.w3.org/1999/xlink\">\n<g class=\"graph\" id=\"graph0\" transform=\"scale(1 1) rotate(0) translate(4 623)\">\n<title>tree</title>\n<polygon fill=\"#ffffff\" points=\"-4,4 -4,-623 654.1743,-623 654.1743,4 -4,4\" stroke=\"transparent\"/>\n<!-- n1 -->\n<g class=\"node\" id=\"node1\">\n<title>n1</title>\n<ellipse cx=\"273.2417\" cy=\"-601\" fill=\"none\" rx=\"47.3006\" ry=\"18\" stroke=\"#000000\"/>\n<text fill=\"#000000\" font-family=\"Meiryo UI\" font-size=\"12.00\" text-anchor=\"middle\" x=\"273.2417\" y=\"-597.9\">#Program</text>\n</g>\n<!-- n2 -->\n<g class=\"node\" id=\"node2\">\n<title>n2</title>\n<ellipse cx=\"177.2417\" cy=\"-516\" fill=\"none\" rx=\"51.9195\" ry=\"18\" stroke=\"#000000\"/>\n<text fill=\"#000000\" font-family=\"Meiryo UI\" font-size=\"12.00\" text-anchor=\"middle\" x=\"177.2417\" y=\"-512.9\">#FuncDecl</text>\n</g>\n<!-- n1&#45;&gt;n2 -->\n<g class=\"edge\" id=\"edge30\">\n<title>n1-&gt;n2</title>\n<path d=\"M254.2752,-584.2067C239.8118,-571.4006 219.715,-553.6066 203.6748,-539.4043\" fill=\"none\" stroke=\"#000000\"/>\n<polygon fill=\"#000000\" points=\"205.976,-536.7671 196.1688,-532.7584 201.3356,-542.008 205.976,-536.7671\" stroke=\"#000000\"/>\n<text fill=\"#000000\" font-family=\"Times,serif\" font-size=\"12.00\" text-anchor=\"middle\" x=\"234.7417\" y=\"-555.4\">0</text>\n</g>\n<!-- n21 -->\n<g class=\"node\" id=\"node32\">\n<title>n21</title>\n<ellipse cx=\"431.2417\" cy=\"-516\" fill=\"none\" rx=\"47.3006\" ry=\"18\" stroke=\"#000000\"/>\n<text fill=\"#000000\" font-family=\"Meiryo UI\" font-size=\"12.00\" text-anchor=\"middle\" x=\"431.2417\" y=\"-512.9\">#FuncApp</text>\n</g>\n<!-- n1&#45;&gt;n21 -->\n<g class=\"edge\" id=\"edge38\">\n<title>n1-&gt;n21</title>\n<path d=\"M300.7632,-586.1941C326.8512,-572.1594 366.2051,-550.988 394.8701,-535.567\" fill=\"none\" stroke=\"#000000\"/>\n<polygon fill=\"#000000\" points=\"396.6227,-538.5986 403.771,-530.7786 393.3063,-532.434 396.6227,-538.5986\" stroke=\"#000000\"/>\n<text fill=\"#000000\" font-family=\"Times,serif\" font-size=\"12.00\" text-anchor=\"middle\" x=\"365.7417\" y=\"-555.4\">1</text>\n</g>\n<!-- n3 -->\n<g class=\"node\" id=\"node3\">\n<title>n3</title>\n<ellipse cx=\"33.2417\" cy=\"-431\" fill=\"none\" rx=\"33.4852\" ry=\"18\" stroke=\"#000000\"/>\n<text fill=\"#000000\" font-family=\"Meiryo UI\" font-size=\"12.00\" text-anchor=\"middle\" x=\"33.2417\" y=\"-427.9\">#Name</text>\n</g>\n<!-- n2&#45;&gt;n3 -->\n<g class=\"edge\" id=\"edge2\">\n<title>n2-&gt;n3</title>\n<path d=\"M150.8299,-500.4097C126.5711,-486.0903 90.5831,-464.8474 64.8155,-449.6373\" fill=\"none\" stroke=\"#000000\"/>\n<polygon fill=\"#000000\" points=\"66.5542,-446.5994 56.1634,-444.5302 62.9959,-452.6275 66.5542,-446.5994\" stroke=\"#000000\"/>\n<text fill=\"#000000\" font-family=\"Times,serif\" font-size=\"12.00\" text-anchor=\"middle\" x=\"117.7417\" y=\"-470.4\">0</text>\n</g>\n<!-- n4 -->\n<g class=\"node\" id=\"node5\">\n<title>n4</title>\n<ellipse cx=\"127.2417\" cy=\"-431\" fill=\"none\" rx=\"33.4852\" ry=\"18\" stroke=\"#000000\"/>\n<text fill=\"#000000\" font-family=\"Meiryo UI\" font-size=\"12.00\" text-anchor=\"middle\" x=\"127.2417\" y=\"-427.9\">#Name</text>\n</g>\n<!-- n2&#45;&gt;n4 -->\n<g class=\"edge\" id=\"edge4\">\n<title>n2-&gt;n4</title>\n<path d=\"M166.638,-497.9737C159.6506,-486.0952 150.3872,-470.3474 142.5986,-457.1067\" fill=\"none\" stroke=\"#000000\"/>\n<polygon fill=\"#000000\" points=\"145.5752,-455.2637 137.4882,-448.419 139.5416,-458.8129 145.5752,-455.2637\" stroke=\"#000000\"/>\n<text fill=\"#000000\" font-family=\"Times,serif\" font-size=\"12.00\" text-anchor=\"middle\" x=\"158.7417\" y=\"-470.4\">1</text>\n</g>\n<!-- n5 -->\n<g class=\"node\" id=\"node7\">\n<title>n5</title>\n<ellipse cx=\"226.2417\" cy=\"-431\" fill=\"none\" rx=\"42.451\" ry=\"18\" stroke=\"#000000\"/>\n<text fill=\"#000000\" font-family=\"Meiryo UI\" font-size=\"12.00\" text-anchor=\"middle\" x=\"226.2417\" y=\"-427.9\">#IfExpr</text>\n</g>\n<!-- n2&#45;&gt;n5 -->\n<g class=\"edge\" id=\"edge29\">\n<title>n2-&gt;n5</title>\n<path d=\"M187.6333,-497.9737C194.3699,-486.2878 203.2652,-470.8572 210.8195,-457.7529\" fill=\"none\" stroke=\"#000000\"/>\n<polygon fill=\"#000000\" points=\"214.071,-459.1204 216.0331,-448.7089 208.0065,-455.6244 214.071,-459.1204\" stroke=\"#000000\"/>\n<text fill=\"#000000\" font-family=\"Times,serif\" font-size=\"12.00\" text-anchor=\"middle\" x=\"208.7417\" y=\"-470.4\">2</text>\n</g>\n<!-- c3 -->\n<g class=\"node\" id=\"node4\">\n<title>c3</title>\n<polygon fill=\"none\" points=\"57.2417,-364 3.2417,-364 3.2417,-328 57.2417,-328 57.2417,-364\" stroke=\"#000000\"/>\n<text fill=\"#0000ff\" font-family=\"monospace\" font-size=\"12.00\" text-anchor=\"middle\" x=\"30.2417\" y=\"-342.9\">'fib'</text>\n</g>\n<!-- n3&#45;&gt;c3 -->\n<g class=\"edge\" id=\"edge1\">\n<title>n3-&gt;c3</title>\n<path d=\"M32.6055,-412.9737C32.2077,-401.7043 31.6871,-386.9524 31.2357,-374.1627\" fill=\"none\" stroke=\"#000000\"/>\n<polygon fill=\"#000000\" points=\"34.7276,-373.8706 30.877,-364.0003 27.732,-374.1176 34.7276,-373.8706\" stroke=\"#000000\"/>\n</g>\n<!-- c4 -->\n<g class=\"node\" id=\"node6\">\n<title>c4</title>\n<polygon fill=\"none\" points=\"129.2417,-364 75.2417,-364 75.2417,-328 129.2417,-328 129.2417,-364\" stroke=\"#000000\"/>\n<text fill=\"#0000ff\" font-family=\"monospace\" font-size=\"12.00\" text-anchor=\"middle\" x=\"102.2417\" y=\"-342.9\">'n'</text>\n</g>\n<!-- n4&#45;&gt;c4 -->\n<g class=\"edge\" id=\"edge3\">\n<title>n4-&gt;c4</title>\n<path d=\"M121.9398,-412.9737C118.5922,-401.5916 114.1996,-386.657 110.4122,-373.7796\" fill=\"none\" stroke=\"#000000\"/>\n<polygon fill=\"#000000\" points=\"113.7154,-372.6064 107.5359,-364.0003 106.9999,-374.5816 113.7154,-372.6064\" stroke=\"#000000\"/>\n</g>\n<!-- n6 -->\n<g class=\"node\" id=\"node8\">\n<title>n6</title>\n<ellipse cx=\"174.2417\" cy=\"-346\" fill=\"none\" rx=\"27\" ry=\"18\" stroke=\"#000000\"/>\n<text fill=\"#000000\" font-family=\"Meiryo UI\" font-size=\"12.00\" text-anchor=\"middle\" x=\"174.2417\" y=\"-342.9\">#Lt</text>\n</g>\n<!-- n5&#45;&gt;n6 -->\n<g class=\"edge\" id=\"edge9\">\n<title>n5-&gt;n6</title>\n<path d=\"M215.4673,-413.3879C208.0711,-401.2981 198.1369,-385.0595 189.8736,-371.5522\" fill=\"none\" stroke=\"#000000\"/>\n<polygon fill=\"#000000\" points=\"192.6758,-369.4258 184.4716,-362.7219 186.7046,-373.0788 192.6758,-369.4258\" stroke=\"#000000\"/>\n<text fill=\"#000000\" font-family=\"Times,serif\" font-size=\"12.00\" text-anchor=\"middle\" x=\"207.7417\" y=\"-385.4\">0</text>\n</g>\n<!-- n9 -->\n<g class=\"node\" id=\"node13\">\n<title>n9</title>\n<ellipse cx=\"248.2417\" cy=\"-346\" fill=\"none\" rx=\"28.8653\" ry=\"18\" stroke=\"#000000\"/>\n<text fill=\"#000000\" font-family=\"Meiryo UI\" font-size=\"12.00\" text-anchor=\"middle\" x=\"248.2417\" y=\"-342.9\">#Int</text>\n</g>\n<!-- n5&#45;&gt;n9 -->\n<g class=\"edge\" id=\"edge11\">\n<title>n5-&gt;n9</title>\n<path d=\"M230.9073,-412.9737C233.8533,-401.5916 237.7187,-386.657 241.0517,-373.7796\" fill=\"none\" stroke=\"#000000\"/>\n<polygon fill=\"#000000\" points=\"244.4654,-374.5583 243.5828,-364.0003 237.6887,-372.8043 244.4654,-374.5583\" stroke=\"#000000\"/>\n<text fill=\"#000000\" font-family=\"Times,serif\" font-size=\"12.00\" text-anchor=\"middle\" x=\"242.7417\" y=\"-385.4\">1</text>\n</g>\n<!-- n10 -->\n<g class=\"node\" id=\"node15\">\n<title>n10</title>\n<ellipse cx=\"340.2417\" cy=\"-346\" fill=\"none\" rx=\"28.8653\" ry=\"18\" stroke=\"#000000\"/>\n<text fill=\"#000000\" font-family=\"Meiryo UI\" font-size=\"12.00\" text-anchor=\"middle\" x=\"340.2417\" y=\"-342.9\">#Add</text>\n</g>\n<!-- n5&#45;&gt;n10 -->\n<g class=\"edge\" id=\"edge28\">\n<title>n5-&gt;n10</title>\n<path d=\"M247.4171,-415.2114C266.0098,-401.3483 293.1547,-381.1087 313.292,-366.0941\" fill=\"none\" stroke=\"#000000\"/>\n<polygon fill=\"#000000\" points=\"315.5231,-368.7964 321.4479,-360.0129 311.3389,-363.1846 315.5231,-368.7964\" stroke=\"#000000\"/>\n<text fill=\"#000000\" font-family=\"Times,serif\" font-size=\"12.00\" text-anchor=\"middle\" x=\"293.7417\" y=\"-385.4\">2</text>\n</g>\n<!-- n7 -->\n<g class=\"node\" id=\"node9\">\n<title>n7</title>\n<ellipse cx=\"94.2417\" cy=\"-261\" fill=\"none\" rx=\"33.4852\" ry=\"18\" stroke=\"#000000\"/>\n<text fill=\"#000000\" font-family=\"Meiryo UI\" font-size=\"12.00\" text-anchor=\"middle\" x=\"94.2417\" y=\"-257.9\">#Name</text>\n</g>\n<!-- n6&#45;&gt;n7 -->\n<g class=\"edge\" id=\"edge6\">\n<title>n6-&gt;n7</title>\n<path d=\"M159.5685,-330.4097C147.5415,-317.6311 130.3252,-299.3387 116.5858,-284.7406\" fill=\"none\" stroke=\"#000000\"/>\n<polygon fill=\"#000000\" points=\"118.7679,-281.9523 109.3655,-277.069 113.6705,-286.7498 118.7679,-281.9523\" stroke=\"#000000\"/>\n<text fill=\"#000000\" font-family=\"Times,serif\" font-size=\"12.00\" text-anchor=\"middle\" x=\"142.7417\" y=\"-300.4\">0</text>\n</g>\n<!-- n8 -->\n<g class=\"node\" id=\"node11\">\n<title>n8</title>\n<ellipse cx=\"174.2417\" cy=\"-261\" fill=\"none\" rx=\"28.8653\" ry=\"18\" stroke=\"#000000\"/>\n<text fill=\"#000000\" font-family=\"Meiryo UI\" font-size=\"12.00\" text-anchor=\"middle\" x=\"174.2417\" y=\"-257.9\">#Int</text>\n</g>\n<!-- n6&#45;&gt;n8 -->\n<g class=\"edge\" id=\"edge8\">\n<title>n6-&gt;n8</title>\n<path d=\"M174.2417,-327.9737C174.2417,-316.7043 174.2417,-301.9524 174.2417,-289.1627\" fill=\"none\" stroke=\"#000000\"/>\n<polygon fill=\"#000000\" points=\"177.7418,-289.0003 174.2417,-279.0003 170.7418,-289.0004 177.7418,-289.0003\" stroke=\"#000000\"/>\n<text fill=\"#000000\" font-family=\"Times,serif\" font-size=\"12.00\" text-anchor=\"middle\" x=\"177.7417\" y=\"-300.4\">1</text>\n</g>\n<!-- c7 -->\n<g class=\"node\" id=\"node10\">\n<title>c7</title>\n<polygon fill=\"none\" points=\"121.2417,-194 67.2417,-194 67.2417,-158 121.2417,-158 121.2417,-194\" stroke=\"#000000\"/>\n<text fill=\"#0000ff\" font-family=\"monospace\" font-size=\"12.00\" text-anchor=\"middle\" x=\"94.2417\" y=\"-172.9\">'n'</text>\n</g>\n<!-- n7&#45;&gt;c7 -->\n<g class=\"edge\" id=\"edge5\">\n<title>n7-&gt;c7</title>\n<path d=\"M94.2417,-242.9737C94.2417,-231.7043 94.2417,-216.9524 94.2417,-204.1627\" fill=\"none\" stroke=\"#000000\"/>\n<polygon fill=\"#000000\" points=\"97.7418,-204.0003 94.2417,-194.0003 90.7418,-204.0004 97.7418,-204.0003\" stroke=\"#000000\"/>\n</g>\n<!-- c8 -->\n<g class=\"node\" id=\"node12\">\n<title>c8</title>\n<polygon fill=\"none\" points=\"201.2417,-194 147.2417,-194 147.2417,-158 201.2417,-158 201.2417,-194\" stroke=\"#000000\"/>\n<text fill=\"#0000ff\" font-family=\"monospace\" font-size=\"12.00\" text-anchor=\"middle\" x=\"174.2417\" y=\"-172.9\">'3'</text>\n</g>\n<!-- n8&#45;&gt;c8 -->\n<g class=\"edge\" id=\"edge7\">\n<title>n8-&gt;c8</title>\n<path d=\"M174.2417,-242.9737C174.2417,-231.7043 174.2417,-216.9524 174.2417,-204.1627\" fill=\"none\" stroke=\"#000000\"/>\n<polygon fill=\"#000000\" points=\"177.7418,-204.0003 174.2417,-194.0003 170.7418,-204.0004 177.7418,-204.0003\" stroke=\"#000000\"/>\n</g>\n<!-- c9 -->\n<g class=\"node\" id=\"node14\">\n<title>c9</title>\n<polygon fill=\"none\" points=\"275.2417,-279 221.2417,-279 221.2417,-243 275.2417,-243 275.2417,-279\" stroke=\"#000000\"/>\n<text fill=\"#0000ff\" font-family=\"monospace\" font-size=\"12.00\" text-anchor=\"middle\" x=\"248.2417\" y=\"-257.9\">'1'</text>\n</g>\n<!-- n9&#45;&gt;c9 -->\n<g class=\"edge\" id=\"edge10\">\n<title>n9-&gt;c9</title>\n<path d=\"M248.2417,-327.9737C248.2417,-316.7043 248.2417,-301.9524 248.2417,-289.1627\" fill=\"none\" stroke=\"#000000\"/>\n<polygon fill=\"#000000\" points=\"251.7418,-289.0003 248.2417,-279.0003 244.7418,-289.0004 251.7418,-289.0003\" stroke=\"#000000\"/>\n</g>\n<!-- n11 -->\n<g class=\"node\" id=\"node16\">\n<title>n11</title>\n<ellipse cx=\"340.2417\" cy=\"-261\" fill=\"none\" rx=\"47.3006\" ry=\"18\" stroke=\"#000000\"/>\n<text fill=\"#000000\" font-family=\"Meiryo UI\" font-size=\"12.00\" text-anchor=\"middle\" x=\"340.2417\" y=\"-257.9\">#FuncApp</text>\n</g>\n<!-- n10&#45;&gt;n11 -->\n<g class=\"edge\" id=\"edge19\">\n<title>n10-&gt;n11</title>\n<path d=\"M340.2417,-327.9737C340.2417,-316.7043 340.2417,-301.9524 340.2417,-289.1627\" fill=\"none\" stroke=\"#000000\"/>\n<polygon fill=\"#000000\" points=\"343.7418,-289.0003 340.2417,-279.0003 336.7418,-289.0004 343.7418,-289.0003\" stroke=\"#000000\"/>\n<text fill=\"#000000\" font-family=\"Times,serif\" font-size=\"12.00\" text-anchor=\"middle\" x=\"343.7417\" y=\"-300.4\">0</text>\n</g>\n<!-- n16 -->\n<g class=\"node\" id=\"node24\">\n<title>n16</title>\n<ellipse cx=\"453.2417\" cy=\"-261\" fill=\"none\" rx=\"47.3006\" ry=\"18\" stroke=\"#000000\"/>\n<text fill=\"#000000\" font-family=\"Meiryo UI\" font-size=\"12.00\" text-anchor=\"middle\" x=\"453.2417\" y=\"-257.9\">#FuncApp</text>\n</g>\n<!-- n10&#45;&gt;n16 -->\n<g class=\"edge\" id=\"edge27\">\n<title>n10-&gt;n16</title>\n<path d=\"M358.9014,-331.964C376.5318,-318.7022 403.2599,-298.5969 423.7707,-283.1684\" fill=\"none\" stroke=\"#000000\"/>\n<polygon fill=\"#000000\" points=\"425.9669,-285.8962 431.8544,-277.0878 421.7589,-280.3021 425.9669,-285.8962\" stroke=\"#000000\"/>\n<text fill=\"#000000\" font-family=\"Times,serif\" font-size=\"12.00\" text-anchor=\"middle\" x=\"407.7417\" y=\"-300.4\">1</text>\n</g>\n<!-- n12 -->\n<g class=\"node\" id=\"node17\">\n<title>n12</title>\n<ellipse cx=\"256.2417\" cy=\"-176\" fill=\"none\" rx=\"33.4852\" ry=\"18\" stroke=\"#000000\"/>\n<text fill=\"#000000\" font-family=\"Meiryo UI\" font-size=\"12.00\" text-anchor=\"middle\" x=\"256.2417\" y=\"-172.9\">#Name</text>\n</g>\n<!-- n11&#45;&gt;n12 -->\n<g class=\"edge\" id=\"edge13\">\n<title>n11-&gt;n12</title>\n<path d=\"M323.243,-243.799C310.623,-231.0287 293.2678,-213.4669 279.3831,-199.4169\" fill=\"none\" stroke=\"#000000\"/>\n<polygon fill=\"#000000\" points=\"281.5971,-196.6779 272.0785,-192.0253 276.6181,-201.5983 281.5971,-196.6779\" stroke=\"#000000\"/>\n<text fill=\"#000000\" font-family=\"Times,serif\" font-size=\"12.00\" text-anchor=\"middle\" x=\"307.7417\" y=\"-215.4\">0</text>\n</g>\n<!-- n13 -->\n<g class=\"node\" id=\"node19\">\n<title>n13</title>\n<ellipse cx=\"340.2417\" cy=\"-176\" fill=\"none\" rx=\"28.8653\" ry=\"18\" stroke=\"#000000\"/>\n<text fill=\"#000000\" font-family=\"Meiryo UI\" font-size=\"12.00\" text-anchor=\"middle\" x=\"340.2417\" y=\"-172.9\">#Sub</text>\n</g>\n<!-- n11&#45;&gt;n13 -->\n<g class=\"edge\" id=\"edge18\">\n<title>n11-&gt;n13</title>\n<path d=\"M340.2417,-242.9737C340.2417,-231.7043 340.2417,-216.9524 340.2417,-204.1627\" fill=\"none\" stroke=\"#000000\"/>\n<polygon fill=\"#000000\" points=\"343.7418,-204.0003 340.2417,-194.0003 336.7418,-204.0004 343.7418,-204.0003\" stroke=\"#000000\"/>\n<text fill=\"#000000\" font-family=\"Times,serif\" font-size=\"12.00\" text-anchor=\"middle\" x=\"343.7417\" y=\"-215.4\">1</text>\n</g>\n<!-- c12 -->\n<g class=\"node\" id=\"node18\">\n<title>c12</title>\n<polygon fill=\"none\" points=\"248.2417,-109 194.2417,-109 194.2417,-73 248.2417,-73 248.2417,-109\" stroke=\"#000000\"/>\n<text fill=\"#0000ff\" font-family=\"monospace\" font-size=\"12.00\" text-anchor=\"middle\" x=\"221.2417\" y=\"-87.9\">'fib'</text>\n</g>\n<!-- n12&#45;&gt;c12 -->\n<g class=\"edge\" id=\"edge12\">\n<title>n12-&gt;c12</title>\n<path d=\"M248.9897,-158.3879C244.2668,-146.9181 238.0063,-131.7141 232.6273,-118.6509\" fill=\"none\" stroke=\"#000000\"/>\n<polygon fill=\"#000000\" points=\"235.7699,-117.0901 228.7259,-109.176 229.2971,-119.7554 235.7699,-117.0901\" stroke=\"#000000\"/>\n</g>\n<!-- n14 -->\n<g class=\"node\" id=\"node20\">\n<title>n14</title>\n<ellipse cx=\"299.2417\" cy=\"-91\" fill=\"none\" rx=\"33.4852\" ry=\"18\" stroke=\"#000000\"/>\n<text fill=\"#000000\" font-family=\"Meiryo UI\" font-size=\"12.00\" text-anchor=\"middle\" x=\"299.2417\" y=\"-87.9\">#Name</text>\n</g>\n<!-- n13&#45;&gt;n14 -->\n<g class=\"edge\" id=\"edge15\">\n<title>n13-&gt;n14</title>\n<path d=\"M331.7465,-158.3879C326.0842,-146.6491 318.5353,-130.9989 312.1376,-117.7355\" fill=\"none\" stroke=\"#000000\"/>\n<polygon fill=\"#000000\" points=\"315.2231,-116.0758 307.726,-108.5895 308.9182,-119.1171 315.2231,-116.0758\" stroke=\"#000000\"/>\n<text fill=\"#000000\" font-family=\"Times,serif\" font-size=\"12.00\" text-anchor=\"middle\" x=\"325.7417\" y=\"-130.4\">0</text>\n</g>\n<!-- n15 -->\n<g class=\"node\" id=\"node22\">\n<title>n15</title>\n<ellipse cx=\"379.2417\" cy=\"-91\" fill=\"none\" rx=\"28.8653\" ry=\"18\" stroke=\"#000000\"/>\n<text fill=\"#000000\" font-family=\"Meiryo UI\" font-size=\"12.00\" text-anchor=\"middle\" x=\"379.2417\" y=\"-87.9\">#Int</text>\n</g>\n<!-- n13&#45;&gt;n15 -->\n<g class=\"edge\" id=\"edge17\">\n<title>n13-&gt;n15</title>\n<path d=\"M348.3225,-158.3879C353.7086,-146.6491 360.8892,-130.9989 366.9748,-117.7355\" fill=\"none\" stroke=\"#000000\"/>\n<polygon fill=\"#000000\" points=\"370.1821,-119.1381 371.1712,-108.5895 363.8198,-116.2189 370.1821,-119.1381\" stroke=\"#000000\"/>\n<text fill=\"#000000\" font-family=\"Times,serif\" font-size=\"12.00\" text-anchor=\"middle\" x=\"365.7417\" y=\"-130.4\">1</text>\n</g>\n<!-- c14 -->\n<g class=\"node\" id=\"node21\">\n<title>c14</title>\n<polygon fill=\"none\" points=\"326.2417,-36 272.2417,-36 272.2417,0 326.2417,0 326.2417,-36\" stroke=\"#000000\"/>\n<text fill=\"#0000ff\" font-family=\"monospace\" font-size=\"12.00\" text-anchor=\"middle\" x=\"299.2417\" y=\"-14.9\">'n'</text>\n</g>\n<!-- n14&#45;&gt;c14 -->\n<g class=\"edge\" id=\"edge14\">\n<title>n14-&gt;c14</title>\n<path d=\"M299.2417,-72.9551C299.2417,-64.8828 299.2417,-55.1764 299.2417,-46.1817\" fill=\"none\" stroke=\"#000000\"/>\n<polygon fill=\"#000000\" points=\"302.7418,-46.0903 299.2417,-36.0904 295.7418,-46.0904 302.7418,-46.0903\" stroke=\"#000000\"/>\n</g>\n<!-- c15 -->\n<g class=\"node\" id=\"node23\">\n<title>c15</title>\n<polygon fill=\"none\" points=\"406.2417,-36 352.2417,-36 352.2417,0 406.2417,0 406.2417,-36\" stroke=\"#000000\"/>\n<text fill=\"#0000ff\" font-family=\"monospace\" font-size=\"12.00\" text-anchor=\"middle\" x=\"379.2417\" y=\"-14.9\">'1'</text>\n</g>\n<!-- n15&#45;&gt;c15 -->\n<g class=\"edge\" id=\"edge16\">\n<title>n15-&gt;c15</title>\n<path d=\"M379.2417,-72.9551C379.2417,-64.8828 379.2417,-55.1764 379.2417,-46.1817\" fill=\"none\" stroke=\"#000000\"/>\n<polygon fill=\"#000000\" points=\"382.7418,-46.0903 379.2417,-36.0904 375.7418,-46.0904 382.7418,-46.0903\" stroke=\"#000000\"/>\n</g>\n<!-- n17 -->\n<g class=\"node\" id=\"node25\">\n<title>n17</title>\n<ellipse cx=\"453.2417\" cy=\"-176\" fill=\"none\" rx=\"33.4852\" ry=\"18\" stroke=\"#000000\"/>\n<text fill=\"#000000\" font-family=\"Meiryo UI\" font-size=\"12.00\" text-anchor=\"middle\" x=\"453.2417\" y=\"-172.9\">#Name</text>\n</g>\n<!-- n16&#45;&gt;n17 -->\n<g class=\"edge\" id=\"edge21\">\n<title>n16-&gt;n17</title>\n<path d=\"M453.2417,-242.9737C453.2417,-231.7043 453.2417,-216.9524 453.2417,-204.1627\" fill=\"none\" stroke=\"#000000\"/>\n<polygon fill=\"#000000\" points=\"456.7418,-204.0003 453.2417,-194.0003 449.7418,-204.0004 456.7418,-204.0003\" stroke=\"#000000\"/>\n<text fill=\"#000000\" font-family=\"Times,serif\" font-size=\"12.00\" text-anchor=\"middle\" x=\"456.7417\" y=\"-215.4\">0</text>\n</g>\n<!-- n18 -->\n<g class=\"node\" id=\"node27\">\n<title>n18</title>\n<ellipse cx=\"533.2417\" cy=\"-176\" fill=\"none\" rx=\"28.8653\" ry=\"18\" stroke=\"#000000\"/>\n<text fill=\"#000000\" font-family=\"Meiryo UI\" font-size=\"12.00\" text-anchor=\"middle\" x=\"533.2417\" y=\"-172.9\">#Sub</text>\n</g>\n<!-- n16&#45;&gt;n18 -->\n<g class=\"edge\" id=\"edge26\">\n<title>n16-&gt;n18</title>\n<path d=\"M469.4309,-243.799C481.5271,-230.9468 498.1908,-213.2416 511.4562,-199.1471\" fill=\"none\" stroke=\"#000000\"/>\n<polygon fill=\"#000000\" points=\"514.1207,-201.4229 518.4256,-191.7421 509.0232,-196.6253 514.1207,-201.4229\" stroke=\"#000000\"/>\n<text fill=\"#000000\" font-family=\"Times,serif\" font-size=\"12.00\" text-anchor=\"middle\" x=\"501.7417\" y=\"-215.4\">1</text>\n</g>\n<!-- c17 -->\n<g class=\"node\" id=\"node26\">\n<title>c17</title>\n<polygon fill=\"none\" points=\"480.2417,-109 426.2417,-109 426.2417,-73 480.2417,-73 480.2417,-109\" stroke=\"#000000\"/>\n<text fill=\"#0000ff\" font-family=\"monospace\" font-size=\"12.00\" text-anchor=\"middle\" x=\"453.2417\" y=\"-87.9\">'fib'</text>\n</g>\n<!-- n17&#45;&gt;c17 -->\n<g class=\"edge\" id=\"edge20\">\n<title>n17-&gt;c17</title>\n<path d=\"M453.2417,-157.9737C453.2417,-146.7043 453.2417,-131.9524 453.2417,-119.1627\" fill=\"none\" stroke=\"#000000\"/>\n<polygon fill=\"#000000\" points=\"456.7418,-119.0003 453.2417,-109.0003 449.7418,-119.0004 456.7418,-119.0003\" stroke=\"#000000\"/>\n</g>\n<!-- n19 -->\n<g class=\"node\" id=\"node28\">\n<title>n19</title>\n<ellipse cx=\"532.2417\" cy=\"-91\" fill=\"none\" rx=\"33.4852\" ry=\"18\" stroke=\"#000000\"/>\n<text fill=\"#000000\" font-family=\"Meiryo UI\" font-size=\"12.00\" text-anchor=\"middle\" x=\"532.2417\" y=\"-87.9\">#Name</text>\n</g>\n<!-- n18&#45;&gt;n19 -->\n<g class=\"edge\" id=\"edge23\">\n<title>n18-&gt;n19</title>\n<path d=\"M533.0296,-157.9737C532.897,-146.7043 532.7235,-131.9524 532.573,-119.1627\" fill=\"none\" stroke=\"#000000\"/>\n<polygon fill=\"#000000\" points=\"536.071,-118.9584 532.4535,-109.0003 529.0714,-119.0408 536.071,-118.9584\" stroke=\"#000000\"/>\n<text fill=\"#000000\" font-family=\"Times,serif\" font-size=\"12.00\" text-anchor=\"middle\" x=\"536.7417\" y=\"-130.4\">0</text>\n</g>\n<!-- n20 -->\n<g class=\"node\" id=\"node30\">\n<title>n20</title>\n<ellipse cx=\"612.2417\" cy=\"-91\" fill=\"none\" rx=\"28.8653\" ry=\"18\" stroke=\"#000000\"/>\n<text fill=\"#000000\" font-family=\"Meiryo UI\" font-size=\"12.00\" text-anchor=\"middle\" x=\"612.2417\" y=\"-87.9\">#Int</text>\n</g>\n<!-- n18&#45;&gt;n20 -->\n<g class=\"edge\" id=\"edge25\">\n<title>n18-&gt;n20</title>\n<path d=\"M547.7315,-160.4097C559.6833,-147.5502 576.8246,-129.107 590.4341,-114.4638\" fill=\"none\" stroke=\"#000000\"/>\n<polygon fill=\"#000000\" points=\"593.3321,-116.487 597.5762,-106.7793 588.2046,-111.7215 593.3321,-116.487\" stroke=\"#000000\"/>\n<text fill=\"#000000\" font-family=\"Times,serif\" font-size=\"12.00\" text-anchor=\"middle\" x=\"581.7417\" y=\"-130.4\">1</text>\n</g>\n<!-- c19 -->\n<g class=\"node\" id=\"node29\">\n<title>c19</title>\n<polygon fill=\"none\" points=\"559.2417,-36 505.2417,-36 505.2417,0 559.2417,0 559.2417,-36\" stroke=\"#000000\"/>\n<text fill=\"#0000ff\" font-family=\"monospace\" font-size=\"12.00\" text-anchor=\"middle\" x=\"532.2417\" y=\"-14.9\">'n'</text>\n</g>\n<!-- n19&#45;&gt;c19 -->\n<g class=\"edge\" id=\"edge22\">\n<title>n19-&gt;c19</title>\n<path d=\"M532.2417,-72.9551C532.2417,-64.8828 532.2417,-55.1764 532.2417,-46.1817\" fill=\"none\" stroke=\"#000000\"/>\n<polygon fill=\"#000000\" points=\"535.7418,-46.0903 532.2417,-36.0904 528.7418,-46.0904 535.7418,-46.0903\" stroke=\"#000000\"/>\n</g>\n<!-- c20 -->\n<g class=\"node\" id=\"node31\">\n<title>c20</title>\n<polygon fill=\"none\" points=\"639.2417,-36 585.2417,-36 585.2417,0 639.2417,0 639.2417,-36\" stroke=\"#000000\"/>\n<text fill=\"#0000ff\" font-family=\"monospace\" font-size=\"12.00\" text-anchor=\"middle\" x=\"612.2417\" y=\"-14.9\">'2'</text>\n</g>\n<!-- n20&#45;&gt;c20 -->\n<g class=\"edge\" id=\"edge24\">\n<title>n20-&gt;c20</title>\n<path d=\"M612.2417,-72.9551C612.2417,-64.8828 612.2417,-55.1764 612.2417,-46.1817\" fill=\"none\" stroke=\"#000000\"/>\n<polygon fill=\"#000000\" points=\"615.7418,-46.0903 612.2417,-36.0904 608.7418,-46.0904 615.7418,-46.0903\" stroke=\"#000000\"/>\n</g>\n<!-- n22 -->\n<g class=\"node\" id=\"node33\">\n<title>n22</title>\n<ellipse cx=\"431.2417\" cy=\"-431\" fill=\"none\" rx=\"33.4852\" ry=\"18\" stroke=\"#000000\"/>\n<text fill=\"#000000\" font-family=\"Meiryo UI\" font-size=\"12.00\" text-anchor=\"middle\" x=\"431.2417\" y=\"-427.9\">#Name</text>\n</g>\n<!-- n21&#45;&gt;n22 -->\n<g class=\"edge\" id=\"edge32\">\n<title>n21-&gt;n22</title>\n<path d=\"M431.2417,-497.9737C431.2417,-486.7043 431.2417,-471.9524 431.2417,-459.1627\" fill=\"none\" stroke=\"#000000\"/>\n<polygon fill=\"#000000\" points=\"434.7418,-459.0003 431.2417,-449.0003 427.7418,-459.0004 434.7418,-459.0003\" stroke=\"#000000\"/>\n<text fill=\"#000000\" font-family=\"Times,serif\" font-size=\"12.00\" text-anchor=\"middle\" x=\"434.7417\" y=\"-470.4\">0</text>\n</g>\n<!-- n23 -->\n<g class=\"node\" id=\"node35\">\n<title>n23</title>\n<ellipse cx=\"541.2417\" cy=\"-431\" fill=\"none\" rx=\"47.3006\" ry=\"18\" stroke=\"#000000\"/>\n<text fill=\"#000000\" font-family=\"Meiryo UI\" font-size=\"12.00\" text-anchor=\"middle\" x=\"541.2417\" y=\"-427.9\">#FuncApp</text>\n</g>\n<!-- n21&#45;&gt;n23 -->\n<g class=\"edge\" id=\"edge37\">\n<title>n21-&gt;n23</title>\n<path d=\"M452.1908,-499.8121C469.1322,-486.7209 493.18,-468.1386 512.0161,-453.5835\" fill=\"none\" stroke=\"#000000\"/>\n<polygon fill=\"#000000\" points=\"514.2231,-456.3012 519.9959,-447.4172 509.943,-450.7622 514.2231,-456.3012\" stroke=\"#000000\"/>\n<text fill=\"#000000\" font-family=\"Times,serif\" font-size=\"12.00\" text-anchor=\"middle\" x=\"496.7417\" y=\"-470.4\">1</text>\n</g>\n<!-- c22 -->\n<g class=\"node\" id=\"node34\">\n<title>c22</title>\n<polygon fill=\"none\" points=\"465.7417,-364 396.7417,-364 396.7417,-328 465.7417,-328 465.7417,-364\" stroke=\"#000000\"/>\n<text fill=\"#0000ff\" font-family=\"monospace\" font-size=\"12.00\" text-anchor=\"middle\" x=\"431.2417\" y=\"-342.9\">'print'</text>\n</g>\n<!-- n22&#45;&gt;c22 -->\n<g class=\"edge\" id=\"edge31\">\n<title>n22-&gt;c22</title>\n<path d=\"M431.2417,-412.9737C431.2417,-401.7043 431.2417,-386.9524 431.2417,-374.1627\" fill=\"none\" stroke=\"#000000\"/>\n<polygon fill=\"#000000\" points=\"434.7418,-374.0003 431.2417,-364.0003 427.7418,-374.0004 434.7418,-374.0003\" stroke=\"#000000\"/>\n</g>\n<!-- n24 -->\n<g class=\"node\" id=\"node36\">\n<title>n24</title>\n<ellipse cx=\"541.2417\" cy=\"-346\" fill=\"none\" rx=\"33.4852\" ry=\"18\" stroke=\"#000000\"/>\n<text fill=\"#000000\" font-family=\"Meiryo UI\" font-size=\"12.00\" text-anchor=\"middle\" x=\"541.2417\" y=\"-342.9\">#Name</text>\n</g>\n<!-- n23&#45;&gt;n24 -->\n<g class=\"edge\" id=\"edge34\">\n<title>n23-&gt;n24</title>\n<path d=\"M541.2417,-412.9737C541.2417,-401.7043 541.2417,-386.9524 541.2417,-374.1627\" fill=\"none\" stroke=\"#000000\"/>\n<polygon fill=\"#000000\" points=\"544.7418,-374.0003 541.2417,-364.0003 537.7418,-374.0004 544.7418,-374.0003\" stroke=\"#000000\"/>\n<text fill=\"#000000\" font-family=\"Times,serif\" font-size=\"12.00\" text-anchor=\"middle\" x=\"544.7417\" y=\"-385.4\">0</text>\n</g>\n<!-- n25 -->\n<g class=\"node\" id=\"node38\">\n<title>n25</title>\n<ellipse cx=\"621.2417\" cy=\"-346\" fill=\"none\" rx=\"28.8653\" ry=\"18\" stroke=\"#000000\"/>\n<text fill=\"#000000\" font-family=\"Meiryo UI\" font-size=\"12.00\" text-anchor=\"middle\" x=\"621.2417\" y=\"-342.9\">#Int</text>\n</g>\n<!-- n23&#45;&gt;n25 -->\n<g class=\"edge\" id=\"edge36\">\n<title>n23-&gt;n25</title>\n<path d=\"M557.4309,-413.799C569.5271,-400.9468 586.1908,-383.2416 599.4562,-369.1471\" fill=\"none\" stroke=\"#000000\"/>\n<polygon fill=\"#000000\" points=\"602.1207,-371.4229 606.4256,-361.7421 597.0232,-366.6253 602.1207,-371.4229\" stroke=\"#000000\"/>\n<text fill=\"#000000\" font-family=\"Times,serif\" font-size=\"12.00\" text-anchor=\"middle\" x=\"589.7417\" y=\"-385.4\">1</text>\n</g>\n<!-- c24 -->\n<g class=\"node\" id=\"node37\">\n<title>c24</title>\n<polygon fill=\"none\" points=\"572.2417,-279 518.2417,-279 518.2417,-243 572.2417,-243 572.2417,-279\" stroke=\"#000000\"/>\n<text fill=\"#0000ff\" font-family=\"monospace\" font-size=\"12.00\" text-anchor=\"middle\" x=\"545.2417\" y=\"-257.9\">'fib'</text>\n</g>\n<!-- n24&#45;&gt;c24 -->\n<g class=\"edge\" id=\"edge33\">\n<title>n24-&gt;c24</title>\n<path d=\"M542.09,-327.9737C542.6203,-316.7043 543.3145,-301.9524 543.9164,-289.1627\" fill=\"none\" stroke=\"#000000\"/>\n<polygon fill=\"#000000\" points=\"547.4206,-289.1538 544.3946,-279.0003 540.4283,-288.8247 547.4206,-289.1538\" stroke=\"#000000\"/>\n</g>\n<!-- c25 -->\n<g class=\"node\" id=\"node39\">\n<title>c25</title>\n<polygon fill=\"none\" points=\"648.2417,-279 594.2417,-279 594.2417,-243 648.2417,-243 648.2417,-279\" stroke=\"#000000\"/>\n<text fill=\"#0000ff\" font-family=\"monospace\" font-size=\"12.00\" text-anchor=\"middle\" x=\"621.2417\" y=\"-257.9\">'4'</text>\n</g>\n<!-- n25&#45;&gt;c25 -->\n<g class=\"edge\" id=\"edge35\">\n<title>n25-&gt;c25</title>\n<path d=\"M621.2417,-327.9737C621.2417,-316.7043 621.2417,-301.9524 621.2417,-289.1627\" fill=\"none\" stroke=\"#000000\"/>\n<polygon fill=\"#000000\" points=\"624.7418,-289.0003 621.2417,-279.0003 617.7418,-289.0004 624.7418,-289.0003\" stroke=\"#000000\"/>\n</g>\n</g>\n</svg>"
          },
          "metadata": {
            "tags": []
          }
        },
        {
          "output_type": "display_data",
          "data": {
            "text/html": [
              "<b>Expression</b> if a == 1 then print(a) else 0<span style=\"background-color:#FFCACA;\"></span>"
            ],
            "text/plain": [
              "<IPython.core.display.HTML object>"
            ]
          },
          "metadata": {
            "tags": []
          }
        },
        {
          "output_type": "display_data",
          "data": {
            "text/plain": [
              "<IPython.core.display.SVG object>"
            ],
            "image/svg+xml": "<svg height=\"287pt\" viewBox=\"0.00 0.00 390.24 287.00\" width=\"390pt\" xmlns=\"http://www.w3.org/2000/svg\" xmlns:xlink=\"http://www.w3.org/1999/xlink\">\n<g class=\"graph\" id=\"graph0\" transform=\"scale(1 1) rotate(0) translate(4 283)\">\n<title>tree</title>\n<polygon fill=\"#ffffff\" points=\"-4,4 -4,-283 386.2417,-283 386.2417,4 -4,4\" stroke=\"transparent\"/>\n<!-- n1 -->\n<g class=\"node\" id=\"node1\">\n<title>n1</title>\n<ellipse cx=\"223.2417\" cy=\"-261\" fill=\"none\" rx=\"42.451\" ry=\"18\" stroke=\"#000000\"/>\n<text fill=\"#000000\" font-family=\"Meiryo UI\" font-size=\"12.00\" text-anchor=\"middle\" x=\"223.2417\" y=\"-257.9\">#IfExpr</text>\n</g>\n<!-- n2 -->\n<g class=\"node\" id=\"node2\">\n<title>n2</title>\n<ellipse cx=\"113.2417\" cy=\"-176\" fill=\"none\" rx=\"27\" ry=\"18\" stroke=\"#000000\"/>\n<text fill=\"#000000\" font-family=\"Meiryo UI\" font-size=\"12.00\" text-anchor=\"middle\" x=\"113.2417\" y=\"-172.9\">#Eq</text>\n</g>\n<!-- n1&#45;&gt;n2 -->\n<g class=\"edge\" id=\"edge5\">\n<title>n1-&gt;n2</title>\n<path d=\"M202.8093,-245.2114C184.8408,-231.3266 158.5943,-211.0452 139.1544,-196.0234\" fill=\"none\" stroke=\"#000000\"/>\n<polygon fill=\"#000000\" points=\"141.0731,-193.0829 131.0201,-189.7379 136.7929,-198.6219 141.0731,-193.0829\" stroke=\"#000000\"/>\n<text fill=\"#000000\" font-family=\"Times,serif\" font-size=\"12.00\" text-anchor=\"middle\" x=\"178.7417\" y=\"-215.4\">0</text>\n</g>\n<!-- n5 -->\n<g class=\"node\" id=\"node7\">\n<title>n5</title>\n<ellipse cx=\"223.2417\" cy=\"-176\" fill=\"none\" rx=\"47.3006\" ry=\"18\" stroke=\"#000000\"/>\n<text fill=\"#000000\" font-family=\"Meiryo UI\" font-size=\"12.00\" text-anchor=\"middle\" x=\"223.2417\" y=\"-172.9\">#FuncApp</text>\n</g>\n<!-- n1&#45;&gt;n5 -->\n<g class=\"edge\" id=\"edge10\">\n<title>n1-&gt;n5</title>\n<path d=\"M223.2417,-242.9737C223.2417,-231.7043 223.2417,-216.9524 223.2417,-204.1627\" fill=\"none\" stroke=\"#000000\"/>\n<polygon fill=\"#000000\" points=\"226.7418,-204.0003 223.2417,-194.0003 219.7418,-204.0004 226.7418,-204.0003\" stroke=\"#000000\"/>\n<text fill=\"#000000\" font-family=\"Times,serif\" font-size=\"12.00\" text-anchor=\"middle\" x=\"226.7417\" y=\"-215.4\">1</text>\n</g>\n<!-- n8 -->\n<g class=\"node\" id=\"node12\">\n<title>n8</title>\n<ellipse cx=\"345.2417\" cy=\"-176\" fill=\"none\" rx=\"28.8653\" ry=\"18\" stroke=\"#000000\"/>\n<text fill=\"#000000\" font-family=\"Meiryo UI\" font-size=\"12.00\" text-anchor=\"middle\" x=\"345.2417\" y=\"-172.9\">#Int</text>\n</g>\n<!-- n1&#45;&gt;n8 -->\n<g class=\"edge\" id=\"edge12\">\n<title>n1-&gt;n8</title>\n<path d=\"M245.335,-245.6071C265.5818,-231.5007 295.6433,-210.5563 317.4999,-195.3283\" fill=\"none\" stroke=\"#000000\"/>\n<polygon fill=\"#000000\" points=\"319.5239,-198.1839 325.728,-189.5956 315.5223,-192.4405 319.5239,-198.1839\" stroke=\"#000000\"/>\n<text fill=\"#000000\" font-family=\"Times,serif\" font-size=\"12.00\" text-anchor=\"middle\" x=\"295.7417\" y=\"-215.4\">2</text>\n</g>\n<!-- n3 -->\n<g class=\"node\" id=\"node3\">\n<title>n3</title>\n<ellipse cx=\"33.2417\" cy=\"-91\" fill=\"none\" rx=\"33.4852\" ry=\"18\" stroke=\"#000000\"/>\n<text fill=\"#000000\" font-family=\"Meiryo UI\" font-size=\"12.00\" text-anchor=\"middle\" x=\"33.2417\" y=\"-87.9\">#Name</text>\n</g>\n<!-- n2&#45;&gt;n3 -->\n<g class=\"edge\" id=\"edge2\">\n<title>n2-&gt;n3</title>\n<path d=\"M98.5685,-160.4097C86.5415,-147.6311 69.3252,-129.3387 55.5858,-114.7406\" fill=\"none\" stroke=\"#000000\"/>\n<polygon fill=\"#000000\" points=\"57.7679,-111.9523 48.3655,-107.069 52.6705,-116.7498 57.7679,-111.9523\" stroke=\"#000000\"/>\n<text fill=\"#000000\" font-family=\"Times,serif\" font-size=\"12.00\" text-anchor=\"middle\" x=\"81.7417\" y=\"-130.4\">0</text>\n</g>\n<!-- n4 -->\n<g class=\"node\" id=\"node5\">\n<title>n4</title>\n<ellipse cx=\"113.2417\" cy=\"-91\" fill=\"none\" rx=\"28.8653\" ry=\"18\" stroke=\"#000000\"/>\n<text fill=\"#000000\" font-family=\"Meiryo UI\" font-size=\"12.00\" text-anchor=\"middle\" x=\"113.2417\" y=\"-87.9\">#Int</text>\n</g>\n<!-- n2&#45;&gt;n4 -->\n<g class=\"edge\" id=\"edge4\">\n<title>n2-&gt;n4</title>\n<path d=\"M113.2417,-157.9737C113.2417,-146.7043 113.2417,-131.9524 113.2417,-119.1627\" fill=\"none\" stroke=\"#000000\"/>\n<polygon fill=\"#000000\" points=\"116.7418,-119.0003 113.2417,-109.0003 109.7418,-119.0004 116.7418,-119.0003\" stroke=\"#000000\"/>\n<text fill=\"#000000\" font-family=\"Times,serif\" font-size=\"12.00\" text-anchor=\"middle\" x=\"116.7417\" y=\"-130.4\">1</text>\n</g>\n<!-- c3 -->\n<g class=\"node\" id=\"node4\">\n<title>c3</title>\n<polygon fill=\"none\" points=\"60.2417,-36 6.2417,-36 6.2417,0 60.2417,0 60.2417,-36\" stroke=\"#000000\"/>\n<text fill=\"#0000ff\" font-family=\"monospace\" font-size=\"12.00\" text-anchor=\"middle\" x=\"33.2417\" y=\"-14.9\">'a'</text>\n</g>\n<!-- n3&#45;&gt;c3 -->\n<g class=\"edge\" id=\"edge1\">\n<title>n3-&gt;c3</title>\n<path d=\"M33.2417,-72.9551C33.2417,-64.8828 33.2417,-55.1764 33.2417,-46.1817\" fill=\"none\" stroke=\"#000000\"/>\n<polygon fill=\"#000000\" points=\"36.7418,-46.0903 33.2417,-36.0904 29.7418,-46.0904 36.7418,-46.0903\" stroke=\"#000000\"/>\n</g>\n<!-- c4 -->\n<g class=\"node\" id=\"node6\">\n<title>c4</title>\n<polygon fill=\"none\" points=\"140.2417,-36 86.2417,-36 86.2417,0 140.2417,0 140.2417,-36\" stroke=\"#000000\"/>\n<text fill=\"#0000ff\" font-family=\"monospace\" font-size=\"12.00\" text-anchor=\"middle\" x=\"113.2417\" y=\"-14.9\">'1'</text>\n</g>\n<!-- n4&#45;&gt;c4 -->\n<g class=\"edge\" id=\"edge3\">\n<title>n4-&gt;c4</title>\n<path d=\"M113.2417,-72.9551C113.2417,-64.8828 113.2417,-55.1764 113.2417,-46.1817\" fill=\"none\" stroke=\"#000000\"/>\n<polygon fill=\"#000000\" points=\"116.7418,-46.0903 113.2417,-36.0904 109.7418,-46.0904 116.7418,-46.0903\" stroke=\"#000000\"/>\n</g>\n<!-- n6 -->\n<g class=\"node\" id=\"node8\">\n<title>n6</title>\n<ellipse cx=\"193.2417\" cy=\"-91\" fill=\"none\" rx=\"33.4852\" ry=\"18\" stroke=\"#000000\"/>\n<text fill=\"#000000\" font-family=\"Meiryo UI\" font-size=\"12.00\" text-anchor=\"middle\" x=\"193.2417\" y=\"-87.9\">#Name</text>\n</g>\n<!-- n5&#45;&gt;n6 -->\n<g class=\"edge\" id=\"edge7\">\n<title>n5-&gt;n6</title>\n<path d=\"M216.8795,-157.9737C212.8351,-146.5147 207.5199,-131.455 202.9542,-118.5188\" fill=\"none\" stroke=\"#000000\"/>\n<polygon fill=\"#000000\" points=\"206.1206,-116.9739 199.4919,-108.7089 199.5197,-119.3037 206.1206,-116.9739\" stroke=\"#000000\"/>\n<text fill=\"#000000\" font-family=\"Times,serif\" font-size=\"12.00\" text-anchor=\"middle\" x=\"213.7417\" y=\"-130.4\">0</text>\n</g>\n<!-- n7 -->\n<g class=\"node\" id=\"node10\">\n<title>n7</title>\n<ellipse cx=\"277.2417\" cy=\"-91\" fill=\"none\" rx=\"33.4852\" ry=\"18\" stroke=\"#000000\"/>\n<text fill=\"#000000\" font-family=\"Meiryo UI\" font-size=\"12.00\" text-anchor=\"middle\" x=\"277.2417\" y=\"-87.9\">#Name</text>\n</g>\n<!-- n5&#45;&gt;n7 -->\n<g class=\"edge\" id=\"edge9\">\n<title>n5-&gt;n7</title>\n<path d=\"M234.4305,-158.3879C242.0108,-146.4561 252.1582,-130.4833 260.6711,-117.0833\" fill=\"none\" stroke=\"#000000\"/>\n<polygon fill=\"#000000\" points=\"263.8438,-118.6162 266.252,-108.2987 257.9353,-114.8626 263.8438,-118.6162\" stroke=\"#000000\"/>\n<text fill=\"#000000\" font-family=\"Times,serif\" font-size=\"12.00\" text-anchor=\"middle\" x=\"257.7417\" y=\"-130.4\">1</text>\n</g>\n<!-- c6 -->\n<g class=\"node\" id=\"node9\">\n<title>c6</title>\n<polygon fill=\"none\" points=\"227.7417,-36 158.7417,-36 158.7417,0 227.7417,0 227.7417,-36\" stroke=\"#000000\"/>\n<text fill=\"#0000ff\" font-family=\"monospace\" font-size=\"12.00\" text-anchor=\"middle\" x=\"193.2417\" y=\"-14.9\">'print'</text>\n</g>\n<!-- n6&#45;&gt;c6 -->\n<g class=\"edge\" id=\"edge6\">\n<title>n6-&gt;c6</title>\n<path d=\"M193.2417,-72.9551C193.2417,-64.8828 193.2417,-55.1764 193.2417,-46.1817\" fill=\"none\" stroke=\"#000000\"/>\n<polygon fill=\"#000000\" points=\"196.7418,-46.0903 193.2417,-36.0904 189.7418,-46.0904 196.7418,-46.0903\" stroke=\"#000000\"/>\n</g>\n<!-- c7 -->\n<g class=\"node\" id=\"node11\">\n<title>c7</title>\n<polygon fill=\"none\" points=\"304.2417,-36 250.2417,-36 250.2417,0 304.2417,0 304.2417,-36\" stroke=\"#000000\"/>\n<text fill=\"#0000ff\" font-family=\"monospace\" font-size=\"12.00\" text-anchor=\"middle\" x=\"277.2417\" y=\"-14.9\">'a'</text>\n</g>\n<!-- n7&#45;&gt;c7 -->\n<g class=\"edge\" id=\"edge8\">\n<title>n7-&gt;c7</title>\n<path d=\"M277.2417,-72.9551C277.2417,-64.8828 277.2417,-55.1764 277.2417,-46.1817\" fill=\"none\" stroke=\"#000000\"/>\n<polygon fill=\"#000000\" points=\"280.7418,-46.0903 277.2417,-36.0904 273.7418,-46.0904 280.7418,-46.0903\" stroke=\"#000000\"/>\n</g>\n<!-- c8 -->\n<g class=\"node\" id=\"node13\">\n<title>c8</title>\n<polygon fill=\"none\" points=\"382.2417,-109 328.2417,-109 328.2417,-73 382.2417,-73 382.2417,-109\" stroke=\"#000000\"/>\n<text fill=\"#0000ff\" font-family=\"monospace\" font-size=\"12.00\" text-anchor=\"middle\" x=\"355.2417\" y=\"-87.9\">'0'</text>\n</g>\n<!-- n8&#45;&gt;c8 -->\n<g class=\"edge\" id=\"edge11\">\n<title>n8-&gt;c8</title>\n<path d=\"M347.3624,-157.9737C348.6882,-146.7043 350.4238,-131.9524 351.9284,-119.1627\" fill=\"none\" stroke=\"#000000\"/>\n<polygon fill=\"#000000\" points=\"355.4315,-119.3408 353.124,-109.0003 348.4795,-118.5229 355.4315,-119.3408\" stroke=\"#000000\"/>\n</g>\n</g>\n</svg>"
          },
          "metadata": {
            "tags": []
          }
        },
        {
          "output_type": "display_data",
          "data": {
            "text/html": [
              "<b>Expression</b> f(a+1)<span style=\"background-color:#FFCACA;\"></span>"
            ],
            "text/plain": [
              "<IPython.core.display.HTML object>"
            ]
          },
          "metadata": {
            "tags": []
          }
        },
        {
          "output_type": "display_data",
          "data": {
            "text/plain": [
              "<IPython.core.display.SVG object>"
            ],
            "image/svg+xml": "<svg height=\"287pt\" viewBox=\"0.00 0.00 229.17 287.00\" width=\"229pt\" xmlns=\"http://www.w3.org/2000/svg\" xmlns:xlink=\"http://www.w3.org/1999/xlink\">\n<g class=\"graph\" id=\"graph0\" transform=\"scale(1 1) rotate(0) translate(4 283)\">\n<title>tree</title>\n<polygon fill=\"#ffffff\" points=\"-4,4 -4,-283 225.1743,-283 225.1743,4 -4,4\" stroke=\"transparent\"/>\n<!-- n1 -->\n<g class=\"node\" id=\"node1\">\n<title>n1</title>\n<ellipse cx=\"73.2417\" cy=\"-261\" fill=\"none\" rx=\"47.3006\" ry=\"18\" stroke=\"#000000\"/>\n<text fill=\"#000000\" font-family=\"Meiryo UI\" font-size=\"12.00\" text-anchor=\"middle\" x=\"73.2417\" y=\"-257.9\">#FuncApp</text>\n</g>\n<!-- n2 -->\n<g class=\"node\" id=\"node2\">\n<title>n2</title>\n<ellipse cx=\"33.2417\" cy=\"-176\" fill=\"none\" rx=\"33.4852\" ry=\"18\" stroke=\"#000000\"/>\n<text fill=\"#000000\" font-family=\"Meiryo UI\" font-size=\"12.00\" text-anchor=\"middle\" x=\"33.2417\" y=\"-172.9\">#Name</text>\n</g>\n<!-- n1&#45;&gt;n2 -->\n<g class=\"edge\" id=\"edge2\">\n<title>n1-&gt;n2</title>\n<path d=\"M64.7587,-242.9737C59.3129,-231.4013 52.1388,-216.1564 46.0112,-203.1352\" fill=\"none\" stroke=\"#000000\"/>\n<polygon fill=\"#000000\" points=\"49.0002,-201.2667 41.5753,-193.7089 42.6664,-204.2474 49.0002,-201.2667\" stroke=\"#000000\"/>\n<text fill=\"#000000\" font-family=\"Times,serif\" font-size=\"12.00\" text-anchor=\"middle\" x=\"59.7417\" y=\"-215.4\">0</text>\n</g>\n<!-- n3 -->\n<g class=\"node\" id=\"node4\">\n<title>n3</title>\n<ellipse cx=\"113.2417\" cy=\"-176\" fill=\"none\" rx=\"28.8653\" ry=\"18\" stroke=\"#000000\"/>\n<text fill=\"#000000\" font-family=\"Meiryo UI\" font-size=\"12.00\" text-anchor=\"middle\" x=\"113.2417\" y=\"-172.9\">#Add</text>\n</g>\n<!-- n1&#45;&gt;n3 -->\n<g class=\"edge\" id=\"edge7\">\n<title>n1-&gt;n3</title>\n<path d=\"M81.7247,-242.9737C87.2608,-231.2094 94.5829,-215.6499 100.7761,-202.4893\" fill=\"none\" stroke=\"#000000\"/>\n<polygon fill=\"#000000\" points=\"103.9534,-203.9575 105.0445,-193.419 97.6196,-200.9769 103.9534,-203.9575\" stroke=\"#000000\"/>\n<text fill=\"#000000\" font-family=\"Times,serif\" font-size=\"12.00\" text-anchor=\"middle\" x=\"98.7417\" y=\"-215.4\">1</text>\n</g>\n<!-- c2 -->\n<g class=\"node\" id=\"node3\">\n<title>c2</title>\n<polygon fill=\"none\" points=\"60.2417,-109 6.2417,-109 6.2417,-73 60.2417,-73 60.2417,-109\" stroke=\"#000000\"/>\n<text fill=\"#0000ff\" font-family=\"monospace\" font-size=\"12.00\" text-anchor=\"middle\" x=\"33.2417\" y=\"-87.9\">'f'</text>\n</g>\n<!-- n2&#45;&gt;c2 -->\n<g class=\"edge\" id=\"edge1\">\n<title>n2-&gt;c2</title>\n<path d=\"M33.2417,-157.9737C33.2417,-146.7043 33.2417,-131.9524 33.2417,-119.1627\" fill=\"none\" stroke=\"#000000\"/>\n<polygon fill=\"#000000\" points=\"36.7418,-119.0003 33.2417,-109.0003 29.7418,-119.0004 36.7418,-119.0003\" stroke=\"#000000\"/>\n</g>\n<!-- n4 -->\n<g class=\"node\" id=\"node5\">\n<title>n4</title>\n<ellipse cx=\"112.2417\" cy=\"-91\" fill=\"none\" rx=\"33.4852\" ry=\"18\" stroke=\"#000000\"/>\n<text fill=\"#000000\" font-family=\"Meiryo UI\" font-size=\"12.00\" text-anchor=\"middle\" x=\"112.2417\" y=\"-87.9\">#Name</text>\n</g>\n<!-- n3&#45;&gt;n4 -->\n<g class=\"edge\" id=\"edge4\">\n<title>n3-&gt;n4</title>\n<path d=\"M113.0296,-157.9737C112.897,-146.7043 112.7235,-131.9524 112.573,-119.1627\" fill=\"none\" stroke=\"#000000\"/>\n<polygon fill=\"#000000\" points=\"116.071,-118.9584 112.4535,-109.0003 109.0714,-119.0408 116.071,-118.9584\" stroke=\"#000000\"/>\n<text fill=\"#000000\" font-family=\"Times,serif\" font-size=\"12.00\" text-anchor=\"middle\" x=\"115.7417\" y=\"-130.4\">0</text>\n</g>\n<!-- n5 -->\n<g class=\"node\" id=\"node7\">\n<title>n5</title>\n<ellipse cx=\"192.2417\" cy=\"-91\" fill=\"none\" rx=\"28.8653\" ry=\"18\" stroke=\"#000000\"/>\n<text fill=\"#000000\" font-family=\"Meiryo UI\" font-size=\"12.00\" text-anchor=\"middle\" x=\"192.2417\" y=\"-87.9\">#Int</text>\n</g>\n<!-- n3&#45;&gt;n5 -->\n<g class=\"edge\" id=\"edge6\">\n<title>n3-&gt;n5</title>\n<path d=\"M127.7315,-160.4097C139.6833,-147.5502 156.8246,-129.107 170.4341,-114.4638\" fill=\"none\" stroke=\"#000000\"/>\n<polygon fill=\"#000000\" points=\"173.3321,-116.487 177.5762,-106.7793 168.2046,-111.7215 173.3321,-116.487\" stroke=\"#000000\"/>\n<text fill=\"#000000\" font-family=\"Times,serif\" font-size=\"12.00\" text-anchor=\"middle\" x=\"160.7417\" y=\"-130.4\">1</text>\n</g>\n<!-- c4 -->\n<g class=\"node\" id=\"node6\">\n<title>c4</title>\n<polygon fill=\"none\" points=\"139.2417,-36 85.2417,-36 85.2417,0 139.2417,0 139.2417,-36\" stroke=\"#000000\"/>\n<text fill=\"#0000ff\" font-family=\"monospace\" font-size=\"12.00\" text-anchor=\"middle\" x=\"112.2417\" y=\"-14.9\">'a'</text>\n</g>\n<!-- n4&#45;&gt;c4 -->\n<g class=\"edge\" id=\"edge3\">\n<title>n4-&gt;c4</title>\n<path d=\"M112.2417,-72.9551C112.2417,-64.8828 112.2417,-55.1764 112.2417,-46.1817\" fill=\"none\" stroke=\"#000000\"/>\n<polygon fill=\"#000000\" points=\"115.7418,-46.0903 112.2417,-36.0904 108.7418,-46.0904 115.7418,-46.0903\" stroke=\"#000000\"/>\n</g>\n<!-- c5 -->\n<g class=\"node\" id=\"node8\">\n<title>c5</title>\n<polygon fill=\"none\" points=\"219.2417,-36 165.2417,-36 165.2417,0 219.2417,0 219.2417,-36\" stroke=\"#000000\"/>\n<text fill=\"#0000ff\" font-family=\"monospace\" font-size=\"12.00\" text-anchor=\"middle\" x=\"192.2417\" y=\"-14.9\">'1'</text>\n</g>\n<!-- n5&#45;&gt;c5 -->\n<g class=\"edge\" id=\"edge5\">\n<title>n5-&gt;c5</title>\n<path d=\"M192.2417,-72.9551C192.2417,-64.8828 192.2417,-55.1764 192.2417,-46.1817\" fill=\"none\" stroke=\"#000000\"/>\n<polygon fill=\"#000000\" points=\"195.7418,-46.0903 192.2417,-36.0904 188.7418,-46.0904 195.7418,-46.0903\" stroke=\"#000000\"/>\n</g>\n</g>\n</svg>"
          },
          "metadata": {
            "tags": []
          }
        },
        {
          "output_type": "display_data",
          "data": {
            "text/html": [
              "<b>Expression</b> 1+2*3<span style=\"background-color:#FFCACA;\"></span>"
            ],
            "text/plain": [
              "<IPython.core.display.HTML object>"
            ]
          },
          "metadata": {
            "tags": []
          }
        },
        {
          "output_type": "display_data",
          "data": {
            "text/plain": [
              "<IPython.core.display.SVG object>"
            ],
            "image/svg+xml": "<svg height=\"287pt\" viewBox=\"0.00 0.00 216.87 287.00\" width=\"217pt\" xmlns=\"http://www.w3.org/2000/svg\" xmlns:xlink=\"http://www.w3.org/1999/xlink\">\n<g class=\"graph\" id=\"graph0\" transform=\"scale(1 1) rotate(0) translate(4 283)\">\n<title>tree</title>\n<polygon fill=\"#ffffff\" points=\"-4,4 -4,-283 212.8652,-283 212.8652,4 -4,4\" stroke=\"transparent\"/>\n<!-- n1 -->\n<g class=\"node\" id=\"node1\">\n<title>n1</title>\n<ellipse cx=\"66.9326\" cy=\"-261\" fill=\"none\" rx=\"28.8653\" ry=\"18\" stroke=\"#000000\"/>\n<text fill=\"#000000\" font-family=\"Meiryo UI\" font-size=\"12.00\" text-anchor=\"middle\" x=\"66.9326\" y=\"-257.9\">#Add</text>\n</g>\n<!-- n2 -->\n<g class=\"node\" id=\"node2\">\n<title>n2</title>\n<ellipse cx=\"28.9326\" cy=\"-176\" fill=\"none\" rx=\"28.8653\" ry=\"18\" stroke=\"#000000\"/>\n<text fill=\"#000000\" font-family=\"Meiryo UI\" font-size=\"12.00\" text-anchor=\"middle\" x=\"28.9326\" y=\"-172.9\">#Int</text>\n</g>\n<!-- n1&#45;&gt;n2 -->\n<g class=\"edge\" id=\"edge2\">\n<title>n1-&gt;n2</title>\n<path d=\"M59.059,-243.3879C53.811,-231.6491 46.8145,-215.9989 40.8849,-202.7355\" fill=\"none\" stroke=\"#000000\"/>\n<polygon fill=\"#000000\" points=\"44.0727,-201.2903 36.7961,-193.5895 37.6823,-204.1472 44.0727,-201.2903\" stroke=\"#000000\"/>\n<text fill=\"#000000\" font-family=\"Times,serif\" font-size=\"12.00\" text-anchor=\"middle\" x=\"54.4326\" y=\"-215.4\">0</text>\n</g>\n<!-- n3 -->\n<g class=\"node\" id=\"node4\">\n<title>n3</title>\n<ellipse cx=\"104.9326\" cy=\"-176\" fill=\"none\" rx=\"28.8653\" ry=\"18\" stroke=\"#000000\"/>\n<text fill=\"#000000\" font-family=\"Meiryo UI\" font-size=\"12.00\" text-anchor=\"middle\" x=\"104.9326\" y=\"-172.9\">#Mul</text>\n</g>\n<!-- n1&#45;&gt;n3 -->\n<g class=\"edge\" id=\"edge7\">\n<title>n1-&gt;n3</title>\n<path d=\"M74.8062,-243.3879C80.0542,-231.6491 87.0507,-215.9989 92.9803,-202.7355\" fill=\"none\" stroke=\"#000000\"/>\n<polygon fill=\"#000000\" points=\"96.1829,-204.1472 97.0691,-193.5895 89.7925,-201.2903 96.1829,-204.1472\" stroke=\"#000000\"/>\n<text fill=\"#000000\" font-family=\"Times,serif\" font-size=\"12.00\" text-anchor=\"middle\" x=\"92.4326\" y=\"-215.4\">1</text>\n</g>\n<!-- c2 -->\n<g class=\"node\" id=\"node3\">\n<title>c2</title>\n<polygon fill=\"none\" points=\"55.9326,-109 1.9326,-109 1.9326,-73 55.9326,-73 55.9326,-109\" stroke=\"#000000\"/>\n<text fill=\"#0000ff\" font-family=\"monospace\" font-size=\"12.00\" text-anchor=\"middle\" x=\"28.9326\" y=\"-87.9\">'1'</text>\n</g>\n<!-- n2&#45;&gt;c2 -->\n<g class=\"edge\" id=\"edge1\">\n<title>n2-&gt;c2</title>\n<path d=\"M28.9326,-157.9737C28.9326,-146.7043 28.9326,-131.9524 28.9326,-119.1627\" fill=\"none\" stroke=\"#000000\"/>\n<polygon fill=\"#000000\" points=\"32.4327,-119.0003 28.9326,-109.0003 25.4327,-119.0004 32.4327,-119.0003\" stroke=\"#000000\"/>\n</g>\n<!-- n4 -->\n<g class=\"node\" id=\"node5\">\n<title>n4</title>\n<ellipse cx=\"103.9326\" cy=\"-91\" fill=\"none\" rx=\"28.8653\" ry=\"18\" stroke=\"#000000\"/>\n<text fill=\"#000000\" font-family=\"Meiryo UI\" font-size=\"12.00\" text-anchor=\"middle\" x=\"103.9326\" y=\"-87.9\">#Int</text>\n</g>\n<!-- n3&#45;&gt;n4 -->\n<g class=\"edge\" id=\"edge4\">\n<title>n3-&gt;n4</title>\n<path d=\"M104.7205,-157.9737C104.5879,-146.7043 104.4144,-131.9524 104.2639,-119.1627\" fill=\"none\" stroke=\"#000000\"/>\n<polygon fill=\"#000000\" points=\"107.7619,-118.9584 104.1444,-109.0003 100.7623,-119.0408 107.7619,-118.9584\" stroke=\"#000000\"/>\n<text fill=\"#000000\" font-family=\"Times,serif\" font-size=\"12.00\" text-anchor=\"middle\" x=\"108.4326\" y=\"-130.4\">0</text>\n</g>\n<!-- n5 -->\n<g class=\"node\" id=\"node7\">\n<title>n5</title>\n<ellipse cx=\"179.9326\" cy=\"-91\" fill=\"none\" rx=\"28.8653\" ry=\"18\" stroke=\"#000000\"/>\n<text fill=\"#000000\" font-family=\"Meiryo UI\" font-size=\"12.00\" text-anchor=\"middle\" x=\"179.9326\" y=\"-87.9\">#Int</text>\n</g>\n<!-- n3&#45;&gt;n5 -->\n<g class=\"edge\" id=\"edge6\">\n<title>n3-&gt;n5</title>\n<path d=\"M119.0395,-160.0122C130.3532,-147.19 146.3968,-129.0073 159.176,-114.5242\" fill=\"none\" stroke=\"#000000\"/>\n<polygon fill=\"#000000\" points=\"161.8971,-116.7303 165.8889,-106.9162 156.6482,-112.0989 161.8971,-116.7303\" stroke=\"#000000\"/>\n<text fill=\"#000000\" font-family=\"Times,serif\" font-size=\"12.00\" text-anchor=\"middle\" x=\"150.4326\" y=\"-130.4\">1</text>\n</g>\n<!-- c4 -->\n<g class=\"node\" id=\"node6\">\n<title>c4</title>\n<polygon fill=\"none\" points=\"130.9326,-36 76.9326,-36 76.9326,0 130.9326,0 130.9326,-36\" stroke=\"#000000\"/>\n<text fill=\"#0000ff\" font-family=\"monospace\" font-size=\"12.00\" text-anchor=\"middle\" x=\"103.9326\" y=\"-14.9\">'2'</text>\n</g>\n<!-- n4&#45;&gt;c4 -->\n<g class=\"edge\" id=\"edge3\">\n<title>n4-&gt;c4</title>\n<path d=\"M103.9326,-72.9551C103.9326,-64.8828 103.9326,-55.1764 103.9326,-46.1817\" fill=\"none\" stroke=\"#000000\"/>\n<polygon fill=\"#000000\" points=\"107.4327,-46.0903 103.9326,-36.0904 100.4327,-46.0904 107.4327,-46.0903\" stroke=\"#000000\"/>\n</g>\n<!-- c5 -->\n<g class=\"node\" id=\"node8\">\n<title>c5</title>\n<polygon fill=\"none\" points=\"206.9326,-36 152.9326,-36 152.9326,0 206.9326,0 206.9326,-36\" stroke=\"#000000\"/>\n<text fill=\"#0000ff\" font-family=\"monospace\" font-size=\"12.00\" text-anchor=\"middle\" x=\"179.9326\" y=\"-14.9\">'3'</text>\n</g>\n<!-- n5&#45;&gt;c5 -->\n<g class=\"edge\" id=\"edge5\">\n<title>n5-&gt;c5</title>\n<path d=\"M179.9326,-72.9551C179.9326,-64.8828 179.9326,-55.1764 179.9326,-46.1817\" fill=\"none\" stroke=\"#000000\"/>\n<polygon fill=\"#000000\" points=\"183.4327,-46.0903 179.9326,-36.0904 176.4327,-46.0904 183.4327,-46.0903\" stroke=\"#000000\"/>\n</g>\n</g>\n</svg>"
          },
          "metadata": {
            "tags": []
          }
        },
        {
          "output_type": "display_data",
          "data": {
            "text/html": [
              "<b>Expression</b> 1*2+3<span style=\"background-color:#FFCACA;\"></span>"
            ],
            "text/plain": [
              "<IPython.core.display.HTML object>"
            ]
          },
          "metadata": {
            "tags": []
          }
        },
        {
          "output_type": "display_data",
          "data": {
            "text/plain": [
              "<IPython.core.display.SVG object>"
            ],
            "image/svg+xml": "<svg height=\"287pt\" viewBox=\"0.00 0.00 215.87 287.00\" width=\"216pt\" xmlns=\"http://www.w3.org/2000/svg\" xmlns:xlink=\"http://www.w3.org/1999/xlink\">\n<g class=\"graph\" id=\"graph0\" transform=\"scale(1 1) rotate(0) translate(4 283)\">\n<title>tree</title>\n<polygon fill=\"#ffffff\" points=\"-4,4 -4,-283 211.8652,-283 211.8652,4 -4,4\" stroke=\"transparent\"/>\n<!-- n1 -->\n<g class=\"node\" id=\"node1\">\n<title>n1</title>\n<ellipse cx=\"140.9326\" cy=\"-261\" fill=\"none\" rx=\"28.8653\" ry=\"18\" stroke=\"#000000\"/>\n<text fill=\"#000000\" font-family=\"Meiryo UI\" font-size=\"12.00\" text-anchor=\"middle\" x=\"140.9326\" y=\"-257.9\">#Add</text>\n</g>\n<!-- n2 -->\n<g class=\"node\" id=\"node2\">\n<title>n2</title>\n<ellipse cx=\"102.9326\" cy=\"-176\" fill=\"none\" rx=\"28.8653\" ry=\"18\" stroke=\"#000000\"/>\n<text fill=\"#000000\" font-family=\"Meiryo UI\" font-size=\"12.00\" text-anchor=\"middle\" x=\"102.9326\" y=\"-172.9\">#Mul</text>\n</g>\n<!-- n1&#45;&gt;n2 -->\n<g class=\"edge\" id=\"edge5\">\n<title>n1-&gt;n2</title>\n<path d=\"M133.059,-243.3879C127.811,-231.6491 120.8145,-215.9989 114.8849,-202.7355\" fill=\"none\" stroke=\"#000000\"/>\n<polygon fill=\"#000000\" points=\"118.0727,-201.2903 110.7961,-193.5895 111.6823,-204.1472 118.0727,-201.2903\" stroke=\"#000000\"/>\n<text fill=\"#000000\" font-family=\"Times,serif\" font-size=\"12.00\" text-anchor=\"middle\" x=\"128.4326\" y=\"-215.4\">0</text>\n</g>\n<!-- n5 -->\n<g class=\"node\" id=\"node7\">\n<title>n5</title>\n<ellipse cx=\"178.9326\" cy=\"-176\" fill=\"none\" rx=\"28.8653\" ry=\"18\" stroke=\"#000000\"/>\n<text fill=\"#000000\" font-family=\"Meiryo UI\" font-size=\"12.00\" text-anchor=\"middle\" x=\"178.9326\" y=\"-172.9\">#Int</text>\n</g>\n<!-- n1&#45;&gt;n5 -->\n<g class=\"edge\" id=\"edge7\">\n<title>n1-&gt;n5</title>\n<path d=\"M148.8062,-243.3879C154.0542,-231.6491 161.0507,-215.9989 166.9803,-202.7355\" fill=\"none\" stroke=\"#000000\"/>\n<polygon fill=\"#000000\" points=\"170.1829,-204.1472 171.0691,-193.5895 163.7925,-201.2903 170.1829,-204.1472\" stroke=\"#000000\"/>\n<text fill=\"#000000\" font-family=\"Times,serif\" font-size=\"12.00\" text-anchor=\"middle\" x=\"166.4326\" y=\"-215.4\">1</text>\n</g>\n<!-- n3 -->\n<g class=\"node\" id=\"node3\">\n<title>n3</title>\n<ellipse cx=\"28.9326\" cy=\"-91\" fill=\"none\" rx=\"28.8653\" ry=\"18\" stroke=\"#000000\"/>\n<text fill=\"#000000\" font-family=\"Meiryo UI\" font-size=\"12.00\" text-anchor=\"middle\" x=\"28.9326\" y=\"-87.9\">#Int</text>\n</g>\n<!-- n2&#45;&gt;n3 -->\n<g class=\"edge\" id=\"edge2\">\n<title>n2-&gt;n3</title>\n<path d=\"M89.0138,-160.0122C77.8509,-147.19 62.0213,-129.0073 49.4124,-114.5242\" fill=\"none\" stroke=\"#000000\"/>\n<polygon fill=\"#000000\" points=\"51.995,-112.1602 42.789,-106.9162 46.7154,-116.7566 51.995,-112.1602\" stroke=\"#000000\"/>\n<text fill=\"#000000\" font-family=\"Times,serif\" font-size=\"12.00\" text-anchor=\"middle\" x=\"74.4326\" y=\"-130.4\">0</text>\n</g>\n<!-- n4 -->\n<g class=\"node\" id=\"node5\">\n<title>n4</title>\n<ellipse cx=\"104.9326\" cy=\"-91\" fill=\"none\" rx=\"28.8653\" ry=\"18\" stroke=\"#000000\"/>\n<text fill=\"#000000\" font-family=\"Meiryo UI\" font-size=\"12.00\" text-anchor=\"middle\" x=\"104.9326\" y=\"-87.9\">#Int</text>\n</g>\n<!-- n2&#45;&gt;n4 -->\n<g class=\"edge\" id=\"edge4\">\n<title>n2-&gt;n4</title>\n<path d=\"M103.3567,-157.9737C103.6219,-146.7043 103.969,-131.9524 104.2699,-119.1627\" fill=\"none\" stroke=\"#000000\"/>\n<polygon fill=\"#000000\" points=\"107.7728,-119.0799 104.5091,-109.0003 100.7747,-118.9152 107.7728,-119.0799\" stroke=\"#000000\"/>\n<text fill=\"#000000\" font-family=\"Times,serif\" font-size=\"12.00\" text-anchor=\"middle\" x=\"108.4326\" y=\"-130.4\">1</text>\n</g>\n<!-- c3 -->\n<g class=\"node\" id=\"node4\">\n<title>c3</title>\n<polygon fill=\"none\" points=\"55.9326,-36 1.9326,-36 1.9326,0 55.9326,0 55.9326,-36\" stroke=\"#000000\"/>\n<text fill=\"#0000ff\" font-family=\"monospace\" font-size=\"12.00\" text-anchor=\"middle\" x=\"28.9326\" y=\"-14.9\">'1'</text>\n</g>\n<!-- n3&#45;&gt;c3 -->\n<g class=\"edge\" id=\"edge1\">\n<title>n3-&gt;c3</title>\n<path d=\"M28.9326,-72.9551C28.9326,-64.8828 28.9326,-55.1764 28.9326,-46.1817\" fill=\"none\" stroke=\"#000000\"/>\n<polygon fill=\"#000000\" points=\"32.4327,-46.0903 28.9326,-36.0904 25.4327,-46.0904 32.4327,-46.0903\" stroke=\"#000000\"/>\n</g>\n<!-- c4 -->\n<g class=\"node\" id=\"node6\">\n<title>c4</title>\n<polygon fill=\"none\" points=\"131.9326,-36 77.9326,-36 77.9326,0 131.9326,0 131.9326,-36\" stroke=\"#000000\"/>\n<text fill=\"#0000ff\" font-family=\"monospace\" font-size=\"12.00\" text-anchor=\"middle\" x=\"104.9326\" y=\"-14.9\">'2'</text>\n</g>\n<!-- n4&#45;&gt;c4 -->\n<g class=\"edge\" id=\"edge3\">\n<title>n4-&gt;c4</title>\n<path d=\"M104.9326,-72.9551C104.9326,-64.8828 104.9326,-55.1764 104.9326,-46.1817\" fill=\"none\" stroke=\"#000000\"/>\n<polygon fill=\"#000000\" points=\"108.4327,-46.0903 104.9326,-36.0904 101.4327,-46.0904 108.4327,-46.0903\" stroke=\"#000000\"/>\n</g>\n<!-- c5 -->\n<g class=\"node\" id=\"node8\">\n<title>c5</title>\n<polygon fill=\"none\" points=\"205.9326,-109 151.9326,-109 151.9326,-73 205.9326,-73 205.9326,-109\" stroke=\"#000000\"/>\n<text fill=\"#0000ff\" font-family=\"monospace\" font-size=\"12.00\" text-anchor=\"middle\" x=\"178.9326\" y=\"-87.9\">'3'</text>\n</g>\n<!-- n5&#45;&gt;c5 -->\n<g class=\"edge\" id=\"edge6\">\n<title>n5-&gt;c5</title>\n<path d=\"M178.9326,-157.9737C178.9326,-146.7043 178.9326,-131.9524 178.9326,-119.1627\" fill=\"none\" stroke=\"#000000\"/>\n<polygon fill=\"#000000\" points=\"182.4327,-119.0003 178.9326,-109.0003 175.4327,-119.0004 182.4327,-119.0003\" stroke=\"#000000\"/>\n</g>\n</g>\n</svg>"
          },
          "metadata": {
            "tags": []
          }
        },
        {
          "output_type": "display_data",
          "data": {
            "text/html": [
              "<b>Expression</b> 1-2-3<span style=\"background-color:#FFCACA;\"></span>"
            ],
            "text/plain": [
              "<IPython.core.display.HTML object>"
            ]
          },
          "metadata": {
            "tags": []
          }
        },
        {
          "output_type": "display_data",
          "data": {
            "text/plain": [
              "<IPython.core.display.SVG object>"
            ],
            "image/svg+xml": "<svg height=\"287pt\" viewBox=\"0.00 0.00 215.87 287.00\" width=\"216pt\" xmlns=\"http://www.w3.org/2000/svg\" xmlns:xlink=\"http://www.w3.org/1999/xlink\">\n<g class=\"graph\" id=\"graph0\" transform=\"scale(1 1) rotate(0) translate(4 283)\">\n<title>tree</title>\n<polygon fill=\"#ffffff\" points=\"-4,4 -4,-283 211.8652,-283 211.8652,4 -4,4\" stroke=\"transparent\"/>\n<!-- n1 -->\n<g class=\"node\" id=\"node1\">\n<title>n1</title>\n<ellipse cx=\"140.9326\" cy=\"-261\" fill=\"none\" rx=\"28.8653\" ry=\"18\" stroke=\"#000000\"/>\n<text fill=\"#000000\" font-family=\"Meiryo UI\" font-size=\"12.00\" text-anchor=\"middle\" x=\"140.9326\" y=\"-257.9\">#Sub</text>\n</g>\n<!-- n2 -->\n<g class=\"node\" id=\"node2\">\n<title>n2</title>\n<ellipse cx=\"102.9326\" cy=\"-176\" fill=\"none\" rx=\"28.8653\" ry=\"18\" stroke=\"#000000\"/>\n<text fill=\"#000000\" font-family=\"Meiryo UI\" font-size=\"12.00\" text-anchor=\"middle\" x=\"102.9326\" y=\"-172.9\">#Sub</text>\n</g>\n<!-- n1&#45;&gt;n2 -->\n<g class=\"edge\" id=\"edge5\">\n<title>n1-&gt;n2</title>\n<path d=\"M133.059,-243.3879C127.811,-231.6491 120.8145,-215.9989 114.8849,-202.7355\" fill=\"none\" stroke=\"#000000\"/>\n<polygon fill=\"#000000\" points=\"118.0727,-201.2903 110.7961,-193.5895 111.6823,-204.1472 118.0727,-201.2903\" stroke=\"#000000\"/>\n<text fill=\"#000000\" font-family=\"Times,serif\" font-size=\"12.00\" text-anchor=\"middle\" x=\"128.4326\" y=\"-215.4\">0</text>\n</g>\n<!-- n5 -->\n<g class=\"node\" id=\"node7\">\n<title>n5</title>\n<ellipse cx=\"178.9326\" cy=\"-176\" fill=\"none\" rx=\"28.8653\" ry=\"18\" stroke=\"#000000\"/>\n<text fill=\"#000000\" font-family=\"Meiryo UI\" font-size=\"12.00\" text-anchor=\"middle\" x=\"178.9326\" y=\"-172.9\">#Int</text>\n</g>\n<!-- n1&#45;&gt;n5 -->\n<g class=\"edge\" id=\"edge7\">\n<title>n1-&gt;n5</title>\n<path d=\"M148.8062,-243.3879C154.0542,-231.6491 161.0507,-215.9989 166.9803,-202.7355\" fill=\"none\" stroke=\"#000000\"/>\n<polygon fill=\"#000000\" points=\"170.1829,-204.1472 171.0691,-193.5895 163.7925,-201.2903 170.1829,-204.1472\" stroke=\"#000000\"/>\n<text fill=\"#000000\" font-family=\"Times,serif\" font-size=\"12.00\" text-anchor=\"middle\" x=\"166.4326\" y=\"-215.4\">1</text>\n</g>\n<!-- n3 -->\n<g class=\"node\" id=\"node3\">\n<title>n3</title>\n<ellipse cx=\"28.9326\" cy=\"-91\" fill=\"none\" rx=\"28.8653\" ry=\"18\" stroke=\"#000000\"/>\n<text fill=\"#000000\" font-family=\"Meiryo UI\" font-size=\"12.00\" text-anchor=\"middle\" x=\"28.9326\" y=\"-87.9\">#Int</text>\n</g>\n<!-- n2&#45;&gt;n3 -->\n<g class=\"edge\" id=\"edge2\">\n<title>n2-&gt;n3</title>\n<path d=\"M89.0138,-160.0122C77.8509,-147.19 62.0213,-129.0073 49.4124,-114.5242\" fill=\"none\" stroke=\"#000000\"/>\n<polygon fill=\"#000000\" points=\"51.995,-112.1602 42.789,-106.9162 46.7154,-116.7566 51.995,-112.1602\" stroke=\"#000000\"/>\n<text fill=\"#000000\" font-family=\"Times,serif\" font-size=\"12.00\" text-anchor=\"middle\" x=\"74.4326\" y=\"-130.4\">0</text>\n</g>\n<!-- n4 -->\n<g class=\"node\" id=\"node5\">\n<title>n4</title>\n<ellipse cx=\"104.9326\" cy=\"-91\" fill=\"none\" rx=\"28.8653\" ry=\"18\" stroke=\"#000000\"/>\n<text fill=\"#000000\" font-family=\"Meiryo UI\" font-size=\"12.00\" text-anchor=\"middle\" x=\"104.9326\" y=\"-87.9\">#Int</text>\n</g>\n<!-- n2&#45;&gt;n4 -->\n<g class=\"edge\" id=\"edge4\">\n<title>n2-&gt;n4</title>\n<path d=\"M103.3567,-157.9737C103.6219,-146.7043 103.969,-131.9524 104.2699,-119.1627\" fill=\"none\" stroke=\"#000000\"/>\n<polygon fill=\"#000000\" points=\"107.7728,-119.0799 104.5091,-109.0003 100.7747,-118.9152 107.7728,-119.0799\" stroke=\"#000000\"/>\n<text fill=\"#000000\" font-family=\"Times,serif\" font-size=\"12.00\" text-anchor=\"middle\" x=\"108.4326\" y=\"-130.4\">1</text>\n</g>\n<!-- c3 -->\n<g class=\"node\" id=\"node4\">\n<title>c3</title>\n<polygon fill=\"none\" points=\"55.9326,-36 1.9326,-36 1.9326,0 55.9326,0 55.9326,-36\" stroke=\"#000000\"/>\n<text fill=\"#0000ff\" font-family=\"monospace\" font-size=\"12.00\" text-anchor=\"middle\" x=\"28.9326\" y=\"-14.9\">'1'</text>\n</g>\n<!-- n3&#45;&gt;c3 -->\n<g class=\"edge\" id=\"edge1\">\n<title>n3-&gt;c3</title>\n<path d=\"M28.9326,-72.9551C28.9326,-64.8828 28.9326,-55.1764 28.9326,-46.1817\" fill=\"none\" stroke=\"#000000\"/>\n<polygon fill=\"#000000\" points=\"32.4327,-46.0903 28.9326,-36.0904 25.4327,-46.0904 32.4327,-46.0903\" stroke=\"#000000\"/>\n</g>\n<!-- c4 -->\n<g class=\"node\" id=\"node6\">\n<title>c4</title>\n<polygon fill=\"none\" points=\"131.9326,-36 77.9326,-36 77.9326,0 131.9326,0 131.9326,-36\" stroke=\"#000000\"/>\n<text fill=\"#0000ff\" font-family=\"monospace\" font-size=\"12.00\" text-anchor=\"middle\" x=\"104.9326\" y=\"-14.9\">'2'</text>\n</g>\n<!-- n4&#45;&gt;c4 -->\n<g class=\"edge\" id=\"edge3\">\n<title>n4-&gt;c4</title>\n<path d=\"M104.9326,-72.9551C104.9326,-64.8828 104.9326,-55.1764 104.9326,-46.1817\" fill=\"none\" stroke=\"#000000\"/>\n<polygon fill=\"#000000\" points=\"108.4327,-46.0903 104.9326,-36.0904 101.4327,-46.0904 108.4327,-46.0903\" stroke=\"#000000\"/>\n</g>\n<!-- c5 -->\n<g class=\"node\" id=\"node8\">\n<title>c5</title>\n<polygon fill=\"none\" points=\"205.9326,-109 151.9326,-109 151.9326,-73 205.9326,-73 205.9326,-109\" stroke=\"#000000\"/>\n<text fill=\"#0000ff\" font-family=\"monospace\" font-size=\"12.00\" text-anchor=\"middle\" x=\"178.9326\" y=\"-87.9\">'3'</text>\n</g>\n<!-- n5&#45;&gt;c5 -->\n<g class=\"edge\" id=\"edge6\">\n<title>n5-&gt;c5</title>\n<path d=\"M178.9326,-157.9737C178.9326,-146.7043 178.9326,-131.9524 178.9326,-119.1627\" fill=\"none\" stroke=\"#000000\"/>\n<polygon fill=\"#000000\" points=\"182.4327,-119.0003 178.9326,-109.0003 175.4327,-119.0004 182.4327,-119.0003\" stroke=\"#000000\"/>\n</g>\n</g>\n</svg>"
          },
          "metadata": {
            "tags": []
          }
        },
        {
          "output_type": "display_data",
          "data": {
            "text/html": [
              "<b>Expression</b> 1+2-3<span style=\"background-color:#FFCACA;\"></span>"
            ],
            "text/plain": [
              "<IPython.core.display.HTML object>"
            ]
          },
          "metadata": {
            "tags": []
          }
        },
        {
          "output_type": "display_data",
          "data": {
            "text/plain": [
              "<IPython.core.display.SVG object>"
            ],
            "image/svg+xml": "<svg height=\"287pt\" viewBox=\"0.00 0.00 215.87 287.00\" width=\"216pt\" xmlns=\"http://www.w3.org/2000/svg\" xmlns:xlink=\"http://www.w3.org/1999/xlink\">\n<g class=\"graph\" id=\"graph0\" transform=\"scale(1 1) rotate(0) translate(4 283)\">\n<title>tree</title>\n<polygon fill=\"#ffffff\" points=\"-4,4 -4,-283 211.8652,-283 211.8652,4 -4,4\" stroke=\"transparent\"/>\n<!-- n1 -->\n<g class=\"node\" id=\"node1\">\n<title>n1</title>\n<ellipse cx=\"140.9326\" cy=\"-261\" fill=\"none\" rx=\"28.8653\" ry=\"18\" stroke=\"#000000\"/>\n<text fill=\"#000000\" font-family=\"Meiryo UI\" font-size=\"12.00\" text-anchor=\"middle\" x=\"140.9326\" y=\"-257.9\">#Sub</text>\n</g>\n<!-- n2 -->\n<g class=\"node\" id=\"node2\">\n<title>n2</title>\n<ellipse cx=\"102.9326\" cy=\"-176\" fill=\"none\" rx=\"28.8653\" ry=\"18\" stroke=\"#000000\"/>\n<text fill=\"#000000\" font-family=\"Meiryo UI\" font-size=\"12.00\" text-anchor=\"middle\" x=\"102.9326\" y=\"-172.9\">#Add</text>\n</g>\n<!-- n1&#45;&gt;n2 -->\n<g class=\"edge\" id=\"edge5\">\n<title>n1-&gt;n2</title>\n<path d=\"M133.059,-243.3879C127.811,-231.6491 120.8145,-215.9989 114.8849,-202.7355\" fill=\"none\" stroke=\"#000000\"/>\n<polygon fill=\"#000000\" points=\"118.0727,-201.2903 110.7961,-193.5895 111.6823,-204.1472 118.0727,-201.2903\" stroke=\"#000000\"/>\n<text fill=\"#000000\" font-family=\"Times,serif\" font-size=\"12.00\" text-anchor=\"middle\" x=\"128.4326\" y=\"-215.4\">0</text>\n</g>\n<!-- n5 -->\n<g class=\"node\" id=\"node7\">\n<title>n5</title>\n<ellipse cx=\"178.9326\" cy=\"-176\" fill=\"none\" rx=\"28.8653\" ry=\"18\" stroke=\"#000000\"/>\n<text fill=\"#000000\" font-family=\"Meiryo UI\" font-size=\"12.00\" text-anchor=\"middle\" x=\"178.9326\" y=\"-172.9\">#Int</text>\n</g>\n<!-- n1&#45;&gt;n5 -->\n<g class=\"edge\" id=\"edge7\">\n<title>n1-&gt;n5</title>\n<path d=\"M148.8062,-243.3879C154.0542,-231.6491 161.0507,-215.9989 166.9803,-202.7355\" fill=\"none\" stroke=\"#000000\"/>\n<polygon fill=\"#000000\" points=\"170.1829,-204.1472 171.0691,-193.5895 163.7925,-201.2903 170.1829,-204.1472\" stroke=\"#000000\"/>\n<text fill=\"#000000\" font-family=\"Times,serif\" font-size=\"12.00\" text-anchor=\"middle\" x=\"166.4326\" y=\"-215.4\">1</text>\n</g>\n<!-- n3 -->\n<g class=\"node\" id=\"node3\">\n<title>n3</title>\n<ellipse cx=\"28.9326\" cy=\"-91\" fill=\"none\" rx=\"28.8653\" ry=\"18\" stroke=\"#000000\"/>\n<text fill=\"#000000\" font-family=\"Meiryo UI\" font-size=\"12.00\" text-anchor=\"middle\" x=\"28.9326\" y=\"-87.9\">#Int</text>\n</g>\n<!-- n2&#45;&gt;n3 -->\n<g class=\"edge\" id=\"edge2\">\n<title>n2-&gt;n3</title>\n<path d=\"M89.0138,-160.0122C77.8509,-147.19 62.0213,-129.0073 49.4124,-114.5242\" fill=\"none\" stroke=\"#000000\"/>\n<polygon fill=\"#000000\" points=\"51.995,-112.1602 42.789,-106.9162 46.7154,-116.7566 51.995,-112.1602\" stroke=\"#000000\"/>\n<text fill=\"#000000\" font-family=\"Times,serif\" font-size=\"12.00\" text-anchor=\"middle\" x=\"74.4326\" y=\"-130.4\">0</text>\n</g>\n<!-- n4 -->\n<g class=\"node\" id=\"node5\">\n<title>n4</title>\n<ellipse cx=\"104.9326\" cy=\"-91\" fill=\"none\" rx=\"28.8653\" ry=\"18\" stroke=\"#000000\"/>\n<text fill=\"#000000\" font-family=\"Meiryo UI\" font-size=\"12.00\" text-anchor=\"middle\" x=\"104.9326\" y=\"-87.9\">#Int</text>\n</g>\n<!-- n2&#45;&gt;n4 -->\n<g class=\"edge\" id=\"edge4\">\n<title>n2-&gt;n4</title>\n<path d=\"M103.3567,-157.9737C103.6219,-146.7043 103.969,-131.9524 104.2699,-119.1627\" fill=\"none\" stroke=\"#000000\"/>\n<polygon fill=\"#000000\" points=\"107.7728,-119.0799 104.5091,-109.0003 100.7747,-118.9152 107.7728,-119.0799\" stroke=\"#000000\"/>\n<text fill=\"#000000\" font-family=\"Times,serif\" font-size=\"12.00\" text-anchor=\"middle\" x=\"108.4326\" y=\"-130.4\">1</text>\n</g>\n<!-- c3 -->\n<g class=\"node\" id=\"node4\">\n<title>c3</title>\n<polygon fill=\"none\" points=\"55.9326,-36 1.9326,-36 1.9326,0 55.9326,0 55.9326,-36\" stroke=\"#000000\"/>\n<text fill=\"#0000ff\" font-family=\"monospace\" font-size=\"12.00\" text-anchor=\"middle\" x=\"28.9326\" y=\"-14.9\">'1'</text>\n</g>\n<!-- n3&#45;&gt;c3 -->\n<g class=\"edge\" id=\"edge1\">\n<title>n3-&gt;c3</title>\n<path d=\"M28.9326,-72.9551C28.9326,-64.8828 28.9326,-55.1764 28.9326,-46.1817\" fill=\"none\" stroke=\"#000000\"/>\n<polygon fill=\"#000000\" points=\"32.4327,-46.0903 28.9326,-36.0904 25.4327,-46.0904 32.4327,-46.0903\" stroke=\"#000000\"/>\n</g>\n<!-- c4 -->\n<g class=\"node\" id=\"node6\">\n<title>c4</title>\n<polygon fill=\"none\" points=\"131.9326,-36 77.9326,-36 77.9326,0 131.9326,0 131.9326,-36\" stroke=\"#000000\"/>\n<text fill=\"#0000ff\" font-family=\"monospace\" font-size=\"12.00\" text-anchor=\"middle\" x=\"104.9326\" y=\"-14.9\">'2'</text>\n</g>\n<!-- n4&#45;&gt;c4 -->\n<g class=\"edge\" id=\"edge3\">\n<title>n4-&gt;c4</title>\n<path d=\"M104.9326,-72.9551C104.9326,-64.8828 104.9326,-55.1764 104.9326,-46.1817\" fill=\"none\" stroke=\"#000000\"/>\n<polygon fill=\"#000000\" points=\"108.4327,-46.0903 104.9326,-36.0904 101.4327,-46.0904 108.4327,-46.0903\" stroke=\"#000000\"/>\n</g>\n<!-- c5 -->\n<g class=\"node\" id=\"node8\">\n<title>c5</title>\n<polygon fill=\"none\" points=\"205.9326,-109 151.9326,-109 151.9326,-73 205.9326,-73 205.9326,-109\" stroke=\"#000000\"/>\n<text fill=\"#0000ff\" font-family=\"monospace\" font-size=\"12.00\" text-anchor=\"middle\" x=\"178.9326\" y=\"-87.9\">'3'</text>\n</g>\n<!-- n5&#45;&gt;c5 -->\n<g class=\"edge\" id=\"edge6\">\n<title>n5-&gt;c5</title>\n<path d=\"M178.9326,-157.9737C178.9326,-146.7043 178.9326,-131.9524 178.9326,-119.1627\" fill=\"none\" stroke=\"#000000\"/>\n<polygon fill=\"#000000\" points=\"182.4327,-119.0003 178.9326,-109.0003 175.4327,-119.0004 182.4327,-119.0003\" stroke=\"#000000\"/>\n</g>\n</g>\n</svg>"
          },
          "metadata": {
            "tags": []
          }
        },
        {
          "output_type": "display_data",
          "data": {
            "text/html": [
              "<b>Name</b> x2<span style=\"background-color:#FFCACA;\"></span>"
            ],
            "text/plain": [
              "<IPython.core.display.HTML object>"
            ]
          },
          "metadata": {
            "tags": []
          }
        },
        {
          "output_type": "display_data",
          "data": {
            "text/plain": [
              "<IPython.core.display.SVG object>"
            ],
            "image/svg+xml": "<svg height=\"116pt\" viewBox=\"0.00 0.00 74.48 116.00\" width=\"74pt\" xmlns=\"http://www.w3.org/2000/svg\" xmlns:xlink=\"http://www.w3.org/1999/xlink\">\n<g class=\"graph\" id=\"graph0\" transform=\"scale(1 1) rotate(0) translate(4 112)\">\n<title>tree</title>\n<polygon fill=\"#ffffff\" points=\"-4,4 -4,-112 70.4834,-112 70.4834,4 -4,4\" stroke=\"transparent\"/>\n<!-- n1 -->\n<g class=\"node\" id=\"node1\">\n<title>n1</title>\n<ellipse cx=\"33.2417\" cy=\"-90\" fill=\"none\" rx=\"33.4852\" ry=\"18\" stroke=\"#000000\"/>\n<text fill=\"#000000\" font-family=\"Meiryo UI\" font-size=\"12.00\" text-anchor=\"middle\" x=\"33.2417\" y=\"-86.9\">#Name</text>\n</g>\n<!-- c1 -->\n<g class=\"node\" id=\"node2\">\n<title>c1</title>\n<polygon fill=\"none\" points=\"60.2417,-36 6.2417,-36 6.2417,0 60.2417,0 60.2417,-36\" stroke=\"#000000\"/>\n<text fill=\"#0000ff\" font-family=\"monospace\" font-size=\"12.00\" text-anchor=\"middle\" x=\"33.2417\" y=\"-14.9\">'x2'</text>\n</g>\n<!-- n1&#45;&gt;c1 -->\n<g class=\"edge\" id=\"edge1\">\n<title>n1-&gt;c1</title>\n<path d=\"M33.2417,-71.8314C33.2417,-64.131 33.2417,-54.9743 33.2417,-46.4166\" fill=\"none\" stroke=\"#000000\"/>\n<polygon fill=\"#000000\" points=\"36.7418,-46.4132 33.2417,-36.4133 29.7418,-46.4133 36.7418,-46.4132\" stroke=\"#000000\"/>\n</g>\n</g>\n</svg>"
          },
          "metadata": {
            "tags": []
          }
        },
        {
          "output_type": "display_data",
          "data": {
            "text/html": [
              "<b>Value</b> 0<span style=\"background-color:#FFCACA;\"></span>"
            ],
            "text/plain": [
              "<IPython.core.display.HTML object>"
            ]
          },
          "metadata": {
            "tags": []
          }
        },
        {
          "output_type": "display_data",
          "data": {
            "text/plain": [
              "<IPython.core.display.SVG object>"
            ],
            "image/svg+xml": "<svg height=\"116pt\" viewBox=\"0.00 0.00 65.87 116.00\" width=\"66pt\" xmlns=\"http://www.w3.org/2000/svg\" xmlns:xlink=\"http://www.w3.org/1999/xlink\">\n<g class=\"graph\" id=\"graph0\" transform=\"scale(1 1) rotate(0) translate(4 112)\">\n<title>tree</title>\n<polygon fill=\"#ffffff\" points=\"-4,4 -4,-112 61.8652,-112 61.8652,4 -4,4\" stroke=\"transparent\"/>\n<!-- n1 -->\n<g class=\"node\" id=\"node1\">\n<title>n1</title>\n<ellipse cx=\"28.9326\" cy=\"-90\" fill=\"none\" rx=\"28.8653\" ry=\"18\" stroke=\"#000000\"/>\n<text fill=\"#000000\" font-family=\"Meiryo UI\" font-size=\"12.00\" text-anchor=\"middle\" x=\"28.9326\" y=\"-86.9\">#Int</text>\n</g>\n<!-- c1 -->\n<g class=\"node\" id=\"node2\">\n<title>c1</title>\n<polygon fill=\"none\" points=\"55.9326,-36 1.9326,-36 1.9326,0 55.9326,0 55.9326,-36\" stroke=\"#000000\"/>\n<text fill=\"#0000ff\" font-family=\"monospace\" font-size=\"12.00\" text-anchor=\"middle\" x=\"28.9326\" y=\"-14.9\">'0'</text>\n</g>\n<!-- n1&#45;&gt;c1 -->\n<g class=\"edge\" id=\"edge1\">\n<title>n1-&gt;c1</title>\n<path d=\"M28.9326,-71.8314C28.9326,-64.131 28.9326,-54.9743 28.9326,-46.4166\" fill=\"none\" stroke=\"#000000\"/>\n<polygon fill=\"#000000\" points=\"32.4327,-46.4132 28.9326,-36.4133 25.4327,-46.4133 32.4327,-46.4132\" stroke=\"#000000\"/>\n</g>\n</g>\n</svg>"
          },
          "metadata": {
            "tags": []
          }
        },
        {
          "output_type": "display_data",
          "data": {
            "text/html": [
              "<b>Value</b> 10<span style=\"background-color:#FFCACA;\"></span>"
            ],
            "text/plain": [
              "<IPython.core.display.HTML object>"
            ]
          },
          "metadata": {
            "tags": []
          }
        },
        {
          "output_type": "display_data",
          "data": {
            "text/plain": [
              "<IPython.core.display.SVG object>"
            ],
            "image/svg+xml": "<svg height=\"116pt\" viewBox=\"0.00 0.00 65.87 116.00\" width=\"66pt\" xmlns=\"http://www.w3.org/2000/svg\" xmlns:xlink=\"http://www.w3.org/1999/xlink\">\n<g class=\"graph\" id=\"graph0\" transform=\"scale(1 1) rotate(0) translate(4 112)\">\n<title>tree</title>\n<polygon fill=\"#ffffff\" points=\"-4,4 -4,-112 61.8652,-112 61.8652,4 -4,4\" stroke=\"transparent\"/>\n<!-- n1 -->\n<g class=\"node\" id=\"node1\">\n<title>n1</title>\n<ellipse cx=\"28.9326\" cy=\"-90\" fill=\"none\" rx=\"28.8653\" ry=\"18\" stroke=\"#000000\"/>\n<text fill=\"#000000\" font-family=\"Meiryo UI\" font-size=\"12.00\" text-anchor=\"middle\" x=\"28.9326\" y=\"-86.9\">#Int</text>\n</g>\n<!-- c1 -->\n<g class=\"node\" id=\"node2\">\n<title>c1</title>\n<polygon fill=\"none\" points=\"55.9326,-36 1.9326,-36 1.9326,0 55.9326,0 55.9326,-36\" stroke=\"#000000\"/>\n<text fill=\"#0000ff\" font-family=\"monospace\" font-size=\"12.00\" text-anchor=\"middle\" x=\"28.9326\" y=\"-14.9\">'10'</text>\n</g>\n<!-- n1&#45;&gt;c1 -->\n<g class=\"edge\" id=\"edge1\">\n<title>n1-&gt;c1</title>\n<path d=\"M28.9326,-71.8314C28.9326,-64.131 28.9326,-54.9743 28.9326,-46.4166\" fill=\"none\" stroke=\"#000000\"/>\n<polygon fill=\"#000000\" points=\"32.4327,-46.4132 28.9326,-36.4133 25.4327,-46.4133 32.4327,-46.4132\" stroke=\"#000000\"/>\n</g>\n</g>\n</svg>"
          },
          "metadata": {
            "tags": []
          }
        }
      ]
    },
    {
      "cell_type": "code",
      "metadata": {
        "colab": {
          "base_uri": "https://localhost:8080/",
          "height": 421
        },
        "id": "okjIVGO9B1jI",
        "outputId": "dbbdc135-6b2a-4d17-8388-37997d10d03a"
      },
      "source": [
        "%%peg\n",
        "\n",
        "CSVFile = { Line (LF Line)* #List }\n",
        "Line = { Value (',' _ Value)* #List }\n",
        "LF = '\\r'? '\\n'  // 改行\n",
        "_ = [ \\t]*  // 空白\n",
        "\n",
        "Value = Int \n",
        "Int = {  [0-9]+ #Int }\n",
        "\n",
        "example CSVFile '''\n",
        "1,2,3\n",
        "4,5,6\n",
        "'''\n"
      ],
      "execution_count": null,
      "outputs": [
        {
          "output_type": "display_data",
          "data": {
            "text/html": [
              "<b>CSVFile</b> 1,2,3\n",
              "4,5,6<span style=\"background-color:#FFCACA;\">\n",
              "</span>"
            ],
            "text/plain": [
              "<IPython.core.display.HTML object>"
            ]
          },
          "metadata": {
            "tags": []
          }
        },
        {
          "output_type": "display_data",
          "data": {
            "text/plain": [
              "<IPython.core.display.SVG object>"
            ],
            "image/svg+xml": "<svg height=\"287pt\" viewBox=\"0.00 0.00 445.87 287.00\" width=\"446pt\" xmlns=\"http://www.w3.org/2000/svg\" xmlns:xlink=\"http://www.w3.org/1999/xlink\">\n<g class=\"graph\" id=\"graph0\" transform=\"scale(1 1) rotate(0) translate(4 283)\">\n<title>tree</title>\n<polygon fill=\"#ffffff\" points=\"-4,4 -4,-283 441.8652,-283 441.8652,4 -4,4\" stroke=\"transparent\"/>\n<!-- n1 -->\n<g class=\"node\" id=\"node1\">\n<title>n1</title>\n<ellipse cx=\"208.9326\" cy=\"-261\" fill=\"none\" rx=\"33.4852\" ry=\"18\" stroke=\"#000000\"/>\n<text fill=\"#000000\" font-family=\"Meiryo UI\" font-size=\"12.00\" text-anchor=\"middle\" x=\"208.9326\" y=\"-257.9\">#List</text>\n</g>\n<!-- n2 -->\n<g class=\"node\" id=\"node2\">\n<title>n2</title>\n<ellipse cx=\"166.9326\" cy=\"-176\" fill=\"none\" rx=\"33.4852\" ry=\"18\" stroke=\"#000000\"/>\n<text fill=\"#000000\" font-family=\"Meiryo UI\" font-size=\"12.00\" text-anchor=\"middle\" x=\"166.9326\" y=\"-172.9\">#List</text>\n</g>\n<!-- n1&#45;&gt;n2 -->\n<g class=\"edge\" id=\"edge7\">\n<title>n1-&gt;n2</title>\n<path d=\"M200.2302,-243.3879C194.4298,-231.6491 186.6968,-215.9989 180.1431,-202.7355\" fill=\"none\" stroke=\"#000000\"/>\n<polygon fill=\"#000000\" points=\"183.1917,-201.0043 175.6239,-193.5895 176.916,-204.1053 183.1917,-201.0043\" stroke=\"#000000\"/>\n<text fill=\"#000000\" font-family=\"Times,serif\" font-size=\"12.00\" text-anchor=\"middle\" x=\"194.4326\" y=\"-215.4\">0</text>\n</g>\n<!-- n6 -->\n<g class=\"node\" id=\"node9\">\n<title>n6</title>\n<ellipse cx=\"284.9326\" cy=\"-176\" fill=\"none\" rx=\"33.4852\" ry=\"18\" stroke=\"#000000\"/>\n<text fill=\"#000000\" font-family=\"Meiryo UI\" font-size=\"12.00\" text-anchor=\"middle\" x=\"284.9326\" y=\"-172.9\">#List</text>\n</g>\n<!-- n1&#45;&gt;n6 -->\n<g class=\"edge\" id=\"edge14\">\n<title>n1-&gt;n6</title>\n<path d=\"M223.5862,-244.6111C234.9412,-231.9114 250.8372,-214.133 263.6028,-199.8557\" fill=\"none\" stroke=\"#000000\"/>\n<polygon fill=\"#000000\" points=\"266.2677,-202.1262 270.324,-192.3385 261.0494,-197.4604 266.2677,-202.1262\" stroke=\"#000000\"/>\n<text fill=\"#000000\" font-family=\"Times,serif\" font-size=\"12.00\" text-anchor=\"middle\" x=\"255.4326\" y=\"-215.4\">1</text>\n</g>\n<!-- n3 -->\n<g class=\"node\" id=\"node3\">\n<title>n3</title>\n<ellipse cx=\"28.9326\" cy=\"-91\" fill=\"none\" rx=\"28.8653\" ry=\"18\" stroke=\"#000000\"/>\n<text fill=\"#000000\" font-family=\"Meiryo UI\" font-size=\"12.00\" text-anchor=\"middle\" x=\"28.9326\" y=\"-87.9\">#Int</text>\n</g>\n<!-- n2&#45;&gt;n3 -->\n<g class=\"edge\" id=\"edge2\">\n<title>n2-&gt;n3</title>\n<path d=\"M144.7605,-162.3433C121.3153,-147.9024 84.2129,-125.0495 58.3384,-109.1122\" fill=\"none\" stroke=\"#000000\"/>\n<polygon fill=\"#000000\" points=\"60.0453,-106.053 49.6953,-103.7886 56.3742,-112.0131 60.0453,-106.053\" stroke=\"#000000\"/>\n<text fill=\"#000000\" font-family=\"Times,serif\" font-size=\"12.00\" text-anchor=\"middle\" x=\"110.4326\" y=\"-130.4\">0</text>\n</g>\n<!-- n4 -->\n<g class=\"node\" id=\"node5\">\n<title>n4</title>\n<ellipse cx=\"104.9326\" cy=\"-91\" fill=\"none\" rx=\"28.8653\" ry=\"18\" stroke=\"#000000\"/>\n<text fill=\"#000000\" font-family=\"Meiryo UI\" font-size=\"12.00\" text-anchor=\"middle\" x=\"104.9326\" y=\"-87.9\">#Int</text>\n</g>\n<!-- n2&#45;&gt;n4 -->\n<g class=\"edge\" id=\"edge4\">\n<title>n2-&gt;n4</title>\n<path d=\"M154.6834,-159.2067C145.6237,-146.7862 133.1415,-129.6735 122.9465,-115.6965\" fill=\"none\" stroke=\"#000000\"/>\n<polygon fill=\"#000000\" points=\"125.6661,-113.4857 116.9454,-107.4692 120.0107,-117.6109 125.6661,-113.4857\" stroke=\"#000000\"/>\n<text fill=\"#000000\" font-family=\"Times,serif\" font-size=\"12.00\" text-anchor=\"middle\" x=\"143.4326\" y=\"-130.4\">1</text>\n</g>\n<!-- n5 -->\n<g class=\"node\" id=\"node7\">\n<title>n5</title>\n<ellipse cx=\"180.9326\" cy=\"-91\" fill=\"none\" rx=\"28.8653\" ry=\"18\" stroke=\"#000000\"/>\n<text fill=\"#000000\" font-family=\"Meiryo UI\" font-size=\"12.00\" text-anchor=\"middle\" x=\"180.9326\" y=\"-87.9\">#Int</text>\n</g>\n<!-- n2&#45;&gt;n5 -->\n<g class=\"edge\" id=\"edge6\">\n<title>n2-&gt;n5</title>\n<path d=\"M169.9016,-157.9737C171.7578,-146.7043 174.1875,-131.9524 176.294,-119.1627\" fill=\"none\" stroke=\"#000000\"/>\n<polygon fill=\"#000000\" points=\"179.7961,-119.4362 177.9678,-109.0003 172.8891,-118.2986 179.7961,-119.4362\" stroke=\"#000000\"/>\n<text fill=\"#000000\" font-family=\"Times,serif\" font-size=\"12.00\" text-anchor=\"middle\" x=\"178.4326\" y=\"-130.4\">2</text>\n</g>\n<!-- c3 -->\n<g class=\"node\" id=\"node4\">\n<title>c3</title>\n<polygon fill=\"none\" points=\"55.9326,-36 1.9326,-36 1.9326,0 55.9326,0 55.9326,-36\" stroke=\"#000000\"/>\n<text fill=\"#0000ff\" font-family=\"monospace\" font-size=\"12.00\" text-anchor=\"middle\" x=\"28.9326\" y=\"-14.9\">'1'</text>\n</g>\n<!-- n3&#45;&gt;c3 -->\n<g class=\"edge\" id=\"edge1\">\n<title>n3-&gt;c3</title>\n<path d=\"M28.9326,-72.9551C28.9326,-64.8828 28.9326,-55.1764 28.9326,-46.1817\" fill=\"none\" stroke=\"#000000\"/>\n<polygon fill=\"#000000\" points=\"32.4327,-46.0903 28.9326,-36.0904 25.4327,-46.0904 32.4327,-46.0903\" stroke=\"#000000\"/>\n</g>\n<!-- c4 -->\n<g class=\"node\" id=\"node6\">\n<title>c4</title>\n<polygon fill=\"none\" points=\"131.9326,-36 77.9326,-36 77.9326,0 131.9326,0 131.9326,-36\" stroke=\"#000000\"/>\n<text fill=\"#0000ff\" font-family=\"monospace\" font-size=\"12.00\" text-anchor=\"middle\" x=\"104.9326\" y=\"-14.9\">'2'</text>\n</g>\n<!-- n4&#45;&gt;c4 -->\n<g class=\"edge\" id=\"edge3\">\n<title>n4-&gt;c4</title>\n<path d=\"M104.9326,-72.9551C104.9326,-64.8828 104.9326,-55.1764 104.9326,-46.1817\" fill=\"none\" stroke=\"#000000\"/>\n<polygon fill=\"#000000\" points=\"108.4327,-46.0903 104.9326,-36.0904 101.4327,-46.0904 108.4327,-46.0903\" stroke=\"#000000\"/>\n</g>\n<!-- c5 -->\n<g class=\"node\" id=\"node8\">\n<title>c5</title>\n<polygon fill=\"none\" points=\"207.9326,-36 153.9326,-36 153.9326,0 207.9326,0 207.9326,-36\" stroke=\"#000000\"/>\n<text fill=\"#0000ff\" font-family=\"monospace\" font-size=\"12.00\" text-anchor=\"middle\" x=\"180.9326\" y=\"-14.9\">'3'</text>\n</g>\n<!-- n5&#45;&gt;c5 -->\n<g class=\"edge\" id=\"edge5\">\n<title>n5-&gt;c5</title>\n<path d=\"M180.9326,-72.9551C180.9326,-64.8828 180.9326,-55.1764 180.9326,-46.1817\" fill=\"none\" stroke=\"#000000\"/>\n<polygon fill=\"#000000\" points=\"184.4327,-46.0903 180.9326,-36.0904 177.4327,-46.0904 184.4327,-46.0903\" stroke=\"#000000\"/>\n</g>\n<!-- n7 -->\n<g class=\"node\" id=\"node10\">\n<title>n7</title>\n<ellipse cx=\"256.9326\" cy=\"-91\" fill=\"none\" rx=\"28.8653\" ry=\"18\" stroke=\"#000000\"/>\n<text fill=\"#000000\" font-family=\"Meiryo UI\" font-size=\"12.00\" text-anchor=\"middle\" x=\"256.9326\" y=\"-87.9\">#Int</text>\n</g>\n<!-- n6&#45;&gt;n7 -->\n<g class=\"edge\" id=\"edge9\">\n<title>n6-&gt;n7</title>\n<path d=\"M278.9945,-157.9737C275.2198,-146.5147 270.2589,-131.455 265.9976,-118.5188\" fill=\"none\" stroke=\"#000000\"/>\n<polygon fill=\"#000000\" points=\"269.2192,-117.1117 262.7661,-108.7089 262.5706,-119.3019 269.2192,-117.1117\" stroke=\"#000000\"/>\n<text fill=\"#000000\" font-family=\"Times,serif\" font-size=\"12.00\" text-anchor=\"middle\" x=\"276.4326\" y=\"-130.4\">0</text>\n</g>\n<!-- n8 -->\n<g class=\"node\" id=\"node12\">\n<title>n8</title>\n<ellipse cx=\"332.9326\" cy=\"-91\" fill=\"none\" rx=\"28.8653\" ry=\"18\" stroke=\"#000000\"/>\n<text fill=\"#000000\" font-family=\"Meiryo UI\" font-size=\"12.00\" text-anchor=\"middle\" x=\"332.9326\" y=\"-87.9\">#Int</text>\n</g>\n<!-- n6&#45;&gt;n8 -->\n<g class=\"edge\" id=\"edge11\">\n<title>n6-&gt;n8</title>\n<path d=\"M294.8782,-158.3879C301.6608,-146.3771 310.7557,-130.2716 318.3534,-116.8174\" fill=\"none\" stroke=\"#000000\"/>\n<polygon fill=\"#000000\" points=\"321.4576,-118.4381 323.3272,-108.0095 315.3624,-114.996 321.4576,-118.4381\" stroke=\"#000000\"/>\n<text fill=\"#000000\" font-family=\"Times,serif\" font-size=\"12.00\" text-anchor=\"middle\" x=\"315.4326\" y=\"-130.4\">1</text>\n</g>\n<!-- n9 -->\n<g class=\"node\" id=\"node14\">\n<title>n9</title>\n<ellipse cx=\"408.9326\" cy=\"-91\" fill=\"none\" rx=\"28.8653\" ry=\"18\" stroke=\"#000000\"/>\n<text fill=\"#000000\" font-family=\"Meiryo UI\" font-size=\"12.00\" text-anchor=\"middle\" x=\"408.9326\" y=\"-87.9\">#Int</text>\n</g>\n<!-- n6&#45;&gt;n9 -->\n<g class=\"edge\" id=\"edge13\">\n<title>n6-&gt;n9</title>\n<path d=\"M305.6874,-161.7729C326.3509,-147.6084 358.2009,-125.7758 381.0602,-110.1061\" fill=\"none\" stroke=\"#000000\"/>\n<polygon fill=\"#000000\" points=\"383.0697,-112.972 389.339,-104.4311 379.1118,-107.1983 383.0697,-112.972\" stroke=\"#000000\"/>\n<text fill=\"#000000\" font-family=\"Times,serif\" font-size=\"12.00\" text-anchor=\"middle\" x=\"358.4326\" y=\"-130.4\">2</text>\n</g>\n<!-- c7 -->\n<g class=\"node\" id=\"node11\">\n<title>c7</title>\n<polygon fill=\"none\" points=\"283.9326,-36 229.9326,-36 229.9326,0 283.9326,0 283.9326,-36\" stroke=\"#000000\"/>\n<text fill=\"#0000ff\" font-family=\"monospace\" font-size=\"12.00\" text-anchor=\"middle\" x=\"256.9326\" y=\"-14.9\">'4'</text>\n</g>\n<!-- n7&#45;&gt;c7 -->\n<g class=\"edge\" id=\"edge8\">\n<title>n7-&gt;c7</title>\n<path d=\"M256.9326,-72.9551C256.9326,-64.8828 256.9326,-55.1764 256.9326,-46.1817\" fill=\"none\" stroke=\"#000000\"/>\n<polygon fill=\"#000000\" points=\"260.4327,-46.0903 256.9326,-36.0904 253.4327,-46.0904 260.4327,-46.0903\" stroke=\"#000000\"/>\n</g>\n<!-- c8 -->\n<g class=\"node\" id=\"node13\">\n<title>c8</title>\n<polygon fill=\"none\" points=\"359.9326,-36 305.9326,-36 305.9326,0 359.9326,0 359.9326,-36\" stroke=\"#000000\"/>\n<text fill=\"#0000ff\" font-family=\"monospace\" font-size=\"12.00\" text-anchor=\"middle\" x=\"332.9326\" y=\"-14.9\">'5'</text>\n</g>\n<!-- n8&#45;&gt;c8 -->\n<g class=\"edge\" id=\"edge10\">\n<title>n8-&gt;c8</title>\n<path d=\"M332.9326,-72.9551C332.9326,-64.8828 332.9326,-55.1764 332.9326,-46.1817\" fill=\"none\" stroke=\"#000000\"/>\n<polygon fill=\"#000000\" points=\"336.4327,-46.0903 332.9326,-36.0904 329.4327,-46.0904 336.4327,-46.0903\" stroke=\"#000000\"/>\n</g>\n<!-- c9 -->\n<g class=\"node\" id=\"node15\">\n<title>c9</title>\n<polygon fill=\"none\" points=\"435.9326,-36 381.9326,-36 381.9326,0 435.9326,0 435.9326,-36\" stroke=\"#000000\"/>\n<text fill=\"#0000ff\" font-family=\"monospace\" font-size=\"12.00\" text-anchor=\"middle\" x=\"408.9326\" y=\"-14.9\">'6'</text>\n</g>\n<!-- n9&#45;&gt;c9 -->\n<g class=\"edge\" id=\"edge12\">\n<title>n9-&gt;c9</title>\n<path d=\"M408.9326,-72.9551C408.9326,-64.8828 408.9326,-55.1764 408.9326,-46.1817\" fill=\"none\" stroke=\"#000000\"/>\n<polygon fill=\"#000000\" points=\"412.4327,-46.0903 408.9326,-36.0904 405.4327,-46.0904 412.4327,-46.0903\" stroke=\"#000000\"/>\n</g>\n</g>\n</svg>"
          },
          "metadata": {
            "tags": []
          }
        }
      ]
    },
    {
      "cell_type": "markdown",
      "source": [
        "# 追加 (p. 54)"
      ],
      "metadata": {
        "id": "M80frPgse08s"
      }
    },
    {
      "cell_type": "code",
      "source": [
        "!pip install pegtree\n",
        "import pegtree as pg\n",
        "from pegtree.colab import peg, pegtree, pasm, jsonfy, jsontree\n"
      ],
      "metadata": {
        "colab": {
          "base_uri": "https://localhost:8080/"
        },
        "id": "xKfFyLN0e4HO",
        "outputId": "e1c22d19-f788-452b-be14-af0d8dfe3c41"
      },
      "execution_count": null,
      "outputs": [
        {
          "output_type": "stream",
          "name": "stdout",
          "text": [
            "Collecting pegtree\n",
            "  Downloading pegtree-0.9.16-py3-none-any.whl (159 kB)\n",
            "\u001b[K     |████████████████████████████████| 159 kB 5.2 MB/s \n",
            "\u001b[?25hInstalling collected packages: pegtree\n",
            "Successfully installed pegtree-0.9.16\n"
          ]
        }
      ]
    },
    {
      "cell_type": "code",
      "source": [
        "%%peg\n",
        "\n",
        "Data = { Int _ (Data / Int) #Pair }\n",
        "Int = { DIGIT #Int }\n",
        "DIGIT = [0-9]\n",
        "\n",
        "example Data 1 2"
      ],
      "metadata": {
        "colab": {
          "base_uri": "https://localhost:8080/",
          "height": 328
        },
        "id": "b1IUxh8MfSCj",
        "outputId": "b08d5b45-a53d-40f1-b540-b63f15383b43"
      },
      "execution_count": null,
      "outputs": [
        {
          "output_type": "display_data",
          "data": {
            "text/html": [
              "<b>Data</b> 1 2<span style=\"background-color:#FFCACA;\"></span>"
            ],
            "text/plain": [
              "<IPython.core.display.HTML object>"
            ]
          },
          "metadata": {}
        },
        {
          "output_type": "display_data",
          "data": {
            "text/plain": [
              "<IPython.core.display.SVG object>"
            ],
            "image/svg+xml": "<svg height=\"202pt\" viewBox=\"0.00 0.00 141.87 202.00\" width=\"142pt\" xmlns=\"http://www.w3.org/2000/svg\" xmlns:xlink=\"http://www.w3.org/1999/xlink\">\n<g class=\"graph\" id=\"graph0\" transform=\"scale(1 1) rotate(0) translate(4 198)\">\n<title>tree</title>\n<polygon fill=\"#ffffff\" points=\"-4,4 -4,-198 137.8652,-198 137.8652,4 -4,4\" stroke=\"transparent\"/>\n<!-- n1 -->\n<g class=\"node\" id=\"node1\">\n<title>n1</title>\n<ellipse cx=\"66.9326\" cy=\"-176\" fill=\"none\" rx=\"33.4852\" ry=\"18\" stroke=\"#000000\"/>\n<text fill=\"#000000\" font-family=\"Meiryo UI\" font-size=\"12.00\" text-anchor=\"middle\" x=\"66.9326\" y=\"-172.9\">#Pair</text>\n</g>\n<!-- n2 -->\n<g class=\"node\" id=\"node2\">\n<title>n2</title>\n<ellipse cx=\"28.9326\" cy=\"-91\" fill=\"none\" rx=\"28.8653\" ry=\"18\" stroke=\"#000000\"/>\n<text fill=\"#000000\" font-family=\"Meiryo UI\" font-size=\"12.00\" text-anchor=\"middle\" x=\"28.9326\" y=\"-87.9\">#Int</text>\n</g>\n<!-- n1&#45;&gt;n2 -->\n<g class=\"edge\" id=\"edge2\">\n<title>n1-&gt;n2</title>\n<path d=\"M59.059,-158.3879C53.811,-146.6491 46.8145,-130.9989 40.8849,-117.7355\" fill=\"none\" stroke=\"#000000\"/>\n<polygon fill=\"#000000\" points=\"44.0727,-116.2903 36.7961,-108.5895 37.6823,-119.1472 44.0727,-116.2903\" stroke=\"#000000\"/>\n<text fill=\"#000000\" font-family=\"Times,serif\" font-size=\"12.00\" text-anchor=\"middle\" x=\"54.4326\" y=\"-130.4\">0</text>\n</g>\n<!-- n3 -->\n<g class=\"node\" id=\"node4\">\n<title>n3</title>\n<ellipse cx=\"104.9326\" cy=\"-91\" fill=\"none\" rx=\"28.8653\" ry=\"18\" stroke=\"#000000\"/>\n<text fill=\"#000000\" font-family=\"Meiryo UI\" font-size=\"12.00\" text-anchor=\"middle\" x=\"104.9326\" y=\"-87.9\">#Int</text>\n</g>\n<!-- n1&#45;&gt;n3 -->\n<g class=\"edge\" id=\"edge4\">\n<title>n1-&gt;n3</title>\n<path d=\"M74.8062,-158.3879C80.0542,-146.6491 87.0507,-130.9989 92.9803,-117.7355\" fill=\"none\" stroke=\"#000000\"/>\n<polygon fill=\"#000000\" points=\"96.1829,-119.1472 97.0691,-108.5895 89.7925,-116.2903 96.1829,-119.1472\" stroke=\"#000000\"/>\n<text fill=\"#000000\" font-family=\"Times,serif\" font-size=\"12.00\" text-anchor=\"middle\" x=\"92.4326\" y=\"-130.4\">1</text>\n</g>\n<!-- c2 -->\n<g class=\"node\" id=\"node3\">\n<title>c2</title>\n<polygon fill=\"none\" points=\"55.9326,-36 1.9326,-36 1.9326,0 55.9326,0 55.9326,-36\" stroke=\"#000000\"/>\n<text fill=\"#0000ff\" font-family=\"monospace\" font-size=\"12.00\" text-anchor=\"middle\" x=\"28.9326\" y=\"-14.9\">'1'</text>\n</g>\n<!-- n2&#45;&gt;c2 -->\n<g class=\"edge\" id=\"edge1\">\n<title>n2-&gt;c2</title>\n<path d=\"M28.9326,-72.9551C28.9326,-64.8828 28.9326,-55.1764 28.9326,-46.1817\" fill=\"none\" stroke=\"#000000\"/>\n<polygon fill=\"#000000\" points=\"32.4327,-46.0903 28.9326,-36.0904 25.4327,-46.0904 32.4327,-46.0903\" stroke=\"#000000\"/>\n</g>\n<!-- c3 -->\n<g class=\"node\" id=\"node5\">\n<title>c3</title>\n<polygon fill=\"none\" points=\"131.9326,-36 77.9326,-36 77.9326,0 131.9326,0 131.9326,-36\" stroke=\"#000000\"/>\n<text fill=\"#0000ff\" font-family=\"monospace\" font-size=\"12.00\" text-anchor=\"middle\" x=\"104.9326\" y=\"-14.9\">'2'</text>\n</g>\n<!-- n3&#45;&gt;c3 -->\n<g class=\"edge\" id=\"edge3\">\n<title>n3-&gt;c3</title>\n<path d=\"M104.9326,-72.9551C104.9326,-64.8828 104.9326,-55.1764 104.9326,-46.1817\" fill=\"none\" stroke=\"#000000\"/>\n<polygon fill=\"#000000\" points=\"108.4327,-46.0903 104.9326,-36.0904 101.4327,-46.0904 108.4327,-46.0903\" stroke=\"#000000\"/>\n</g>\n</g>\n</svg>"
          },
          "metadata": {}
        }
      ]
    },
    {
      "cell_type": "code",
      "source": [
        "%%peg\n",
        "\n",
        "Data = { Int _ (Data / Int) #Pair }\n",
        "Int = { DIGIT #Int }\n",
        "DIGIT = [0-9]\n",
        "\n",
        "example Data 1 2 3"
      ],
      "metadata": {
        "colab": {
          "base_uri": "https://localhost:8080/",
          "height": 441
        },
        "id": "aaHUTqkFf2aZ",
        "outputId": "1cc033e3-947a-4dec-d4a0-db691f66313e"
      },
      "execution_count": null,
      "outputs": [
        {
          "output_type": "display_data",
          "data": {
            "text/html": [
              "<b>Data</b> 1 2 3<span style=\"background-color:#FFCACA;\"></span>"
            ],
            "text/plain": [
              "<IPython.core.display.HTML object>"
            ]
          },
          "metadata": {}
        },
        {
          "output_type": "display_data",
          "data": {
            "text/plain": [
              "<IPython.core.display.SVG object>"
            ],
            "image/svg+xml": "<svg height=\"287pt\" viewBox=\"0.00 0.00 218.87 287.00\" width=\"219pt\" xmlns=\"http://www.w3.org/2000/svg\" xmlns:xlink=\"http://www.w3.org/1999/xlink\">\n<g class=\"graph\" id=\"graph0\" transform=\"scale(1 1) rotate(0) translate(4 283)\">\n<title>tree</title>\n<polygon fill=\"#ffffff\" points=\"-4,4 -4,-283 214.8652,-283 214.8652,4 -4,4\" stroke=\"transparent\"/>\n<!-- n1 -->\n<g class=\"node\" id=\"node1\">\n<title>n1</title>\n<ellipse cx=\"68.9326\" cy=\"-261\" fill=\"none\" rx=\"33.4852\" ry=\"18\" stroke=\"#000000\"/>\n<text fill=\"#000000\" font-family=\"Meiryo UI\" font-size=\"12.00\" text-anchor=\"middle\" x=\"68.9326\" y=\"-257.9\">#Pair</text>\n</g>\n<!-- n2 -->\n<g class=\"node\" id=\"node2\">\n<title>n2</title>\n<ellipse cx=\"28.9326\" cy=\"-176\" fill=\"none\" rx=\"28.8653\" ry=\"18\" stroke=\"#000000\"/>\n<text fill=\"#000000\" font-family=\"Meiryo UI\" font-size=\"12.00\" text-anchor=\"middle\" x=\"28.9326\" y=\"-172.9\">#Int</text>\n</g>\n<!-- n1&#45;&gt;n2 -->\n<g class=\"edge\" id=\"edge2\">\n<title>n1-&gt;n2</title>\n<path d=\"M60.6446,-243.3879C55.0836,-231.5708 47.6573,-215.7901 41.3893,-202.4705\" fill=\"none\" stroke=\"#000000\"/>\n<polygon fill=\"#000000\" points=\"44.498,-200.8566 37.0731,-193.2987 38.1643,-203.8372 44.498,-200.8566\" stroke=\"#000000\"/>\n<text fill=\"#000000\" font-family=\"Times,serif\" font-size=\"12.00\" text-anchor=\"middle\" x=\"55.4326\" y=\"-215.4\">0</text>\n</g>\n<!-- n3 -->\n<g class=\"node\" id=\"node4\">\n<title>n3</title>\n<ellipse cx=\"108.9326\" cy=\"-176\" fill=\"none\" rx=\"33.4852\" ry=\"18\" stroke=\"#000000\"/>\n<text fill=\"#000000\" font-family=\"Meiryo UI\" font-size=\"12.00\" text-anchor=\"middle\" x=\"108.9326\" y=\"-172.9\">#Pair</text>\n</g>\n<!-- n1&#45;&gt;n3 -->\n<g class=\"edge\" id=\"edge7\">\n<title>n1-&gt;n3</title>\n<path d=\"M77.2206,-243.3879C82.7448,-231.6491 90.1096,-215.9989 96.3512,-202.7355\" fill=\"none\" stroke=\"#000000\"/>\n<polygon fill=\"#000000\" points=\"99.564,-204.128 100.6552,-193.5895 93.2303,-201.1474 99.564,-204.128\" stroke=\"#000000\"/>\n<text fill=\"#000000\" font-family=\"Times,serif\" font-size=\"12.00\" text-anchor=\"middle\" x=\"95.4326\" y=\"-215.4\">1</text>\n</g>\n<!-- c2 -->\n<g class=\"node\" id=\"node3\">\n<title>c2</title>\n<polygon fill=\"none\" points=\"55.9326,-109 1.9326,-109 1.9326,-73 55.9326,-73 55.9326,-109\" stroke=\"#000000\"/>\n<text fill=\"#0000ff\" font-family=\"monospace\" font-size=\"12.00\" text-anchor=\"middle\" x=\"28.9326\" y=\"-87.9\">'1'</text>\n</g>\n<!-- n2&#45;&gt;c2 -->\n<g class=\"edge\" id=\"edge1\">\n<title>n2-&gt;c2</title>\n<path d=\"M28.9326,-157.9737C28.9326,-146.7043 28.9326,-131.9524 28.9326,-119.1627\" fill=\"none\" stroke=\"#000000\"/>\n<polygon fill=\"#000000\" points=\"32.4327,-119.0003 28.9326,-109.0003 25.4327,-119.0004 32.4327,-119.0003\" stroke=\"#000000\"/>\n</g>\n<!-- n4 -->\n<g class=\"node\" id=\"node5\">\n<title>n4</title>\n<ellipse cx=\"105.9326\" cy=\"-91\" fill=\"none\" rx=\"28.8653\" ry=\"18\" stroke=\"#000000\"/>\n<text fill=\"#000000\" font-family=\"Meiryo UI\" font-size=\"12.00\" text-anchor=\"middle\" x=\"105.9326\" y=\"-87.9\">#Int</text>\n</g>\n<!-- n3&#45;&gt;n4 -->\n<g class=\"edge\" id=\"edge4\">\n<title>n3-&gt;n4</title>\n<path d=\"M108.2964,-157.9737C107.8986,-146.7043 107.378,-131.9524 106.9266,-119.1627\" fill=\"none\" stroke=\"#000000\"/>\n<polygon fill=\"#000000\" points=\"110.4185,-118.8706 106.5679,-109.0003 103.4229,-119.1176 110.4185,-118.8706\" stroke=\"#000000\"/>\n<text fill=\"#000000\" font-family=\"Times,serif\" font-size=\"12.00\" text-anchor=\"middle\" x=\"111.4326\" y=\"-130.4\">0</text>\n</g>\n<!-- n5 -->\n<g class=\"node\" id=\"node7\">\n<title>n5</title>\n<ellipse cx=\"181.9326\" cy=\"-91\" fill=\"none\" rx=\"28.8653\" ry=\"18\" stroke=\"#000000\"/>\n<text fill=\"#000000\" font-family=\"Meiryo UI\" font-size=\"12.00\" text-anchor=\"middle\" x=\"181.9326\" y=\"-87.9\">#Int</text>\n</g>\n<!-- n3&#45;&gt;n5 -->\n<g class=\"edge\" id=\"edge6\">\n<title>n3-&gt;n5</title>\n<path d=\"M123.0077,-159.6111C133.8829,-146.9483 149.0943,-129.2363 161.3377,-114.9803\" fill=\"none\" stroke=\"#000000\"/>\n<polygon fill=\"#000000\" points=\"164.2881,-116.9169 168.1482,-107.0503 158.9777,-112.3562 164.2881,-116.9169\" stroke=\"#000000\"/>\n<text fill=\"#000000\" font-family=\"Times,serif\" font-size=\"12.00\" text-anchor=\"middle\" x=\"153.4326\" y=\"-130.4\">1</text>\n</g>\n<!-- c4 -->\n<g class=\"node\" id=\"node6\">\n<title>c4</title>\n<polygon fill=\"none\" points=\"132.9326,-36 78.9326,-36 78.9326,0 132.9326,0 132.9326,-36\" stroke=\"#000000\"/>\n<text fill=\"#0000ff\" font-family=\"monospace\" font-size=\"12.00\" text-anchor=\"middle\" x=\"105.9326\" y=\"-14.9\">'2'</text>\n</g>\n<!-- n4&#45;&gt;c4 -->\n<g class=\"edge\" id=\"edge3\">\n<title>n4-&gt;c4</title>\n<path d=\"M105.9326,-72.9551C105.9326,-64.8828 105.9326,-55.1764 105.9326,-46.1817\" fill=\"none\" stroke=\"#000000\"/>\n<polygon fill=\"#000000\" points=\"109.4327,-46.0903 105.9326,-36.0904 102.4327,-46.0904 109.4327,-46.0903\" stroke=\"#000000\"/>\n</g>\n<!-- c5 -->\n<g class=\"node\" id=\"node8\">\n<title>c5</title>\n<polygon fill=\"none\" points=\"208.9326,-36 154.9326,-36 154.9326,0 208.9326,0 208.9326,-36\" stroke=\"#000000\"/>\n<text fill=\"#0000ff\" font-family=\"monospace\" font-size=\"12.00\" text-anchor=\"middle\" x=\"181.9326\" y=\"-14.9\">'3'</text>\n</g>\n<!-- n5&#45;&gt;c5 -->\n<g class=\"edge\" id=\"edge5\">\n<title>n5-&gt;c5</title>\n<path d=\"M181.9326,-72.9551C181.9326,-64.8828 181.9326,-55.1764 181.9326,-46.1817\" fill=\"none\" stroke=\"#000000\"/>\n<polygon fill=\"#000000\" points=\"185.4327,-46.0903 181.9326,-36.0904 178.4327,-46.0904 185.4327,-46.0903\" stroke=\"#000000\"/>\n</g>\n</g>\n</svg>"
          },
          "metadata": {}
        }
      ]
    }
  ]
}